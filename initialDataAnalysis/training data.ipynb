{
 "metadata": {
  "name": "",
  "signature": "sha256:6f2edadeb75d24e4bf18aa09db2d266f853054b4047a3c5a4d4ca7ed814ecdb2"
 },
 "nbformat": 3,
 "nbformat_minor": 0,
 "worksheets": [
  {
   "cells": [
    {
     "cell_type": "code",
     "collapsed": false,
     "input": [
      "import pymongo\n",
      "from pymongo import MongoClient\n",
      "import datetime\n",
      "import dateutil.parser\n",
      "import json\n",
      "import matplotlib\n",
      "import matplotlib.pyplot as plt\n",
      "import numpy as np\n",
      "import os\n",
      "import pandas as pd\n",
      "import requests\n",
      "from scipy.misc import imread\n",
      "from StringIO import StringIO\n",
      "import math\n",
      "import pytz\n",
      "import helpers as h"
     ],
     "language": "python",
     "metadata": {},
     "outputs": [],
     "prompt_number": 1
    },
    {
     "cell_type": "code",
     "collapsed": false,
     "input": [
      "SHOW_TESTS = False\n",
      "\n",
      "personNumber = 304"
     ],
     "language": "python",
     "metadata": {},
     "outputs": [],
     "prompt_number": 2
    },
    {
     "cell_type": "code",
     "collapsed": false,
     "input": [
      "%matplotlib inline\n",
      "plt.rcParams['figure.figsize'] = (20, 10)"
     ],
     "language": "python",
     "metadata": {},
     "outputs": [],
     "prompt_number": 3
    },
    {
     "cell_type": "markdown",
     "metadata": {},
     "source": [
      "# Get the data we need\n",
      "\n",
      "About the stickers, base stations and detections\n",
      "\n",
      "## Stickers\n",
      "The stickers are the locating items in the space. They are stuck to the ceiling at roughly 2m intervals."
     ]
    },
    {
     "cell_type": "code",
     "collapsed": false,
     "input": [
      "stickerLocations = h.getDFfromCSVURL(\"https://docs.google.com/spreadsheets/d/1sijQZR2iFLo2FS_3r5gbsuAkaglRz557LWjdLxnPkpE/pub?gid=0&single=true&output=csv\")\n",
      "stickerLocations.head(3)"
     ],
     "language": "python",
     "metadata": {},
     "outputs": [
      {
       "html": [
        "<div style=\"max-width:1500px;overflow:auto;\">\n",
        "<table border=\"1\" class=\"dataframe\">\n",
        "  <thead>\n",
        "    <tr style=\"text-align: right;\">\n",
        "      <th></th>\n",
        "      <th>raw</th>\n",
        "      <th>stickerID</th>\n",
        "      <th>x</th>\n",
        "      <th>y</th>\n",
        "      <th>z</th>\n",
        "    </tr>\n",
        "  </thead>\n",
        "  <tbody>\n",
        "    <tr>\n",
        "      <th>0</th>\n",
        "      <td>001,63852.0944036514,-13561.6177758844,0</td>\n",
        "      <td>1</td>\n",
        "      <td>63852.09440</td>\n",
        "      <td>-13561.617780</td>\n",
        "      <td>0</td>\n",
        "    </tr>\n",
        "    <tr>\n",
        "      <th>1</th>\n",
        "      <td>002,62985.8535853057,-11830.4604439369,0</td>\n",
        "      <td>2</td>\n",
        "      <td>62985.85359</td>\n",
        "      <td>-11830.460440</td>\n",
        "      <td>0</td>\n",
        "    </tr>\n",
        "    <tr>\n",
        "      <th>2</th>\n",
        "      <td>003,62985.8535853057,-9830.46044393688,0</td>\n",
        "      <td>3</td>\n",
        "      <td>62985.85359</td>\n",
        "      <td>-9830.460444</td>\n",
        "      <td>0</td>\n",
        "    </tr>\n",
        "  </tbody>\n",
        "</table>\n",
        "</div>"
       ],
       "metadata": {},
       "output_type": "pyout",
       "prompt_number": 4,
       "text": [
        "                                        raw  stickerID            x  \\\n",
        "0  001,63852.0944036514,-13561.6177758844,0          1  63852.09440   \n",
        "1  002,62985.8535853057,-11830.4604439369,0          2  62985.85359   \n",
        "2  003,62985.8535853057,-9830.46044393688,0          3  62985.85359   \n",
        "\n",
        "              y  z  \n",
        "0 -13561.617780  0  \n",
        "1 -11830.460440  0  \n",
        "2  -9830.460444  0  "
       ]
      }
     ],
     "prompt_number": 4
    },
    {
     "cell_type": "markdown",
     "metadata": {},
     "source": [
      "##Agent Locations"
     ]
    },
    {
     "cell_type": "code",
     "collapsed": false,
     "input": [
      "baseStationData = h.getDFfromCSVURL(\"https://docs.google.com/spreadsheets/d/167pxh_NRq5e9sQV9Zb8Z-Q-kdN7Zy9FCzCp47eVXTuE/pub?gid=1446311565&single=true&output=csv\")\n",
      "\n",
      "#only keep the columns we care about\n",
      "baseStationData = baseStationData.ix[:,0:5]\n",
      "baseStationData = baseStationData.drop([\"location\"], 1)\n",
      "baseStationData = baseStationData[baseStationData.agentId > 0] #not really sure how this works, maybe failure is falsy?\n",
      "baseStationData.head(3)"
     ],
     "language": "python",
     "metadata": {},
     "outputs": [
      {
       "html": [
        "<div style=\"max-width:1500px;overflow:auto;\">\n",
        "<table border=\"1\" class=\"dataframe\">\n",
        "  <thead>\n",
        "    <tr style=\"text-align: right;\">\n",
        "      <th></th>\n",
        "      <th>agentId</th>\n",
        "      <th>agentName</th>\n",
        "      <th>x</th>\n",
        "      <th>y</th>\n",
        "    </tr>\n",
        "  </thead>\n",
        "  <tbody>\n",
        "    <tr>\n",
        "      <th>0</th>\n",
        "      <td>00000000e5bd0ae9</td>\n",
        "      <td>Ace</td>\n",
        "      <td>2953.206017</td>\n",
        "      <td>14427.458860</td>\n",
        "    </tr>\n",
        "    <tr>\n",
        "      <th>1</th>\n",
        "      <td>000000006c1a3b5a</td>\n",
        "      <td>Alfa</td>\n",
        "      <td>3323.405966</td>\n",
        "      <td>9086.502512</td>\n",
        "    </tr>\n",
        "    <tr>\n",
        "      <th>2</th>\n",
        "      <td>0000000020294bbd</td>\n",
        "      <td>Beer</td>\n",
        "      <td>3313.076869</td>\n",
        "      <td>2665.631392</td>\n",
        "    </tr>\n",
        "  </tbody>\n",
        "</table>\n",
        "</div>"
       ],
       "metadata": {},
       "output_type": "pyout",
       "prompt_number": 5,
       "text": [
        "            agentId agentName            x             y\n",
        "0  00000000e5bd0ae9       Ace  2953.206017  14427.458860\n",
        "1  000000006c1a3b5a      Alfa  3323.405966   9086.502512\n",
        "2  0000000020294bbd      Beer  3313.076869   2665.631392"
       ]
      }
     ],
     "prompt_number": 5
    },
    {
     "cell_type": "markdown",
     "metadata": {},
     "source": [
      "##Known Locations"
     ]
    },
    {
     "cell_type": "code",
     "collapsed": false,
     "input": [
      "firstRefTry = h.getDFfromCSVURL(\"https://docs.google.com/spreadsheets/d/1uE_tUItRANypaWxCmZeXWsgFZq_JDG626v4Gg2UQfKg/pub?gid=952022876&single=true&output=csv\",\n",
      "                                columnNames=[\"stickerID\",\"xstickerID\",\"detectionType\",\"xID\",\"timeStamp\"])\n",
      "firstRefTry = firstRefTry.drop([\"xstickerID\",\"detectionType\",\"xID\"], 1)\n",
      "firstRefTry.head(3)"
     ],
     "language": "python",
     "metadata": {},
     "outputs": [
      {
       "html": [
        "<div style=\"max-width:1500px;overflow:auto;\">\n",
        "<table border=\"1\" class=\"dataframe\">\n",
        "  <thead>\n",
        "    <tr style=\"text-align: right;\">\n",
        "      <th></th>\n",
        "      <th>stickerID</th>\n",
        "      <th>timeStamp</th>\n",
        "    </tr>\n",
        "  </thead>\n",
        "  <tbody>\n",
        "    <tr>\n",
        "      <th>0</th>\n",
        "      <td>208</td>\n",
        "      <td>17/10/2016 11:23:50</td>\n",
        "    </tr>\n",
        "    <tr>\n",
        "      <th>1</th>\n",
        "      <td>207</td>\n",
        "      <td>17/10/2016 11:23:44</td>\n",
        "    </tr>\n",
        "    <tr>\n",
        "      <th>2</th>\n",
        "      <td>206</td>\n",
        "      <td>17/10/2016 11:23:38</td>\n",
        "    </tr>\n",
        "  </tbody>\n",
        "</table>\n",
        "</div>"
       ],
       "metadata": {},
       "output_type": "pyout",
       "prompt_number": 6,
       "text": [
        "   stickerID            timeStamp\n",
        "0        208  17/10/2016 11:23:50\n",
        "1        207  17/10/2016 11:23:44\n",
        "2        206  17/10/2016 11:23:38"
       ]
      }
     ],
     "prompt_number": 6
    },
    {
     "cell_type": "code",
     "collapsed": false,
     "input": [
      "url = \"https://docs.google.com/spreadsheets/d/1v20slmW6nz8GnA3u8cbWBYpTuT1UwaLHFSm8AYNNr8E/pub?gid=649191784&single=true&output=csv\"\n",
      "firstWalk = h.getDFfromCSVURL(url, columnNames=[\"stickerID\",\"xstickerID\",\"detectionType\",\"xID\",\"timeStamp\"])\n",
      "firstWalk = firstWalk.drop([\"xstickerID\",\"detectionType\",\"xID\"], 1)\n",
      "\n",
      "firstWalk.head(3)"
     ],
     "language": "python",
     "metadata": {},
     "outputs": [
      {
       "html": [
        "<div style=\"max-width:1500px;overflow:auto;\">\n",
        "<table border=\"1\" class=\"dataframe\">\n",
        "  <thead>\n",
        "    <tr style=\"text-align: right;\">\n",
        "      <th></th>\n",
        "      <th>stickerID</th>\n",
        "      <th>timeStamp</th>\n",
        "    </tr>\n",
        "  </thead>\n",
        "  <tbody>\n",
        "    <tr>\n",
        "      <th>0</th>\n",
        "      <td>88</td>\n",
        "      <td>02/11/2016 11:46:47</td>\n",
        "    </tr>\n",
        "    <tr>\n",
        "      <th>1</th>\n",
        "      <td>87</td>\n",
        "      <td>02/11/2016 11:46:43</td>\n",
        "    </tr>\n",
        "    <tr>\n",
        "      <th>2</th>\n",
        "      <td>84</td>\n",
        "      <td>02/11/2016 11:46:37</td>\n",
        "    </tr>\n",
        "  </tbody>\n",
        "</table>\n",
        "</div>"
       ],
       "metadata": {},
       "output_type": "pyout",
       "prompt_number": 7,
       "text": [
        "   stickerID            timeStamp\n",
        "0         88  02/11/2016 11:46:47\n",
        "1         87  02/11/2016 11:46:43\n",
        "2         84  02/11/2016 11:46:37"
       ]
      }
     ],
     "prompt_number": 7
    },
    {
     "cell_type": "code",
     "collapsed": false,
     "input": [
      "url = \"https://docs.google.com/spreadsheets/d/10QiLgS-oBha4mwwJlzrZb-8BZHb3MPJ7Q3FIrPuTpUA/pub?gid=1669457584&single=true&output=csv\"\n",
      "quickWalk = h.getDFfromCSVURL(url, columnNames=[\"stickerID\",\"xstickerID\",\"detectionType\",\"xID\",\"timeStamp\"])\n",
      "quickWalk = quickWalk.drop([\"xstickerID\",\"detectionType\",\"xID\"], 1)\n",
      "\n",
      "quickWalk.head(3)"
     ],
     "language": "python",
     "metadata": {},
     "outputs": [
      {
       "html": [
        "<div style=\"max-width:1500px;overflow:auto;\">\n",
        "<table border=\"1\" class=\"dataframe\">\n",
        "  <thead>\n",
        "    <tr style=\"text-align: right;\">\n",
        "      <th></th>\n",
        "      <th>stickerID</th>\n",
        "      <th>timeStamp</th>\n",
        "    </tr>\n",
        "  </thead>\n",
        "  <tbody>\n",
        "    <tr>\n",
        "      <th>0</th>\n",
        "      <td>275</td>\n",
        "      <td>06/11/2016 13:22:17</td>\n",
        "    </tr>\n",
        "    <tr>\n",
        "      <th>1</th>\n",
        "      <td>274</td>\n",
        "      <td>06/11/2016 13:22:12</td>\n",
        "    </tr>\n",
        "    <tr>\n",
        "      <th>2</th>\n",
        "      <td>273</td>\n",
        "      <td>06/11/2016 13:22:08</td>\n",
        "    </tr>\n",
        "  </tbody>\n",
        "</table>\n",
        "</div>"
       ],
       "metadata": {},
       "output_type": "pyout",
       "prompt_number": 8,
       "text": [
        "   stickerID            timeStamp\n",
        "0        275  06/11/2016 13:22:17\n",
        "1        274  06/11/2016 13:22:12\n",
        "2        273  06/11/2016 13:22:08"
       ]
      }
     ],
     "prompt_number": 8
    },
    {
     "cell_type": "code",
     "collapsed": false,
     "input": [
      "liveSet = quickWalk"
     ],
     "language": "python",
     "metadata": {},
     "outputs": [],
     "prompt_number": 9
    },
    {
     "cell_type": "markdown",
     "metadata": {},
     "source": [
      "##Give known positions time and coordinates"
     ]
    },
    {
     "cell_type": "code",
     "collapsed": false,
     "input": [
      "richStickerData = liveSet.merge(stickerLocations,on=\"stickerID\")\n",
      "richStickerData['time'] = richStickerData.apply(lambda x: h.sydTimeToUTC(dateutil.parser.parse(x.timeStamp, dayfirst=True)) , axis=1)\n",
      "richStickerData['ptime'] = richStickerData.apply(lambda x: dateutil.parser.parse(x.timeStamp, dayfirst=True) , axis=1)\n",
      "richStickerData = richStickerData.drop(['raw','z',\"timeStamp\"], 1)\n",
      "richStickerData = richStickerData.sort_values(\"time\", ascending=1)\n",
      "richStickerData.head(3)"
     ],
     "language": "python",
     "metadata": {},
     "outputs": [
      {
       "html": [
        "<div style=\"max-width:1500px;overflow:auto;\">\n",
        "<table border=\"1\" class=\"dataframe\">\n",
        "  <thead>\n",
        "    <tr style=\"text-align: right;\">\n",
        "      <th></th>\n",
        "      <th>stickerID</th>\n",
        "      <th>x</th>\n",
        "      <th>y</th>\n",
        "      <th>time</th>\n",
        "      <th>ptime</th>\n",
        "    </tr>\n",
        "  </thead>\n",
        "  <tbody>\n",
        "    <tr>\n",
        "      <th>27</th>\n",
        "      <td>72</td>\n",
        "      <td>42623.86053</td>\n",
        "      <td>29848.85705</td>\n",
        "      <td>2016-11-06 02:20:09+00:00</td>\n",
        "      <td>2016-11-06 13:20:09</td>\n",
        "    </tr>\n",
        "    <tr>\n",
        "      <th>26</th>\n",
        "      <td>73</td>\n",
        "      <td>40623.86053</td>\n",
        "      <td>29848.85705</td>\n",
        "      <td>2016-11-06 02:20:15+00:00</td>\n",
        "      <td>2016-11-06 13:20:15</td>\n",
        "    </tr>\n",
        "    <tr>\n",
        "      <th>25</th>\n",
        "      <td>52</td>\n",
        "      <td>38034.91657</td>\n",
        "      <td>28100.28274</td>\n",
        "      <td>2016-11-06 02:20:21+00:00</td>\n",
        "      <td>2016-11-06 13:20:21</td>\n",
        "    </tr>\n",
        "  </tbody>\n",
        "</table>\n",
        "</div>"
       ],
       "metadata": {},
       "output_type": "pyout",
       "prompt_number": 10,
       "text": [
        "    stickerID            x            y                      time  \\\n",
        "27         72  42623.86053  29848.85705 2016-11-06 02:20:09+00:00   \n",
        "26         73  40623.86053  29848.85705 2016-11-06 02:20:15+00:00   \n",
        "25         52  38034.91657  28100.28274 2016-11-06 02:20:21+00:00   \n",
        "\n",
        "                 ptime  \n",
        "27 2016-11-06 13:20:09  \n",
        "26 2016-11-06 13:20:15  \n",
        "25 2016-11-06 13:20:21  "
       ]
      }
     ],
     "prompt_number": 10
    },
    {
     "cell_type": "markdown",
     "metadata": {},
     "source": [
      "##Detections"
     ]
    },
    {
     "cell_type": "code",
     "collapsed": false,
     "input": [
      "#if you get an error here you need to make sure that you have the server access code one dir up from the git repo\n",
      "key = f = open('../../../key.txt', 'r').read()"
     ],
     "language": "python",
     "metadata": {},
     "outputs": [],
     "prompt_number": 11
    },
    {
     "cell_type": "code",
     "collapsed": false,
     "input": [
      "def getTrainingData(trainingDataFrame, personID=304, timePadding=1, chunkLength=5.0, chatty=True):\n",
      "    #Setup to request\n",
      "    timePadding = datetime.timedelta(seconds=timePadding)\n",
      "    url = \"http://ec2-52-65-111-92.ap-southeast-2.compute.amazonaws.com:3000\"\n",
      "    headers = {'authorization': \"Basic \" + key,\n",
      "               'content-type':  \"application/json\",\n",
      "               'cache-control': \"no-cache\"}\n",
      "    ws = (trainingDataFrame.time.min() - timePadding)\n",
      "    we = (trainingDataFrame.time.max() + timePadding)\n",
      "    windowLength = (we-ws).total_seconds()\n",
      "    chunkCount = int(math.ceil(windowLength / chunkLength)) #ceil, no harm in a bit extra\n",
      "    startTime = datetime.datetime.now()\n",
      "    if chatty:\n",
      "        print \"first detection:\", ws\n",
      "        print \"last detection: \", we\n",
      "        print \"window Length\", windowLength\n",
      "        print \"chunk Count\", chunkCount\n",
      "        print startTime, \"starting...\"\n",
      "\n",
      "    responses = []\n",
      "\n",
      "    thisws = ws\n",
      "    thiswe = ws + datetime.timedelta(seconds=chunkLength)\n",
      "    for i in range(chunkCount):\n",
      "        request = \"{}/find?minor[]={}&windowstart={}&windowend={}\".format(url, personNumber, thisws.isoformat(), thiswe.isoformat())\n",
      "\n",
      "        # print \"headers:\", headers # don't print the headers, it puts the auth into the repo\n",
      "    #     print \"url request:\", request\n",
      "\n",
      "        q=\"db.beacondetections.find({{ minor: {}, time: {{ $gt: ISODate(\\\"{}\\\"), $lt: ISODate(\\\"{}\\\") }} }} )\"\n",
      "    #     print \"db query:\", q.format(personNumber, thisws.isoformat(), thiswe.isoformat())\n",
      "\n",
      "        windowDetectionsResponse = requests.request(\"GET\", request, headers=headers)\n",
      "        if chatty:\n",
      "            print datetime.datetime.now(), windowDetectionsResponse.status_code\n",
      "\n",
      "        responses.extend(json.loads(windowDetectionsResponse.text)[u'results'][0])\n",
      "        thisws = thiswe\n",
      "        thiswe = thiswe + datetime.timedelta(seconds=chunkLength)\n",
      "    \n",
      "    responses = pd.DataFrame.from_dict(responses)\n",
      "    responses['temptime'] = responses.apply(lambda x: dateutil.parser.parse(x.time, dayfirst=True) , axis=1)\n",
      "    responses = responses.drop(['time'], 1)\n",
      "    responses = responses.rename(columns = {'temptime':'time'})\n",
      "    responses = responses.sort_values(\"time\", ascending=1)\n",
      "    return responses"
     ],
     "language": "python",
     "metadata": {},
     "outputs": [],
     "prompt_number": 12
    },
    {
     "cell_type": "code",
     "collapsed": false,
     "input": [
      "timePadding=1\n",
      "sampledDF = getTrainingData(richStickerData, timePadding=timePadding, chatty=False)\n",
      "sampledDF.head()"
     ],
     "language": "python",
     "metadata": {},
     "outputs": [
      {
       "html": [
        "<div style=\"max-width:1500px;overflow:auto;\">\n",
        "<table border=\"1\" class=\"dataframe\">\n",
        "  <thead>\n",
        "    <tr style=\"text-align: right;\">\n",
        "      <th></th>\n",
        "      <th>agentId</th>\n",
        "      <th>minor</th>\n",
        "      <th>rssi</th>\n",
        "      <th>time</th>\n",
        "    </tr>\n",
        "  </thead>\n",
        "  <tbody>\n",
        "    <tr>\n",
        "      <th>0</th>\n",
        "      <td>0000000023e614ba</td>\n",
        "      <td>304</td>\n",
        "      <td>-62</td>\n",
        "      <td>2016-11-06 02:20:08.885000+00:00</td>\n",
        "    </tr>\n",
        "    <tr>\n",
        "      <th>1</th>\n",
        "      <td>0000000013bed9f7</td>\n",
        "      <td>304</td>\n",
        "      <td>-68</td>\n",
        "      <td>2016-11-06 02:20:08.890000+00:00</td>\n",
        "    </tr>\n",
        "    <tr>\n",
        "      <th>21</th>\n",
        "      <td>00000000b6672df6</td>\n",
        "      <td>304</td>\n",
        "      <td>-84</td>\n",
        "      <td>2016-11-06 02:20:09.812000+00:00</td>\n",
        "    </tr>\n",
        "    <tr>\n",
        "      <th>5</th>\n",
        "      <td>00000000c7ce4c76</td>\n",
        "      <td>304</td>\n",
        "      <td>-89</td>\n",
        "      <td>2016-11-06 02:20:09.840000+00:00</td>\n",
        "    </tr>\n",
        "    <tr>\n",
        "      <th>15</th>\n",
        "      <td>000000000b41629a</td>\n",
        "      <td>304</td>\n",
        "      <td>-98</td>\n",
        "      <td>2016-11-06 02:20:09.840000+00:00</td>\n",
        "    </tr>\n",
        "  </tbody>\n",
        "</table>\n",
        "</div>"
       ],
       "metadata": {},
       "output_type": "pyout",
       "prompt_number": 13,
       "text": [
        "             agentId  minor  rssi                             time\n",
        "0   0000000023e614ba    304   -62 2016-11-06 02:20:08.885000+00:00\n",
        "1   0000000013bed9f7    304   -68 2016-11-06 02:20:08.890000+00:00\n",
        "21  00000000b6672df6    304   -84 2016-11-06 02:20:09.812000+00:00\n",
        "5   00000000c7ce4c76    304   -89 2016-11-06 02:20:09.840000+00:00\n",
        "15  000000000b41629a    304   -98 2016-11-06 02:20:09.840000+00:00"
       ]
      }
     ],
     "prompt_number": 13
    },
    {
     "cell_type": "code",
     "collapsed": false,
     "input": [
      "bigdf = pd.merge(sampledDF,baseStationData,on=[\"agentId\"])\n",
      "# rescale rssi between 0 and max in positive numbers. Bigger number means more powerful signal\n",
      "minPower = min(bigdf.rssi)\n",
      "bigdf['rssiAdj'] = bigdf.rssi - minPower\n",
      "\n",
      "print bigdf.shape\n",
      "bigdf.head()"
     ],
     "language": "python",
     "metadata": {},
     "outputs": [
      {
       "output_type": "stream",
       "stream": "stdout",
       "text": [
        "(864, 8)\n"
       ]
      },
      {
       "html": [
        "<div style=\"max-width:1500px;overflow:auto;\">\n",
        "<table border=\"1\" class=\"dataframe\">\n",
        "  <thead>\n",
        "    <tr style=\"text-align: right;\">\n",
        "      <th></th>\n",
        "      <th>agentId</th>\n",
        "      <th>minor</th>\n",
        "      <th>rssi</th>\n",
        "      <th>time</th>\n",
        "      <th>agentName</th>\n",
        "      <th>x</th>\n",
        "      <th>y</th>\n",
        "      <th>rssiAdj</th>\n",
        "    </tr>\n",
        "  </thead>\n",
        "  <tbody>\n",
        "    <tr>\n",
        "      <th>0</th>\n",
        "      <td>0000000023e614ba</td>\n",
        "      <td>304</td>\n",
        "      <td>-62</td>\n",
        "      <td>2016-11-06 02:20:08.885000+00:00</td>\n",
        "      <td>Johnnie</td>\n",
        "      <td>48271.72893</td>\n",
        "      <td>29623.3036</td>\n",
        "      <td>41</td>\n",
        "    </tr>\n",
        "    <tr>\n",
        "      <th>1</th>\n",
        "      <td>0000000023e614ba</td>\n",
        "      <td>304</td>\n",
        "      <td>-57</td>\n",
        "      <td>2016-11-06 02:20:09.842000+00:00</td>\n",
        "      <td>Johnnie</td>\n",
        "      <td>48271.72893</td>\n",
        "      <td>29623.3036</td>\n",
        "      <td>46</td>\n",
        "    </tr>\n",
        "    <tr>\n",
        "      <th>2</th>\n",
        "      <td>0000000023e614ba</td>\n",
        "      <td>304</td>\n",
        "      <td>-74</td>\n",
        "      <td>2016-11-06 02:20:10.798000+00:00</td>\n",
        "      <td>Johnnie</td>\n",
        "      <td>48271.72893</td>\n",
        "      <td>29623.3036</td>\n",
        "      <td>29</td>\n",
        "    </tr>\n",
        "    <tr>\n",
        "      <th>3</th>\n",
        "      <td>0000000023e614ba</td>\n",
        "      <td>304</td>\n",
        "      <td>-72</td>\n",
        "      <td>2016-11-06 02:20:16.528000+00:00</td>\n",
        "      <td>Johnnie</td>\n",
        "      <td>48271.72893</td>\n",
        "      <td>29623.3036</td>\n",
        "      <td>31</td>\n",
        "    </tr>\n",
        "    <tr>\n",
        "      <th>4</th>\n",
        "      <td>0000000023e614ba</td>\n",
        "      <td>304</td>\n",
        "      <td>-77</td>\n",
        "      <td>2016-11-06 02:20:19.384000+00:00</td>\n",
        "      <td>Johnnie</td>\n",
        "      <td>48271.72893</td>\n",
        "      <td>29623.3036</td>\n",
        "      <td>26</td>\n",
        "    </tr>\n",
        "  </tbody>\n",
        "</table>\n",
        "</div>"
       ],
       "metadata": {},
       "output_type": "pyout",
       "prompt_number": 14,
       "text": [
        "            agentId  minor  rssi                             time agentName  \\\n",
        "0  0000000023e614ba    304   -62 2016-11-06 02:20:08.885000+00:00   Johnnie   \n",
        "1  0000000023e614ba    304   -57 2016-11-06 02:20:09.842000+00:00   Johnnie   \n",
        "2  0000000023e614ba    304   -74 2016-11-06 02:20:10.798000+00:00   Johnnie   \n",
        "3  0000000023e614ba    304   -72 2016-11-06 02:20:16.528000+00:00   Johnnie   \n",
        "4  0000000023e614ba    304   -77 2016-11-06 02:20:19.384000+00:00   Johnnie   \n",
        "\n",
        "             x           y  rssiAdj  \n",
        "0  48271.72893  29623.3036       41  \n",
        "1  48271.72893  29623.3036       46  \n",
        "2  48271.72893  29623.3036       29  \n",
        "3  48271.72893  29623.3036       31  \n",
        "4  48271.72893  29623.3036       26  "
       ]
      }
     ],
     "prompt_number": 14
    },
    {
     "cell_type": "markdown",
     "metadata": {},
     "source": [
      "##Preview Walk"
     ]
    },
    {
     "cell_type": "markdown",
     "metadata": {},
     "source": [
      "I want to show only the detections in a time-window defined by halfway between the scan times.\n",
      "\n",
      "I.e. if I get to 198 at 51s, 199 at 53s, and 200 at 55s, then I should show the detections around 199 from 52s to 54s.\n",
      "\n",
      "The graph below shows that the time windows don't overlap."
     ]
    },
    {
     "cell_type": "code",
     "collapsed": false,
     "input": [
      "#build a list of times\n",
      "s = [richStickerData.time.min() - datetime.timedelta(seconds=timePadding)]#begining of time space\n",
      "m = list(richStickerData.time)                                            #all the detection times\n",
      "e = [richStickerData.time.max() + datetime.timedelta(seconds=timePadding)]#end of time space\n",
      "mt = s + m + e \n",
      "\n",
      "timeWindows = []\n",
      "for i in range(len(mt)-2): \n",
      "    #e.g. {'end': Timestamp('2016-10-17 00:21:34.500000+0000', tz='UTC'), 'i': 0, 'start': Timestamp('2016-10-17 00:21:31.500000+0000', tz='UTC')}\n",
      "    w ={\"start\": mt[i+0] + (mt[i+1] - mt[i+0])/2,\n",
      "        \"end\":   mt[i+1] + (mt[i+2] - mt[i+1])/2,\n",
      "        \"i\":i}\n",
      "    timeWindows.append(w)\n",
      "\n",
      "timeWindows = pd.DataFrame.from_dict(timeWindows)\n",
      "\n",
      "plt.title('time windows')\n",
      "for index, w in timeWindows.iterrows():\n",
      "    plt.plot([w.start, w.end], [w.i, w.i])\n",
      "plt.gcf().autofmt_xdate()\n",
      "plt.show()"
     ],
     "language": "python",
     "metadata": {},
     "outputs": [
      {
       "metadata": {},
       "output_type": "display_data",
       "png": "[encoded data removed]",
       "text": [
        "<matplotlib.figure.Figure at 0x7f01d85ff0d0>"
       ]
      }
     ],
     "prompt_number": 15
    },
    {
     "cell_type": "code",
     "collapsed": false,
     "input": [
      "timeWindows.tail()"
     ],
     "language": "python",
     "metadata": {},
     "outputs": [
      {
       "html": [
        "<div style=\"max-width:1500px;overflow:auto;\">\n",
        "<table border=\"1\" class=\"dataframe\">\n",
        "  <thead>\n",
        "    <tr style=\"text-align: right;\">\n",
        "      <th></th>\n",
        "      <th>end</th>\n",
        "      <th>i</th>\n",
        "      <th>start</th>\n",
        "    </tr>\n",
        "  </thead>\n",
        "  <tbody>\n",
        "    <tr>\n",
        "      <th>23</th>\n",
        "      <td>2016-11-06 02:22:02+00:00</td>\n",
        "      <td>23</td>\n",
        "      <td>2016-11-06 02:21:57.500000+00:00</td>\n",
        "    </tr>\n",
        "    <tr>\n",
        "      <th>24</th>\n",
        "      <td>2016-11-06 02:22:06+00:00</td>\n",
        "      <td>24</td>\n",
        "      <td>2016-11-06 02:22:02+00:00</td>\n",
        "    </tr>\n",
        "    <tr>\n",
        "      <th>25</th>\n",
        "      <td>2016-11-06 02:22:10+00:00</td>\n",
        "      <td>25</td>\n",
        "      <td>2016-11-06 02:22:06+00:00</td>\n",
        "    </tr>\n",
        "    <tr>\n",
        "      <th>26</th>\n",
        "      <td>2016-11-06 02:22:14.500000+00:00</td>\n",
        "      <td>26</td>\n",
        "      <td>2016-11-06 02:22:10+00:00</td>\n",
        "    </tr>\n",
        "    <tr>\n",
        "      <th>27</th>\n",
        "      <td>2016-11-06 02:22:17.500000+00:00</td>\n",
        "      <td>27</td>\n",
        "      <td>2016-11-06 02:22:14.500000+00:00</td>\n",
        "    </tr>\n",
        "  </tbody>\n",
        "</table>\n",
        "</div>"
       ],
       "metadata": {},
       "output_type": "pyout",
       "prompt_number": 16,
       "text": [
        "                                end   i                            start\n",
        "23        2016-11-06 02:22:02+00:00  23 2016-11-06 02:21:57.500000+00:00\n",
        "24        2016-11-06 02:22:06+00:00  24        2016-11-06 02:22:02+00:00\n",
        "25        2016-11-06 02:22:10+00:00  25        2016-11-06 02:22:06+00:00\n",
        "26 2016-11-06 02:22:14.500000+00:00  26        2016-11-06 02:22:10+00:00\n",
        "27 2016-11-06 02:22:17.500000+00:00  27 2016-11-06 02:22:14.500000+00:00"
       ]
      }
     ],
     "prompt_number": 16
    },
    {
     "cell_type": "code",
     "collapsed": false,
     "input": [
      "def timeSliced(timeWindow, df, savePlace, contextDF):\n",
      "    df = h.timeCropDf(df, timeWindow.start, (timeWindow.end - timeWindow.start).total_seconds() )\n",
      "\n",
      "    fig, ax = plt.subplots()\n",
      "    \n",
      "    timeFormatString = \"%H:%M:%S\"\n",
      "    title = \"Detections for person {} from {} to {}\".format(personNumber, \n",
      "                                                            timeWindow.start.strftime(timeFormatString), \n",
      "                                                            timeWindow.end.strftime(timeFormatString))\n",
      "    plt.title(title)\n",
      "    \n",
      "    #the sticker labels\n",
      "    for row in contextDF.iterrows():\n",
      "        row = row[1] #BS indexing\n",
      "        ax.text(row.x, row.y, \"{0:03d}\".format(row.stickerID), fontsize=8)\n",
      "    \n",
      "    #sticker dots\n",
      "    ax.scatter(contextDF.x, contextDF.y, zorder=20)\n",
      "    \n",
      "    #the path\n",
      "    ax.plot(contextDF.x, contextDF.y, alpha=0.7, linewidth=1, c=\"g\", solid_capstyle='round')\n",
      "    \n",
      "    # Plot all the detections onto the map as pale circles\n",
      "    ax.scatter(df.x, df.y, zorder=1, s=abs(df.rssiAdj)*100, alpha=0.2)\n",
      "    \n",
      "    #plot the current window's dot bigger\n",
      "    ax.scatter(contextDF.iloc[timeWindow.i].x, \n",
      "               contextDF.iloc[timeWindow.i].y, \n",
      "               zorder=30, s=150, c=\"r\")\n",
      "    \n",
      "    #put the image on the graph as an underlay\n",
      "    img = imread(\"map.png\")\n",
      "    ax.imshow(img, zorder=0, extent=[-1300, 72000, -24000, 41000])\n",
      "    #                                [left,  right, bottom, top  ]\n",
      "    \n",
      "    #put the baseStations on the map \n",
      "    for index, row in baseStationData.iterrows():\n",
      "        ax.text(row.x, row.y, row.agentName, fontsize=8)\n",
      "    ax.scatter(baseStationData.x,baseStationData.y, marker='+')\n",
      "    \n",
      "    #Hide the axis numbers because they don't tell us much\n",
      "    ax.xaxis.set_major_formatter(plt.NullFormatter())\n",
      "    ax.yaxis.set_major_formatter(plt.NullFormatter())\n",
      "    \n",
      "#     plt.show() #don't show, we need to save\n",
      "    fig.savefig(savePlace+\"foo\"+str(timeWindow.start.strftime(timeFormatString))+\".png\", bbox_inches='tight')\n",
      "    fig.clf()\n",
      "    plt.close()\n",
      "\n",
      "\n",
      "savePlace = 'frames/test1/'\n",
      "h.clearFolder(\"/\"+savePlace)\n",
      "#this takes quite a long time if you have a lot of frames\n",
      "startStopwatch = datetime.datetime.now()\n",
      "\n",
      "for index, w in timeWindows.iterrows():\n",
      "    timeSliced(w, bigdf, savePlace, richStickerData)\n",
      "\n",
      "print \"That took\", datetime.datetime.now() - startStopwatch"
     ],
     "language": "python",
     "metadata": {},
     "outputs": [
      {
       "output_type": "stream",
       "stream": "stdout",
       "text": [
        "That took 0:00:15.048777\n"
       ]
      }
     ],
     "prompt_number": 17
    },
    {
     "cell_type": "code",
     "collapsed": false,
     "input": [
      "h.makeGif(savePlace + \"*.png\", \"SampleWalk2\")"
     ],
     "language": "python",
     "metadata": {},
     "outputs": [
      {
       "output_type": "stream",
       "stream": "stdout",
       "text": [
        "convert -delay 20 -loop 0 frames/test1/*.png SampleWalk2.gif\n"
       ]
      }
     ],
     "prompt_number": 18
    },
    {
     "cell_type": "markdown",
     "metadata": {},
     "source": [
      "##straight path\n",
      "\n",
      "![](SampleWalk1.gif)"
     ]
    },
    {
     "cell_type": "markdown",
     "metadata": {},
     "source": [
      "##not straight path\n",
      "![](SampleWalk2.gif)"
     ]
    }
   ],
   "metadata": {}
  }
 ]
}