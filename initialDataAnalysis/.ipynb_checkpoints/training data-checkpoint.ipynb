{
 "metadata": {
  "name": "",
  "signature": "sha256:8b8bf2c2e57c92b83d12e70e16439d2627490dff0bd565cc94824bb8f2231dbc"
 },
 "nbformat": 3,
 "nbformat_minor": 0,
 "worksheets": [
  {
   "cells": [
    {
     "cell_type": "code",
     "collapsed": false,
     "input": [
      "import pymongo\n",
      "from pymongo import MongoClient\n",
      "import datetime\n",
      "import dateutil.parser\n",
      "import json\n",
      "import matplotlib\n",
      "import matplotlib.pyplot as plt\n",
      "import numpy as np\n",
      "import os\n",
      "import pandas as pd\n",
      "import requests\n",
      "from scipy.misc import imread\n",
      "from StringIO import StringIO\n",
      "import math\n",
      "import pytz\n",
      "import helpers as h\n",
      "# Since I moved most of the functions into their own file I haven't cleaned up the imports section. \n",
      "# There is probably unused imports here, but I'd imagine that it's not too much of a problem."
     ],
     "language": "python",
     "metadata": {},
     "outputs": [],
     "prompt_number": 1
    },
    {
     "cell_type": "code",
     "collapsed": false,
     "input": [
      "%matplotlib inline\n",
      "plt.rcParams['figure.figsize'] = (20, 10)"
     ],
     "language": "python",
     "metadata": {},
     "outputs": [],
     "prompt_number": 2
    },
    {
     "cell_type": "markdown",
     "metadata": {},
     "source": [
      "# Get the data we need\n",
      "\n",
      "To do this analysis, we need to know about the stickers, base stations and detections.\n",
      "\n",
      "Stickers and base stations are static data, they live in google spreadsheets.\n",
      "\n",
      "Detections is from the MongoDB database.\n",
      "\n",
      "## Stickers\n",
      "The stickers are the locating items in the space. They are stuck to the ceiling at roughly 2m intervals.\n",
      "\n",
      "TODO: put in the gif of me putting up a sticker and an image of one.\n",
      "\n",
      "They have a QR code on them, so they can be scaned with a phone. That gives us a time stamp and a location.\n",
      "\n",
      "In future we should be able to get orientation and position in field of view because QR codes have a top."
     ]
    },
    {
     "cell_type": "code",
     "collapsed": false,
     "input": [
      "stickerLocations = h.getDFfromCSVURL(\"https://docs.google.com/spreadsheets/d/1sijQZR2iFLo2FS_3r5gbsuAkaglRz557LWjdLxnPkpE/pub?gid=0&single=true&output=csv\")\n",
      "stickerLocations = stickerLocations.drop([\"z\"], 1) # this is just because we aren't on multiple floors\n",
      "stickerLocations.head(3)"
     ],
     "language": "python",
     "metadata": {},
     "outputs": [
      {
       "html": [
        "<div style=\"max-width:1500px;overflow:auto;\">\n",
        "<table border=\"1\" class=\"dataframe\">\n",
        "  <thead>\n",
        "    <tr style=\"text-align: right;\">\n",
        "      <th></th>\n",
        "      <th>raw</th>\n",
        "      <th>stickerID</th>\n",
        "      <th>x</th>\n",
        "      <th>y</th>\n",
        "    </tr>\n",
        "  </thead>\n",
        "  <tbody>\n",
        "    <tr>\n",
        "      <th>0</th>\n",
        "      <td>001,63852.0944036514,-13561.6177758844,0</td>\n",
        "      <td>1</td>\n",
        "      <td>63852.09440</td>\n",
        "      <td>-13561.617780</td>\n",
        "    </tr>\n",
        "    <tr>\n",
        "      <th>1</th>\n",
        "      <td>002,62985.8535853057,-11830.4604439369,0</td>\n",
        "      <td>2</td>\n",
        "      <td>62985.85359</td>\n",
        "      <td>-11830.460440</td>\n",
        "    </tr>\n",
        "    <tr>\n",
        "      <th>2</th>\n",
        "      <td>003,62985.8535853057,-9830.46044393688,0</td>\n",
        "      <td>3</td>\n",
        "      <td>62985.85359</td>\n",
        "      <td>-9830.460444</td>\n",
        "    </tr>\n",
        "  </tbody>\n",
        "</table>\n",
        "</div>"
       ],
       "metadata": {},
       "output_type": "pyout",
       "prompt_number": 3,
       "text": [
        "                                        raw  stickerID            x  \\\n",
        "0  001,63852.0944036514,-13561.6177758844,0          1  63852.09440   \n",
        "1  002,62985.8535853057,-11830.4604439369,0          2  62985.85359   \n",
        "2  003,62985.8535853057,-9830.46044393688,0          3  62985.85359   \n",
        "\n",
        "              y  \n",
        "0 -13561.617780  \n",
        "1 -11830.460440  \n",
        "2  -9830.460444  "
       ]
      }
     ],
     "prompt_number": 3
    },
    {
     "cell_type": "markdown",
     "metadata": {},
     "source": [
      "##Base Station (Agent) Locations\n",
      "\n",
      "We use the term agent and base station interchangably at the moment. In the future we will probably use agent to mean a simulated occupant, so expect to see base station used more.\n",
      "\n",
      "TODO: put in a base image\n",
      "\n",
      "These are the Raspberry Pi computers that recieve the beacon packets."
     ]
    },
    {
     "cell_type": "code",
     "collapsed": false,
     "input": [
      "baseStationData = h.getDFfromCSVURL(\"https://docs.google.com/spreadsheets/d/167pxh_NRq5e9sQV9Zb8Z-Q-kdN7Zy9FCzCp47eVXTuE/pub?gid=1446311565&single=true&output=csv\")\n",
      "\n",
      "#only keep the columns we care about\n",
      "baseStationData = baseStationData.ix[:,0:5]\n",
      "baseStationData = baseStationData.drop([\"location\"], 1)\n",
      "baseStationData = baseStationData[baseStationData.agentId > 0] #not really sure how this works, maybe failure is falsy?\n",
      "baseStationData.head(3)"
     ],
     "language": "python",
     "metadata": {},
     "outputs": [
      {
       "html": [
        "<div style=\"max-width:1500px;overflow:auto;\">\n",
        "<table border=\"1\" class=\"dataframe\">\n",
        "  <thead>\n",
        "    <tr style=\"text-align: right;\">\n",
        "      <th></th>\n",
        "      <th>agentId</th>\n",
        "      <th>agentName</th>\n",
        "      <th>x</th>\n",
        "      <th>y</th>\n",
        "    </tr>\n",
        "  </thead>\n",
        "  <tbody>\n",
        "    <tr>\n",
        "      <th>0</th>\n",
        "      <td>00000000e5bd0ae9</td>\n",
        "      <td>Ace</td>\n",
        "      <td>2953.206017</td>\n",
        "      <td>14427.458860</td>\n",
        "    </tr>\n",
        "    <tr>\n",
        "      <th>1</th>\n",
        "      <td>000000006c1a3b5a</td>\n",
        "      <td>Alfa</td>\n",
        "      <td>3323.405966</td>\n",
        "      <td>9086.502512</td>\n",
        "    </tr>\n",
        "    <tr>\n",
        "      <th>2</th>\n",
        "      <td>0000000020294bbd</td>\n",
        "      <td>Beer</td>\n",
        "      <td>3313.076869</td>\n",
        "      <td>2665.631392</td>\n",
        "    </tr>\n",
        "  </tbody>\n",
        "</table>\n",
        "</div>"
       ],
       "metadata": {},
       "output_type": "pyout",
       "prompt_number": 4,
       "text": [
        "            agentId agentName            x             y\n",
        "0  00000000e5bd0ae9       Ace  2953.206017  14427.458860\n",
        "1  000000006c1a3b5a      Alfa  3323.405966   9086.502512\n",
        "2  0000000020294bbd      Beer  3313.076869   2665.631392"
       ]
      }
     ],
     "prompt_number": 4
    },
    {
     "cell_type": "markdown",
     "metadata": {},
     "source": [
      "##Known Locations\n",
      "\n",
      "These are generated by me walking around wearing my badge. I scan each sticker as I pass under it. Because the stickers are so close, it's hard for me to take an ambiguous route between them.\n",
      "\n",
      "The data sets here are test sets. \n",
      "\n",
      "TODO: replace these test sets with a series of 5 minute journeys in an array of URLs."
     ]
    },
    {
     "cell_type": "code",
     "collapsed": false,
     "input": [
      "def getSampleWalkData(url):\n",
      "    firstRefTry = h.getDFfromCSVURL(url, columnNames=[\"stickerID\",\"xstickerID\",\"detectionType\",\"xID\",\"timeStamp\"])\n",
      "    return firstRefTry.drop([\"xstickerID\",\"detectionType\",\"xID\"], 1)"
     ],
     "language": "python",
     "metadata": {},
     "outputs": [],
     "prompt_number": 5
    },
    {
     "cell_type": "code",
     "collapsed": false,
     "input": [
      "trainingWalkURLs = [\n",
      " \"https://docs.google.com/spreadsheets/d/1uE_tUItRANypaWxCmZeXWsgFZq_JDG626v4Gg2UQfKg/pub?gid=952022876&single=true&output=csv\",\n",
      " \"https://docs.google.com/spreadsheets/d/1v20slmW6nz8GnA3u8cbWBYpTuT1UwaLHFSm8AYNNr8E/pub?gid=649191784&single=true&output=csv\",\n",
      " \"https://docs.google.com/spreadsheets/d/10QiLgS-oBha4mwwJlzrZb-8BZHb3MPJ7Q3FIrPuTpUA/pub?gid=1669457584&single=true&output=csv\",\n",
      " \"https://docs.google.com/spreadsheets/d/1bU-juDRDXl0mVWGCsPvTppaOf7td51R2cP1P6kxjAk4/pub?gid=1291732418&single=true&output=csv\",\n",
      " \"https://docs.google.com/spreadsheets/d/12YyeEIds7RSKfF1NVLqy3x8F_hidV3lhNwfsJ8UuBRE/pub?gid=2131252797&single=true&output=csv\"\n",
      "]"
     ],
     "language": "python",
     "metadata": {},
     "outputs": [],
     "prompt_number": 6
    },
    {
     "cell_type": "markdown",
     "metadata": {},
     "source": [
      "##Get the data and format it ready for use\n",
      "\n",
      "Get all the data from the spreadsheets.\n",
      "\n",
      "Give known positions time and coordinates\n",
      "\n",
      "To make things easier to process later I've joined the coords to the sticker detections"
     ]
    },
    {
     "cell_type": "code",
     "collapsed": false,
     "input": [
      "trainingWalks = []\n",
      "for i, twURL in enumerate(trainingWalkURLs):\n",
      "    thisData = getSampleWalkData(twURL)\n",
      "    richStickerData = thisData.merge(stickerLocations,on=\"stickerID\")\n",
      "    richStickerData['time'] = richStickerData.apply(lambda x: h.sydTimeToUTC(dateutil.parser.parse(x.timeStamp, dayfirst=True)) , axis=1)\n",
      "    richStickerData['sydtime'] = richStickerData.apply(lambda x: dateutil.parser.parse(x.timeStamp, dayfirst=True) , axis=1)\n",
      "    richStickerData = richStickerData.drop(['raw',\"timeStamp\"], 1)\n",
      "    richStickerData = richStickerData.sort_values(\"time\", ascending=1)\n",
      "\n",
      "    print \"{}: {} TO {} ({}) {} rows\".format(i,richStickerData.time.min(), \n",
      "                                 richStickerData.time.max(), \n",
      "                                 richStickerData.time.max() - richStickerData.time.min(),\n",
      "                                 richStickerData.shape[0])\n",
      "    \n",
      "    trainingWalks.append(richStickerData)\n",
      "    \n"
     ],
     "language": "python",
     "metadata": {},
     "outputs": [
      {
       "output_type": "stream",
       "stream": "stdout",
       "text": [
        "0: 2016-10-17 00:21:32+00:00 TO 2016-10-17 00:23:50+00:00 (0 days 00:02:18) 23 rows\n",
        "1: 2016-11-02 00:28:58+00:00 TO 2016-11-02 00:46:47+00:00 (0 days 00:17:49) 221 rows"
       ]
      },
      {
       "output_type": "stream",
       "stream": "stdout",
       "text": [
        "\n",
        "2: 2016-11-06 02:20:09+00:00 TO 2016-11-06 02:22:17+00:00 (0 days 00:02:08) 28 rows"
       ]
      },
      {
       "output_type": "stream",
       "stream": "stdout",
       "text": [
        "\n",
        "3: 2016-11-12 04:31:04+00:00 TO 2016-11-12 04:51:12+00:00 (0 days 00:20:08) 231 rows"
       ]
      },
      {
       "output_type": "stream",
       "stream": "stdout",
       "text": [
        "\n",
        "4: 2016-11-09 05:13:43+00:00 TO 2016-11-09 05:20:47+00:00 (0 days 00:07:04) 76 rows"
       ]
      },
      {
       "output_type": "stream",
       "stream": "stdout",
       "text": [
        "\n"
       ]
      }
     ],
     "prompt_number": 7
    },
    {
     "cell_type": "code",
     "collapsed": false,
     "input": [],
     "language": "python",
     "metadata": {},
     "outputs": [],
     "prompt_number": 7
    },
    {
     "cell_type": "code",
     "collapsed": false,
     "input": [
      "liveSet = trainingWalks[3]"
     ],
     "language": "python",
     "metadata": {},
     "outputs": [],
     "prompt_number": 9
    },
    {
     "cell_type": "code",
     "collapsed": false,
     "input": [
      "liveSet[3].head()"
     ],
     "language": "python",
     "metadata": {},
     "outputs": [
      {
       "html": [
        "<div style=\"max-width:1500px;overflow:auto;\">\n",
        "<table border=\"1\" class=\"dataframe\">\n",
        "  <thead>\n",
        "    <tr style=\"text-align: right;\">\n",
        "      <th></th>\n",
        "      <th>stickerID</th>\n",
        "      <th>x</th>\n",
        "      <th>y</th>\n",
        "      <th>time</th>\n",
        "      <th>sydtime</th>\n",
        "    </tr>\n",
        "  </thead>\n",
        "  <tbody>\n",
        "    <tr>\n",
        "      <th>230</th>\n",
        "      <td>163</td>\n",
        "      <td>37113.33215</td>\n",
        "      <td>14324.312730</td>\n",
        "      <td>2016-11-12 04:31:04+00:00</td>\n",
        "      <td>2016-11-12 15:31:04</td>\n",
        "    </tr>\n",
        "    <tr>\n",
        "      <th>229</th>\n",
        "      <td>162</td>\n",
        "      <td>37113.33215</td>\n",
        "      <td>12324.312730</td>\n",
        "      <td>2016-11-12 04:31:09+00:00</td>\n",
        "      <td>2016-11-12 15:31:09</td>\n",
        "    </tr>\n",
        "    <tr>\n",
        "      <th>228</th>\n",
        "      <td>161</td>\n",
        "      <td>37113.33215</td>\n",
        "      <td>10324.312730</td>\n",
        "      <td>2016-11-12 04:31:14+00:00</td>\n",
        "      <td>2016-11-12 15:31:14</td>\n",
        "    </tr>\n",
        "    <tr>\n",
        "      <th>227</th>\n",
        "      <td>160</td>\n",
        "      <td>37113.33215</td>\n",
        "      <td>8324.312731</td>\n",
        "      <td>2016-11-12 04:31:18+00:00</td>\n",
        "      <td>2016-11-12 15:31:18</td>\n",
        "    </tr>\n",
        "    <tr>\n",
        "      <th>226</th>\n",
        "      <td>159</td>\n",
        "      <td>36875.44152</td>\n",
        "      <td>6455.449251</td>\n",
        "      <td>2016-11-12 04:31:26+00:00</td>\n",
        "      <td>2016-11-12 15:31:26</td>\n",
        "    </tr>\n",
        "  </tbody>\n",
        "</table>\n",
        "</div>"
       ],
       "metadata": {},
       "output_type": "pyout",
       "prompt_number": 8,
       "text": [
        "     stickerID            x             y                      time  \\\n",
        "230        163  37113.33215  14324.312730 2016-11-12 04:31:04+00:00   \n",
        "229        162  37113.33215  12324.312730 2016-11-12 04:31:09+00:00   \n",
        "228        161  37113.33215  10324.312730 2016-11-12 04:31:14+00:00   \n",
        "227        160  37113.33215   8324.312731 2016-11-12 04:31:18+00:00   \n",
        "226        159  36875.44152   6455.449251 2016-11-12 04:31:26+00:00   \n",
        "\n",
        "                sydtime  \n",
        "230 2016-11-12 15:31:04  \n",
        "229 2016-11-12 15:31:09  \n",
        "228 2016-11-12 15:31:14  \n",
        "227 2016-11-12 15:31:18  \n",
        "226 2016-11-12 15:31:26  "
       ]
      }
     ],
     "prompt_number": 8
    },
    {
     "cell_type": "markdown",
     "metadata": {},
     "source": [
      "##Detections\n",
      "\n",
      "This is to get the detection data associated with each journey. This was a _huge_ struggle to get. There is so much data that most attempts failed. It was solved by shaving five second slices off the data. Any more than that and the server choked. I'm not sure why, the data returns from queries on the server, but 5s worth returns almost immediatly, but more times out."
     ]
    },
    {
     "cell_type": "code",
     "collapsed": false,
     "input": [
      "import signal\n",
      "import sys\n",
      "\n",
      "class timeout:\n",
      "    def __init__(self, seconds=1, error_message='Timeout'):\n",
      "        self.seconds = seconds\n",
      "        self.error_message = error_message\n",
      "    def handle_timeout(self, signum, frame):\n",
      "        raise TimeoutError(self.error_message)\n",
      "    def __enter__(self):\n",
      "        signal.signal(signal.SIGALRM, self.handle_timeout)\n",
      "        signal.alarm(self.seconds)\n",
      "    def __exit__(self, type, value, traceback):\n",
      "        signal.alarm(0)       "
     ],
     "language": "python",
     "metadata": {},
     "outputs": [],
     "prompt_number": 10
    },
    {
     "cell_type": "code",
     "collapsed": false,
     "input": [
      "def getTrainingData(trainingDataFrame, personID=304, timePadding=1, chunkLength=5.0, chatty=True):\n",
      "    failures = [0]\n",
      "    def robustRequest(request, headers, tries=10, timeoutSeconds=20):    \n",
      "        response = False\n",
      "        with timeout(seconds=timeoutSeconds):\n",
      "            for i in range(tries):\n",
      "                if not response:\n",
      "                    try:\n",
      "                        response = requests.request(\"GET\", request, headers=headers)\n",
      "                    except:\n",
      "                        if i == tries-1:\n",
      "                            failures[0] += 1\n",
      "                            print \"failed {} times\".format(i+1), sys.exc_info()[1]\n",
      "\n",
      "        return response\n",
      "    \n",
      "    #Setup to request\n",
      "    timePadding = datetime.timedelta(seconds=timePadding)\n",
      "    url = \"http://ec2-52-65-111-92.ap-southeast-2.compute.amazonaws.com:3000\"\n",
      "    headers = {'authorization': \"Basic \",# + key,\n",
      "               'content-type':  \"application/json\",\n",
      "               'cache-control': \"no-cache\"}\n",
      "    ws = (trainingDataFrame.time.min() - timePadding)\n",
      "    we = (trainingDataFrame.time.max() + timePadding)\n",
      "    windowLength = (we-ws).total_seconds()\n",
      "    chunkCount = int(math.ceil(windowLength / chunkLength)) #ceil, no harm in a bit extra\n",
      "    startTime = datetime.datetime.now()\n",
      "    if chatty:\n",
      "        print \"first detection:\", ws\n",
      "        print \"last detection: \", we\n",
      "        print \"window Length\",    windowLength\n",
      "        print \"chunk Count\",      chunkCount\n",
      "        print startTime, \"starting...\"\n",
      "\n",
      "    responses = []\n",
      "\n",
      "    thisws = ws\n",
      "    thiswe = ws + datetime.timedelta(seconds=chunkLength)\n",
      "    for i in range(chunkCount):\n",
      "        request = \"{}/find?minor[]={}&windowstart={}&windowend={}\".format(url, personID, thisws.isoformat(), thiswe.isoformat())\n",
      "\n",
      "        #print \"headers:\", headers # don't print the headers, it puts the auth into the repo\n",
      "        #print \"url request:\", request\n",
      "\n",
      "        #q=\"db.beacondetections.find({{ minor: {}, time: {{ $gt: ISODate(\\\"{}\\\"), $lt: ISODate(\\\"{}\\\") }} }} )\"\n",
      "        #print \"db query:\", q.format(personID, thisws.isoformat(), thiswe.isoformat())\n",
      "        windowDetectionsResponse = robustRequest(request, headers)\n",
      "        if windowDetectionsResponse:\n",
      "            if chatty==\"very\":\n",
      "                print i, datetime.datetime.now(), windowDetectionsResponse.status_code\n",
      "\n",
      "            responses.extend(json.loads(windowDetectionsResponse.text)[u'results'][0])\n",
      "        thisws = thiswe\n",
      "        thiswe = thiswe + datetime.timedelta(seconds=chunkLength)\n",
      "    \n",
      "    responses = pd.DataFrame.from_dict(responses)\n",
      "    responses['temptime'] = responses.apply(lambda x: dateutil.parser.parse(x.time, dayfirst=True) , axis=1)\n",
      "    responses = responses.drop(['time'], 1)\n",
      "    responses = responses.rename(columns = {'temptime':'time'})\n",
      "    responses = responses.sort_values(\"time\", ascending=1)\n",
      "    \n",
      "    print \"done with {} failures\\nin {}\".format(failures[0], datetime.datetime.now() - startTime)\n",
      "    \n",
      "    return responses"
     ],
     "language": "python",
     "metadata": {},
     "outputs": [],
     "prompt_number": 11
    },
    {
     "cell_type": "code",
     "collapsed": false,
     "input": [
      "timePadding = 1\n",
      "sampledDF = getTrainingData(liveSet, timePadding=timePadding, chatty=True)"
     ],
     "language": "python",
     "metadata": {},
     "outputs": [
      {
       "output_type": "stream",
       "stream": "stdout",
       "text": [
        "first detection: 2016-11-12 04:31:03+00:00\n",
        "last detection:  2016-11-12 04:51:13+00:00\n",
        "window Length 1210.0\n",
        "chunk Count 242\n",
        "2016-11-12 19:51:06.306365 starting...\n",
        "done with 0 failures\n",
        "in 0:00:37.166207"
       ]
      },
      {
       "output_type": "stream",
       "stream": "stdout",
       "text": [
        "\n"
       ]
      }
     ],
     "prompt_number": 28
    },
    {
     "cell_type": "code",
     "collapsed": false,
     "input": [
      "print sampledDF.time.max()-sampledDF.time.min()\n",
      "sampledDF.tail()"
     ],
     "language": "python",
     "metadata": {},
     "outputs": [
      {
       "output_type": "stream",
       "stream": "stdout",
       "text": [
        "0 days 00:18:59.153000\n"
       ]
      },
      {
       "html": [
        "<div style=\"max-width:1500px;overflow:auto;\">\n",
        "<table border=\"1\" class=\"dataframe\">\n",
        "  <thead>\n",
        "    <tr style=\"text-align: right;\">\n",
        "      <th></th>\n",
        "      <th>agentId</th>\n",
        "      <th>minor</th>\n",
        "      <th>rssi</th>\n",
        "      <th>time</th>\n",
        "    </tr>\n",
        "  </thead>\n",
        "  <tbody>\n",
        "    <tr>\n",
        "      <th>3539</th>\n",
        "      <td>00000000c6134299</td>\n",
        "      <td>304</td>\n",
        "      <td>-78</td>\n",
        "      <td>2016-11-12 04:50:07.508000+00:00</td>\n",
        "    </tr>\n",
        "    <tr>\n",
        "      <th>3540</th>\n",
        "      <td>00000000c6134299</td>\n",
        "      <td>304</td>\n",
        "      <td>-78</td>\n",
        "      <td>2016-11-12 04:50:07.508000+00:00</td>\n",
        "    </tr>\n",
        "    <tr>\n",
        "      <th>3537</th>\n",
        "      <td>00000000c6134299</td>\n",
        "      <td>304</td>\n",
        "      <td>-78</td>\n",
        "      <td>2016-11-12 04:50:07.508000+00:00</td>\n",
        "    </tr>\n",
        "    <tr>\n",
        "      <th>3538</th>\n",
        "      <td>00000000c6134299</td>\n",
        "      <td>304</td>\n",
        "      <td>-78</td>\n",
        "      <td>2016-11-12 04:50:07.508000+00:00</td>\n",
        "    </tr>\n",
        "    <tr>\n",
        "      <th>3541</th>\n",
        "      <td>00000000c6134299</td>\n",
        "      <td>304</td>\n",
        "      <td>-78</td>\n",
        "      <td>2016-11-12 04:50:07.508000+00:00</td>\n",
        "    </tr>\n",
        "  </tbody>\n",
        "</table>\n",
        "</div>"
       ],
       "metadata": {},
       "output_type": "pyout",
       "prompt_number": 13,
       "text": [
        "               agentId  minor  rssi                             time\n",
        "3539  00000000c6134299    304   -78 2016-11-12 04:50:07.508000+00:00\n",
        "3540  00000000c6134299    304   -78 2016-11-12 04:50:07.508000+00:00\n",
        "3537  00000000c6134299    304   -78 2016-11-12 04:50:07.508000+00:00\n",
        "3538  00000000c6134299    304   -78 2016-11-12 04:50:07.508000+00:00\n",
        "3541  00000000c6134299    304   -78 2016-11-12 04:50:07.508000+00:00"
       ]
      }
     ],
     "prompt_number": 13
    },
    {
     "cell_type": "markdown",
     "metadata": {},
     "source": [
      "The operation below gives the detection data spatial information. It is the simplest way to deal with it later from a pandas point of view. It might be a bit of a memory hit because it's denormalising all the data, but who cares about memory these days!"
     ]
    },
    {
     "cell_type": "code",
     "collapsed": false,
     "input": [
      "bigdf = pd.merge(sampledDF,baseStationData,on=[\"agentId\"])\n",
      "# rescale rssi between 0 and max in positive numbers. Bigger number means more powerful signal\n",
      "minPower = min(bigdf.rssi)\n",
      "bigdf['rssiAdj'] = bigdf.rssi - minPower\n",
      "\n",
      "print bigdf.shape[0], \"rows\"\n",
      "bigdf.head()"
     ],
     "language": "python",
     "metadata": {},
     "outputs": [
      {
       "output_type": "stream",
       "stream": "stdout",
       "text": [
        "3549 rows\n"
       ]
      },
      {
       "html": [
        "<div style=\"max-width:1500px;overflow:auto;\">\n",
        "<table border=\"1\" class=\"dataframe\">\n",
        "  <thead>\n",
        "    <tr style=\"text-align: right;\">\n",
        "      <th></th>\n",
        "      <th>agentId</th>\n",
        "      <th>minor</th>\n",
        "      <th>rssi</th>\n",
        "      <th>time</th>\n",
        "      <th>agentName</th>\n",
        "      <th>x</th>\n",
        "      <th>y</th>\n",
        "      <th>rssiAdj</th>\n",
        "    </tr>\n",
        "  </thead>\n",
        "  <tbody>\n",
        "    <tr>\n",
        "      <th>0</th>\n",
        "      <td>00000000c6134299</td>\n",
        "      <td>304</td>\n",
        "      <td>-76</td>\n",
        "      <td>2016-11-12 04:31:08.355000+00:00</td>\n",
        "      <td>Hotel</td>\n",
        "      <td>41169.22907</td>\n",
        "      <td>1712.860038</td>\n",
        "      <td>25</td>\n",
        "    </tr>\n",
        "    <tr>\n",
        "      <th>1</th>\n",
        "      <td>00000000c6134299</td>\n",
        "      <td>304</td>\n",
        "      <td>-91</td>\n",
        "      <td>2016-11-12 04:31:10.265000+00:00</td>\n",
        "      <td>Hotel</td>\n",
        "      <td>41169.22907</td>\n",
        "      <td>1712.860038</td>\n",
        "      <td>10</td>\n",
        "    </tr>\n",
        "    <tr>\n",
        "      <th>2</th>\n",
        "      <td>00000000c6134299</td>\n",
        "      <td>304</td>\n",
        "      <td>-81</td>\n",
        "      <td>2016-11-12 04:31:15.032000+00:00</td>\n",
        "      <td>Hotel</td>\n",
        "      <td>41169.22907</td>\n",
        "      <td>1712.860038</td>\n",
        "      <td>20</td>\n",
        "    </tr>\n",
        "    <tr>\n",
        "      <th>3</th>\n",
        "      <td>00000000c6134299</td>\n",
        "      <td>304</td>\n",
        "      <td>-80</td>\n",
        "      <td>2016-11-12 04:31:20.756000+00:00</td>\n",
        "      <td>Hotel</td>\n",
        "      <td>41169.22907</td>\n",
        "      <td>1712.860038</td>\n",
        "      <td>21</td>\n",
        "    </tr>\n",
        "    <tr>\n",
        "      <th>4</th>\n",
        "      <td>00000000c6134299</td>\n",
        "      <td>304</td>\n",
        "      <td>-68</td>\n",
        "      <td>2016-11-12 04:31:22.669000+00:00</td>\n",
        "      <td>Hotel</td>\n",
        "      <td>41169.22907</td>\n",
        "      <td>1712.860038</td>\n",
        "      <td>33</td>\n",
        "    </tr>\n",
        "  </tbody>\n",
        "</table>\n",
        "</div>"
       ],
       "metadata": {},
       "output_type": "pyout",
       "prompt_number": 15,
       "text": [
        "            agentId  minor  rssi                             time agentName  \\\n",
        "0  00000000c6134299    304   -76 2016-11-12 04:31:08.355000+00:00     Hotel   \n",
        "1  00000000c6134299    304   -91 2016-11-12 04:31:10.265000+00:00     Hotel   \n",
        "2  00000000c6134299    304   -81 2016-11-12 04:31:15.032000+00:00     Hotel   \n",
        "3  00000000c6134299    304   -80 2016-11-12 04:31:20.756000+00:00     Hotel   \n",
        "4  00000000c6134299    304   -68 2016-11-12 04:31:22.669000+00:00     Hotel   \n",
        "\n",
        "             x            y  rssiAdj  \n",
        "0  41169.22907  1712.860038       25  \n",
        "1  41169.22907  1712.860038       10  \n",
        "2  41169.22907  1712.860038       20  \n",
        "3  41169.22907  1712.860038       21  \n",
        "4  41169.22907  1712.860038       33  "
       ]
      }
     ],
     "prompt_number": 15
    },
    {
     "cell_type": "code",
     "collapsed": false,
     "input": [
      "bigdf.tail()"
     ],
     "language": "python",
     "metadata": {},
     "outputs": [
      {
       "html": [
        "<div style=\"max-width:1500px;overflow:auto;\">\n",
        "<table border=\"1\" class=\"dataframe\">\n",
        "  <thead>\n",
        "    <tr style=\"text-align: right;\">\n",
        "      <th></th>\n",
        "      <th>agentId</th>\n",
        "      <th>minor</th>\n",
        "      <th>rssi</th>\n",
        "      <th>time</th>\n",
        "      <th>agentName</th>\n",
        "      <th>x</th>\n",
        "      <th>y</th>\n",
        "      <th>rssiAdj</th>\n",
        "    </tr>\n",
        "  </thead>\n",
        "  <tbody>\n",
        "    <tr>\n",
        "      <th>3544</th>\n",
        "      <td>0000000000d80090</td>\n",
        "      <td>304</td>\n",
        "      <td>-91</td>\n",
        "      <td>2016-11-12 04:38:22.821000+00:00</td>\n",
        "      <td>Echo</td>\n",
        "      <td>28541.19893</td>\n",
        "      <td>8708.325137</td>\n",
        "      <td>10</td>\n",
        "    </tr>\n",
        "    <tr>\n",
        "      <th>3545</th>\n",
        "      <td>0000000000d80090</td>\n",
        "      <td>304</td>\n",
        "      <td>-80</td>\n",
        "      <td>2016-11-12 04:38:26.647000+00:00</td>\n",
        "      <td>Echo</td>\n",
        "      <td>28541.19893</td>\n",
        "      <td>8708.325137</td>\n",
        "      <td>21</td>\n",
        "    </tr>\n",
        "    <tr>\n",
        "      <th>3546</th>\n",
        "      <td>000000000b41629a</td>\n",
        "      <td>304</td>\n",
        "      <td>-82</td>\n",
        "      <td>2016-11-12 04:39:50.668000+00:00</td>\n",
        "      <td>Edward</td>\n",
        "      <td>36726.34790</td>\n",
        "      <td>2989.947093</td>\n",
        "      <td>19</td>\n",
        "    </tr>\n",
        "    <tr>\n",
        "      <th>3547</th>\n",
        "      <td>000000000b41629a</td>\n",
        "      <td>304</td>\n",
        "      <td>-84</td>\n",
        "      <td>2016-11-12 04:39:56.398000+00:00</td>\n",
        "      <td>Edward</td>\n",
        "      <td>36726.34790</td>\n",
        "      <td>2989.947093</td>\n",
        "      <td>17</td>\n",
        "    </tr>\n",
        "    <tr>\n",
        "      <th>3548</th>\n",
        "      <td>000000000b41629a</td>\n",
        "      <td>304</td>\n",
        "      <td>-92</td>\n",
        "      <td>2016-11-12 04:40:06.901000+00:00</td>\n",
        "      <td>Edward</td>\n",
        "      <td>36726.34790</td>\n",
        "      <td>2989.947093</td>\n",
        "      <td>9</td>\n",
        "    </tr>\n",
        "  </tbody>\n",
        "</table>\n",
        "</div>"
       ],
       "metadata": {},
       "output_type": "pyout",
       "prompt_number": 26,
       "text": [
        "               agentId  minor  rssi                             time  \\\n",
        "3544  0000000000d80090    304   -91 2016-11-12 04:38:22.821000+00:00   \n",
        "3545  0000000000d80090    304   -80 2016-11-12 04:38:26.647000+00:00   \n",
        "3546  000000000b41629a    304   -82 2016-11-12 04:39:50.668000+00:00   \n",
        "3547  000000000b41629a    304   -84 2016-11-12 04:39:56.398000+00:00   \n",
        "3548  000000000b41629a    304   -92 2016-11-12 04:40:06.901000+00:00   \n",
        "\n",
        "     agentName            x            y  rssiAdj  \n",
        "3544      Echo  28541.19893  8708.325137       10  \n",
        "3545      Echo  28541.19893  8708.325137       21  \n",
        "3546    Edward  36726.34790  2989.947093       19  \n",
        "3547    Edward  36726.34790  2989.947093       17  \n",
        "3548    Edward  36726.34790  2989.947093        9  "
       ]
      }
     ],
     "prompt_number": 26
    },
    {
     "cell_type": "code",
     "collapsed": false,
     "input": [],
     "language": "python",
     "metadata": {},
     "outputs": []
    },
    {
     "cell_type": "markdown",
     "metadata": {},
     "source": [
      "##Preview Walk"
     ]
    },
    {
     "cell_type": "markdown",
     "metadata": {},
     "source": [
      "I want to show only the detections in a time-window defined by halfway between the scan times.\n",
      "\n",
      "I.e. if I get to 198 at 51s, 199 at 53s, and 200 at 55s, then I should show the detections around 199 from 52s to 54s.\n",
      "\n",
      "it injects a time point 1s before the first and s after the last so that they get a window that encloses them rather than being short changed.\n",
      "\n",
      "The graph below shows that the time windows don't overlap. It also shows that the windows aren't all the same duration."
     ]
    },
    {
     "cell_type": "code",
     "collapsed": false,
     "input": [
      "#build a list of times\n",
      "s = [liveSet.time.min() - datetime.timedelta(seconds=timePadding)]#begining of time space\n",
      "m = list(liveSet.time)                                            #all the detection times\n",
      "e = [liveSet.time.max() + datetime.timedelta(seconds=timePadding)]#end of time space\n",
      "mt = s + m + e \n",
      "\n",
      "timeWindows = []\n",
      "for i in range(len(mt)-2): \n",
      "    #e.g. {'end': Timestamp('2016-10-17 00:21:34.500000+0000', tz='UTC'), 'i': 0, 'start': Timestamp('2016-10-17 00:21:31.500000+0000', tz='UTC')}\n",
      "    w ={\"start\": mt[i+0] + (mt[i+1] - mt[i+0])/2,\n",
      "        \"end\":   mt[i+1] + (mt[i+2] - mt[i+1])/2,\n",
      "        \"i\":i}\n",
      "    timeWindows.append(w)\n",
      "\n",
      "timeWindows = pd.DataFrame.from_dict(timeWindows)\n",
      "\n",
      "plt.title('time windows')\n",
      "for index, w in timeWindows.iterrows():\n",
      "    plt.plot([w.start, w.end], [w.i, w.i])\n",
      "plt.gcf().autofmt_xdate()\n",
      "plt.show()"
     ],
     "language": "python",
     "metadata": {},
     "outputs": [
      {
       "metadata": {},
       "output_type": "display_data",
       "png": "[encoded data removed]",
       "text": [
        "<matplotlib.figure.Figure at 0x7fe90196b290>"
       ]
      }
     ],
     "prompt_number": 16
    },
    {
     "cell_type": "code",
     "collapsed": false,
     "input": [
      "timeWindows.tail()"
     ],
     "language": "python",
     "metadata": {},
     "outputs": [
      {
       "html": [
        "<div style=\"max-width:1500px;overflow:auto;\">\n",
        "<table border=\"1\" class=\"dataframe\">\n",
        "  <thead>\n",
        "    <tr style=\"text-align: right;\">\n",
        "      <th></th>\n",
        "      <th>end</th>\n",
        "      <th>i</th>\n",
        "      <th>start</th>\n",
        "    </tr>\n",
        "  </thead>\n",
        "  <tbody>\n",
        "    <tr>\n",
        "      <th>226</th>\n",
        "      <td>2016-11-12 04:50:58+00:00</td>\n",
        "      <td>226</td>\n",
        "      <td>2016-11-12 04:50:54.500000+00:00</td>\n",
        "    </tr>\n",
        "    <tr>\n",
        "      <th>227</th>\n",
        "      <td>2016-11-12 04:51:02+00:00</td>\n",
        "      <td>227</td>\n",
        "      <td>2016-11-12 04:50:58+00:00</td>\n",
        "    </tr>\n",
        "    <tr>\n",
        "      <th>228</th>\n",
        "      <td>2016-11-12 04:51:05.500000+00:00</td>\n",
        "      <td>228</td>\n",
        "      <td>2016-11-12 04:51:02+00:00</td>\n",
        "    </tr>\n",
        "    <tr>\n",
        "      <th>229</th>\n",
        "      <td>2016-11-12 04:51:09.500000+00:00</td>\n",
        "      <td>229</td>\n",
        "      <td>2016-11-12 04:51:05.500000+00:00</td>\n",
        "    </tr>\n",
        "    <tr>\n",
        "      <th>230</th>\n",
        "      <td>2016-11-12 04:51:12.500000+00:00</td>\n",
        "      <td>230</td>\n",
        "      <td>2016-11-12 04:51:09.500000+00:00</td>\n",
        "    </tr>\n",
        "  </tbody>\n",
        "</table>\n",
        "</div>"
       ],
       "metadata": {},
       "output_type": "pyout",
       "prompt_number": 17,
       "text": [
        "                                 end    i                            start\n",
        "226        2016-11-12 04:50:58+00:00  226 2016-11-12 04:50:54.500000+00:00\n",
        "227        2016-11-12 04:51:02+00:00  227        2016-11-12 04:50:58+00:00\n",
        "228 2016-11-12 04:51:05.500000+00:00  228        2016-11-12 04:51:02+00:00\n",
        "229 2016-11-12 04:51:09.500000+00:00  229 2016-11-12 04:51:05.500000+00:00\n",
        "230 2016-11-12 04:51:12.500000+00:00  230 2016-11-12 04:51:09.500000+00:00"
       ]
      }
     ],
     "prompt_number": 17
    },
    {
     "cell_type": "code",
     "collapsed": false,
     "input": [
      "def timeSliced(timeWindow, df, savePlace, contextDF, personID=304):\n",
      "    df = h.timeCropDf(df, timeWindow.start, (timeWindow.end - timeWindow.start).total_seconds() )\n",
      "\n",
      "    fig, ax = plt.subplots()\n",
      "    \n",
      "    timeFormatString = \"%H:%M:%S\"\n",
      "    title = \"Detections for person {} from {} to {}\".format(personID, \n",
      "                                                            timeWindow.start.strftime(timeFormatString), \n",
      "                                                            timeWindow.end.strftime(timeFormatString))\n",
      "    plt.title(title)\n",
      "    \n",
      "    #the sticker labels\n",
      "    for row in contextDF.iterrows():\n",
      "        row = row[1] #BS indexing\n",
      "        ax.text(row.x, row.y, \"{0:03d}\".format(row.stickerID), fontsize=8)\n",
      "    \n",
      "    #sticker dots\n",
      "    ax.scatter(contextDF.x, contextDF.y, zorder=20)\n",
      "    ax.scatter(stickerLocations.x,stickerLocations.y,s=1,c=\"y\")\n",
      "    \n",
      "    #the path\n",
      "    ax.plot(contextDF.x, contextDF.y, alpha=0.7, linewidth=1, c=\"g\", solid_capstyle='round')\n",
      "    \n",
      "    # Plot all the detections onto the map as pale circles\n",
      "    ax.scatter(df.x, df.y, zorder=1, s=abs(df.rssiAdj)*100, alpha=0.2)\n",
      "    \n",
      "    #plot the current window's dot bigger\n",
      "    ax.scatter(contextDF.iloc[timeWindow.i].x, \n",
      "               contextDF.iloc[timeWindow.i].y, \n",
      "               zorder=30, s=150, c=\"r\")\n",
      "    \n",
      "    #put the image on the graph as an underlay\n",
      "    img = imread(\"map.png\")\n",
      "    ax.imshow(img, zorder=0, extent=[-1300, 72000, -24000, 41000])\n",
      "    #                                [left,  right, bottom, top  ]\n",
      "    \n",
      "    #put the baseStations on the map \n",
      "    for index, row in baseStationData.iterrows():\n",
      "        ax.text(row.x, row.y, row.agentName, fontsize=8)\n",
      "    ax.scatter(baseStationData.x,baseStationData.y, marker='+')\n",
      "    \n",
      "    #Hide the axis numbers because they don't tell us much\n",
      "    ax.xaxis.set_major_formatter(plt.NullFormatter())\n",
      "    ax.yaxis.set_major_formatter(plt.NullFormatter())\n",
      "    \n",
      "#     plt.show() #don't show, we need to save\n",
      "    fig.savefig(savePlace+\"foo\"+str(timeWindow.start.strftime(timeFormatString))+\".png\", bbox_inches='tight')\n",
      "    fig.clf()\n",
      "    plt.close()"
     ],
     "language": "python",
     "metadata": {},
     "outputs": [],
     "prompt_number": 23
    },
    {
     "cell_type": "code",
     "collapsed": false,
     "input": [
      "savePlace = 'frames/test1/'\n",
      "h.clearFolder(\"/\"+savePlace)\n",
      "#this takes quite a long time if you have a lot of frames\n",
      "startStopwatch = datetime.datetime.now()\n",
      "print startStopwatch\n",
      "for index, w in timeWindows.iterrows():\n",
      "    if index%10==0:\n",
      "        print index, datetime.datetime.now() - startStopwatch\n",
      "    timeSliced(w, bigdf, savePlace, liveSet)\n",
      "\n",
      "print \"That took\", datetime.datetime.now() - startStopwatch"
     ],
     "language": "python",
     "metadata": {},
     "outputs": [
      {
       "output_type": "stream",
       "stream": "stdout",
       "text": [
        "2016-11-12 19:33:20.678720\n",
        "0 0:00:00.006415\n",
        "10"
       ]
      },
      {
       "output_type": "stream",
       "stream": "stdout",
       "text": [
        " 0:00:08.661120\n",
        "20"
       ]
      },
      {
       "output_type": "stream",
       "stream": "stdout",
       "text": [
        " 0:00:17.036675\n",
        "30"
       ]
      },
      {
       "output_type": "stream",
       "stream": "stdout",
       "text": [
        " 0:00:25.373347\n",
        "40"
       ]
      },
      {
       "output_type": "stream",
       "stream": "stdout",
       "text": [
        " 0:00:33.751483\n",
        "50"
       ]
      },
      {
       "output_type": "stream",
       "stream": "stdout",
       "text": [
        " 0:00:42.149384\n",
        "60"
       ]
      },
      {
       "output_type": "stream",
       "stream": "stdout",
       "text": [
        " 0:00:50.532759\n",
        "70"
       ]
      },
      {
       "output_type": "stream",
       "stream": "stdout",
       "text": [
        " 0:00:58.898568\n",
        "80"
       ]
      },
      {
       "output_type": "stream",
       "stream": "stdout",
       "text": [
        " 0:01:07.325978\n",
        "90"
       ]
      },
      {
       "output_type": "stream",
       "stream": "stdout",
       "text": [
        " 0:01:15.873870\n",
        "100"
       ]
      },
      {
       "output_type": "stream",
       "stream": "stdout",
       "text": [
        " 0:01:24.269555\n",
        "110"
       ]
      },
      {
       "output_type": "stream",
       "stream": "stdout",
       "text": [
        " 0:01:32.733264\n",
        "120"
       ]
      },
      {
       "output_type": "stream",
       "stream": "stdout",
       "text": [
        " 0:01:41.203313\n",
        "130"
       ]
      },
      {
       "output_type": "stream",
       "stream": "stdout",
       "text": [
        " 0:01:49.638374\n",
        "140"
       ]
      },
      {
       "output_type": "stream",
       "stream": "stdout",
       "text": [
        " 0:01:58.091713\n",
        "150"
       ]
      },
      {
       "output_type": "stream",
       "stream": "stdout",
       "text": [
        " 0:02:06.650352\n",
        "160"
       ]
      },
      {
       "output_type": "stream",
       "stream": "stdout",
       "text": [
        " 0:02:15.054518\n",
        "170"
       ]
      },
      {
       "output_type": "stream",
       "stream": "stdout",
       "text": [
        " 0:02:23.369715\n",
        "180"
       ]
      },
      {
       "output_type": "stream",
       "stream": "stdout",
       "text": [
        " 0:02:31.638526\n",
        "190"
       ]
      },
      {
       "output_type": "stream",
       "stream": "stdout",
       "text": [
        " 0:02:40.001758\n",
        "200"
       ]
      },
      {
       "output_type": "stream",
       "stream": "stdout",
       "text": [
        " 0:02:48.443045\n",
        "210"
       ]
      },
      {
       "output_type": "stream",
       "stream": "stdout",
       "text": [
        " 0:02:57.133575\n",
        "220"
       ]
      },
      {
       "output_type": "stream",
       "stream": "stdout",
       "text": [
        " 0:03:05.592932\n",
        "230"
       ]
      },
      {
       "output_type": "stream",
       "stream": "stdout",
       "text": [
        " 0:03:14.084356\n",
        "That took"
       ]
      },
      {
       "output_type": "stream",
       "stream": "stdout",
       "text": [
        " 0:03:14.903302\n"
       ]
      }
     ],
     "prompt_number": 24
    },
    {
     "cell_type": "code",
     "collapsed": false,
     "input": [
      "h.makeGif(savePlace + \"*.png\", \"SampleWalk3\")"
     ],
     "language": "python",
     "metadata": {},
     "outputs": [
      {
       "output_type": "stream",
       "stream": "stdout",
       "text": [
        "convert -delay 20 -loop 0 frames/test1/*.png SampleWalk3.gif\n"
       ]
      }
     ],
     "prompt_number": 25
    },
    {
     "cell_type": "markdown",
     "metadata": {},
     "source": [
      "![](SampleWalk3.gif)"
     ]
    },
    {
     "cell_type": "markdown",
     "metadata": {},
     "source": [
      "##straight path\n",
      "\n",
      "![](SampleWalk1.gif)"
     ]
    },
    {
     "cell_type": "markdown",
     "metadata": {},
     "source": [
      "##not straight path\n",
      "![](SampleWalk2.gif)"
     ]
    },
    {
     "cell_type": "code",
     "collapsed": false,
     "input": [],
     "language": "python",
     "metadata": {},
     "outputs": []
    }
   ],
   "metadata": {}
  }
 ]
}