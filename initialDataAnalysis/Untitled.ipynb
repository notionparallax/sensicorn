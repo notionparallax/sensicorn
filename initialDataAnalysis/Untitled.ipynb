{
 "cells": [
  {
   "cell_type": "code",
   "execution_count": 3,
   "metadata": {
    "collapsed": false
   },
   "outputs": [],
   "source": [
    "ext_require_path = 'codefolding/main'\n",
    "try:  # notebook >= 4.2.0\n",
    "    from notebook.nbextensions import enable_nbextension\n",
    "    enable_nbextension('notebook', ext_require_path)\n",
    "except ImportError:\n",
    "    from notebook.nbextensions import EnableNBExtensionApp\n",
    "    EnableNBExtensionApp().enable_nbextension(ext_require_path)\n",
    "    \n"
   ]
  },
  {
   "cell_type": "code",
   "execution_count": 4,
   "metadata": {
    "collapsed": false
   },
   "outputs": [
    {
     "data": {
      "text/plain": [
       "False"
      ]
     },
     "execution_count": 4,
     "metadata": {},
     "output_type": "execute_result"
    }
   ],
   "source": [
    "from notebook.nbextensions import check_nbextension\n",
    "check_nbextension('codefolding', user=True)\n",
    "check_nbextension('codefolding/main.js', user=True)"
   ]
  },
  {
   "cell_type": "code",
   "execution_count": 5,
   "metadata": {
    "collapsed": false
   },
   "outputs": [
    {
     "data": {
      "text/html": [
       "<table border=\"1\"> <tr><th>section</th> <th>require path</th> <th>enabled?</th></tr><tr><td>notebook</td><td>codefolding/main</td><td>True</td></tr>\n",
       "</table>"
      ],
      "text/plain": [
       "<IPython.core.display.HTML object>"
      ]
     },
     "execution_count": 5,
     "metadata": {},
     "output_type": "execute_result"
    }
   ],
   "source": [
    "import os\n",
    "\n",
    "from IPython.display import HTML\n",
    "from notebook.services.config import ConfigManager\n",
    "\n",
    "table = (\n",
    "    '<table border=\"1\"> <tr>'\n",
    "    '<th>section</th> <th>require path</th> <th>enabled?</th>'\n",
    "    '</tr>{}</table>')\n",
    "table_rows = ''\n",
    "cm = ConfigManager()\n",
    "for section in ['common', 'notebook', 'tree', 'edit', 'terminal']:\n",
    "    for req, enabled in cm.get(section).get('load_extensions', {}).items():\n",
    "        table_rows += '<tr><td>{}</td><td>{}</td><td>{}</td></tr>\\n'.format(\n",
    "            section, req, enabled)\n",
    "HTML(table.format(table_rows))"
   ]
  },
  {
   "cell_type": "code",
   "execution_count": 6,
   "metadata": {
    "collapsed": true
   },
   "outputs": [],
   "source": [
    "def s():\n",
    "    pass\n",
    "    pass\n",
    "    pass\n",
    "\n",
    "def d():\n",
    "    pass"
   ]
  },
  {
   "cell_type": "code",
   "execution_count": null,
   "metadata": {
    "collapsed": true
   },
   "outputs": [],
   "source": []
  }
 ],
 "metadata": {
  "kernelspec": {
   "display_name": "Python 2",
   "language": "python",
   "name": "python2"
  },
  "language_info": {
   "codemirror_mode": {
    "name": "ipython",
    "version": 2
   },
   "file_extension": ".py",
   "mimetype": "text/x-python",
   "name": "python",
   "nbconvert_exporter": "python",
   "pygments_lexer": "ipython2",
   "version": "2.7.12"
  }
 },
 "nbformat": 4,
 "nbformat_minor": 1
}
