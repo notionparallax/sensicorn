{
 "cells": [
  {
   "cell_type": "markdown",
   "metadata": {},
   "source": [
    "# Load data and pickle it\n",
    "\n",
    "This notebook flows on from `scan - collection relationship` which investigates the `allScanDetections.csv` file and relates it to the collection in the mongodb."
   ]
  },
  {
   "cell_type": "code",
   "execution_count": 24,
   "metadata": {
    "collapsed": true
   },
   "outputs": [],
   "source": [
    "from tqdm import tqdm\n",
    "import json\n",
    "import datetime\n",
    "import pytz\n",
    "import pandas as pd\n",
    "import matplotlib.pyplot as plt\n",
    "%matplotlib inline\n",
    "plt.rcParams['figure.figsize'] = (20, 10)"
   ]
  },
  {
   "cell_type": "markdown",
   "metadata": {},
   "source": [
    "Load the data from the CSV and parse it into a dataframe. The CSV is about 6gb, so it needs about that much ram to be able to run. It might run on less capable systems if the chunks parameter is set."
   ]
  },
  {
   "cell_type": "code",
   "execution_count": 2,
   "metadata": {},
   "outputs": [
    {
     "name": "stderr",
     "output_type": "stream",
     "text": [
      "C:\\Users\\ivarshney\\AppData\\Local\\Continuum\\anaconda3\\lib\\site-packages\\ipykernel_launcher.py:8: FutureWarning: pandas.core.datetools.to_datetime is deprecated. Please use pandas.core.tools.datetimes.to_datetime instead.\n",
      "  \n"
     ]
    },
    {
     "data": {
      "text/html": [
       "<div>\n",
       "<style>\n",
       "    .dataframe thead tr:only-child th {\n",
       "        text-align: right;\n",
       "    }\n",
       "\n",
       "    .dataframe thead th {\n",
       "        text-align: left;\n",
       "    }\n",
       "\n",
       "    .dataframe tbody tr th {\n",
       "        vertical-align: top;\n",
       "    }\n",
       "</style>\n",
       "<table border=\"1\" class=\"dataframe\">\n",
       "  <thead>\n",
       "    <tr style=\"text-align: right;\">\n",
       "      <th></th>\n",
       "      <th>minor</th>\n",
       "      <th>uuid</th>\n",
       "      <th>time</th>\n",
       "      <th>rssi</th>\n",
       "      <th>agentId</th>\n",
       "    </tr>\n",
       "  </thead>\n",
       "  <tbody>\n",
       "    <tr>\n",
       "      <th>0</th>\n",
       "      <td>288</td>\n",
       "      <td>17520757a1412b175c03687a7102a104</td>\n",
       "      <td>2016-11-23 23:06:34.012</td>\n",
       "      <td>-72</td>\n",
       "      <td>000000007d418b7a</td>\n",
       "    </tr>\n",
       "    <tr>\n",
       "      <th>1</th>\n",
       "      <td>288</td>\n",
       "      <td>17520757a1412b175c03687a7102a104</td>\n",
       "      <td>2016-11-23 23:06:34.019</td>\n",
       "      <td>-82</td>\n",
       "      <td>00000000029d74c5</td>\n",
       "    </tr>\n",
       "    <tr>\n",
       "      <th>2</th>\n",
       "      <td>360</td>\n",
       "      <td>17520757a1412b175c03687a7102a104</td>\n",
       "      <td>2016-11-23 23:06:34.059</td>\n",
       "      <td>-96</td>\n",
       "      <td>00000000c7ce4c76</td>\n",
       "    </tr>\n",
       "    <tr>\n",
       "      <th>3</th>\n",
       "      <td>360</td>\n",
       "      <td>17520757a1412b175c03687a7102a104</td>\n",
       "      <td>2016-11-23 23:06:34.061</td>\n",
       "      <td>-75</td>\n",
       "      <td>000000005e6ed248</td>\n",
       "    </tr>\n",
       "    <tr>\n",
       "      <th>4</th>\n",
       "      <td>360</td>\n",
       "      <td>17520757a1412b175c03687a7102a104</td>\n",
       "      <td>2016-11-23 23:06:34.061</td>\n",
       "      <td>-87</td>\n",
       "      <td>00000000fc7843f8</td>\n",
       "    </tr>\n",
       "  </tbody>\n",
       "</table>\n",
       "</div>"
      ],
      "text/plain": [
       "   minor                              uuid                    time  rssi  \\\n",
       "0    288  17520757a1412b175c03687a7102a104 2016-11-23 23:06:34.012   -72   \n",
       "1    288  17520757a1412b175c03687a7102a104 2016-11-23 23:06:34.019   -82   \n",
       "2    360  17520757a1412b175c03687a7102a104 2016-11-23 23:06:34.059   -96   \n",
       "3    360  17520757a1412b175c03687a7102a104 2016-11-23 23:06:34.061   -75   \n",
       "4    360  17520757a1412b175c03687a7102a104 2016-11-23 23:06:34.061   -87   \n",
       "\n",
       "            agentId  \n",
       "0  000000007d418b7a  \n",
       "1  00000000029d74c5  \n",
       "2  00000000c7ce4c76  \n",
       "3  000000005e6ed248  \n",
       "4  00000000fc7843f8  "
      ]
     },
     "execution_count": 2,
     "metadata": {},
     "output_type": "execute_result"
    }
   ],
   "source": [
    "a = pd.read_csv('training.csv')\n",
    "\n",
    "dtypes = {\"minor\": int, \"uuid\": str, \"time\": str, \"rssi\": int, \"agentId\": str}\n",
    "parse_dates = [\"time\"]\n",
    "a = pd.read_csv(\"training.csv\", \n",
    "                dtype=dtypes,\n",
    "                parse_dates=parse_dates, \n",
    "                date_parser=pd.datetimes.to_datetime)\n",
    "a.head()"
   ]
  },
  {
   "cell_type": "markdown",
   "metadata": {},
   "source": [
    "## Let's have a look at what we're dealing with:"
   ]
  },
  {
   "cell_type": "code",
   "execution_count": 22,
   "metadata": {},
   "outputs": [
    {
     "name": "stdout",
     "output_type": "stream",
     "text": [
      "<class 'pandas.core.frame.DataFrame'>\n",
      "RangeIndex: 70949512 entries, 0 to 70949511\n",
      "Data columns (total 4 columns):\n",
      "minor      int32\n",
      "time       datetime64[ns]\n",
      "rssi       int32\n",
      "agentId    object\n",
      "dtypes: datetime64[ns](1), int32(2), object(1)\n",
      "memory usage: 1.6+ GB\n"
     ]
    }
   ],
   "source": [
    "a.info()"
   ]
  },
  {
   "cell_type": "code",
   "execution_count": 6,
   "metadata": {},
   "outputs": [
    {
     "data": {
      "text/plain": [
       "Index             80\n",
       "minor      283798048\n",
       "uuid       567596096\n",
       "time       567596096\n",
       "rssi       283798048\n",
       "agentId    567596096\n",
       "dtype: int64"
      ]
     },
     "execution_count": 6,
     "metadata": {},
     "output_type": "execute_result"
    }
   ],
   "source": [
    "a.memory_usage()"
   ]
  },
  {
   "cell_type": "code",
   "execution_count": 18,
   "metadata": {},
   "outputs": [
    {
     "data": {
      "text/plain": [
       "minor                             288\n",
       "time       2016-11-23 23:06:34.012000\n",
       "rssi                              -72\n",
       "agentId              000000007d418b7a\n",
       "Name: 0, dtype: object"
      ]
     },
     "execution_count": 18,
     "metadata": {},
     "output_type": "execute_result"
    }
   ],
   "source": [
    "a.iloc[0]"
   ]
  },
  {
   "cell_type": "code",
   "execution_count": 19,
   "metadata": {},
   "outputs": [
    {
     "data": {
      "text/plain": [
       "minor                              86\n",
       "time       2016-11-23 23:09:14.270000\n",
       "rssi                              -83\n",
       "agentId              0000000081d28129\n",
       "Name: 100000, dtype: object"
      ]
     },
     "execution_count": 19,
     "metadata": {},
     "output_type": "execute_result"
    }
   ],
   "source": [
    "a.iloc[100000]"
   ]
  },
  {
   "cell_type": "code",
   "execution_count": 20,
   "metadata": {},
   "outputs": [
    {
     "data": {
      "text/plain": [
       "Index(['minor', 'time', 'rssi', 'agentId'], dtype='object')"
      ]
     },
     "execution_count": 20,
     "metadata": {},
     "output_type": "execute_result"
    }
   ],
   "source": [
    "a.columns"
   ]
  },
  {
   "cell_type": "code",
   "execution_count": 21,
   "metadata": {},
   "outputs": [
    {
     "data": {
      "text/plain": [
       "array([  288,   360,    23,   404,   294,   377,    18,   371,   386,\n",
       "         388,   402,   296,   304,   370,   357,     5,     3,   100,\n",
       "         384,   406,   393,   407,   130,   369,     7,   372,   256,\n",
       "         385,   400,   375,   405,   116,    72,   401,   153,   358,\n",
       "          32,   131,   368,    39,    86,   390,   409,    84,   361,\n",
       "          82,   387,   354,   403,   374,   359,   355,   392,   353,\n",
       "         275,    50,   295,   152,   391,   120, 21504,   145, 34816,\n",
       "         114, 29184], dtype=int64)"
      ]
     },
     "execution_count": 21,
     "metadata": {},
     "output_type": "execute_result"
    }
   ],
   "source": [
    "a.minor.unique()"
   ]
  },
  {
   "cell_type": "code",
   "execution_count": 11,
   "metadata": {},
   "outputs": [
    {
     "data": {
      "text/plain": [
       "65"
      ]
     },
     "execution_count": 11,
     "metadata": {},
     "output_type": "execute_result"
    }
   ],
   "source": [
    "len(a.minor.unique())"
   ]
  },
  {
   "cell_type": "code",
   "execution_count": 12,
   "metadata": {},
   "outputs": [
    {
     "data": {
      "text/plain": [
       "array(['000000007d418b7a', '00000000029d74c5', '00000000c7ce4c76',\n",
       "       '000000005e6ed248', '00000000fc7843f8', '00000000b648975e',\n",
       "       '00000000035d7102', '000000001ec6ed41', '0000000031f984ad',\n",
       "       '00000000b9cf80e3', '00000000b571f8e3', '000000002c4ab387',\n",
       "       '0000000063a52908', '000000005de72066', '000000002f9f3fae',\n",
       "       '000000004ff7d75b', '0000000023e614ba', '0000000044bfba76',\n",
       "       '00000000e9753ecb', '0000000090560630', '0000000081d28129',\n",
       "       '000000000b41629a', '0000000084e99283', '0000000013bed9f7',\n",
       "       '00000000c6134299', '00000000449f65df', '0000000018550a76',\n",
       "       '00000000733c80c0', '000000003d6e520a', '000000001b1b0d2c',\n",
       "       '00000000fe8992e8', '000000001b31f3ec', '0000000097ad1922',\n",
       "       '000000001159bb8a', '000000006c1a3b5a', '00000000cdfeb599',\n",
       "       '00000000b6672df6', '000000004cb3ff60', '0000000020294bbd',\n",
       "       '000000004ae99a8b', '0000000000d80090', '00000000fe55db18'], dtype=object)"
      ]
     },
     "execution_count": 12,
     "metadata": {},
     "output_type": "execute_result"
    }
   ],
   "source": [
    "a.agentId.unique()"
   ]
  },
  {
   "cell_type": "code",
   "execution_count": 13,
   "metadata": {},
   "outputs": [
    {
     "data": {
      "text/plain": [
       "array(['17520757a1412b175c03687a7102a104'], dtype=object)"
      ]
     },
     "execution_count": 13,
     "metadata": {},
     "output_type": "execute_result"
    }
   ],
   "source": [
    "a.uuid.unique()"
   ]
  },
  {
   "cell_type": "markdown",
   "metadata": {},
   "source": [
    "The dataframe is quite big, there's only actually one `uuid` in it, but it's the same memory usage as the `time` column. if we take it out we save almost a gigabyte of memory."
   ]
  },
  {
   "cell_type": "code",
   "execution_count": 16,
   "metadata": {
    "collapsed": true
   },
   "outputs": [],
   "source": [
    "a.drop('uuid', axis=1, inplace=True)"
   ]
  },
  {
   "cell_type": "code",
   "execution_count": 17,
   "metadata": {},
   "outputs": [
    {
     "data": {
      "text/plain": [
       "Index             80\n",
       "minor      283798048\n",
       "time       567596096\n",
       "rssi       283798048\n",
       "agentId    567596096\n",
       "dtype: int64"
      ]
     },
     "execution_count": 17,
     "metadata": {},
     "output_type": "execute_result"
    }
   ],
   "source": [
    "a.memory_usage()"
   ]
  },
  {
   "cell_type": "code",
   "execution_count": null,
   "metadata": {
    "collapsed": true
   },
   "outputs": [],
   "source": [
    "a.info()"
   ]
  },
  {
   "cell_type": "code",
   "execution_count": 25,
   "metadata": {},
   "outputs": [
    {
     "data": {
      "text/plain": [
       "<matplotlib.axes._subplots.AxesSubplot at 0x1e281a9a20>"
      ]
     },
     "execution_count": 25,
     "metadata": {},
     "output_type": "execute_result"
    },
    {
     "data": {
      "image/png": "[encoded data removed]",
      "text/plain": [
       "<matplotlib.figure.Figure at 0x1e37716f28>"
      ]
     },
     "metadata": {},
     "output_type": "display_data"
    }
   ],
   "source": [
    "a.rssi.hist(bins=100)"
   ]
  },
  {
   "cell_type": "markdown",
   "metadata": {},
   "source": [
    "This is what we expect to see. There's no reason for `rssi` detections to be anything other than normal."
   ]
  },
  {
   "cell_type": "code",
   "execution_count": 26,
   "metadata": {},
   "outputs": [
    {
     "data": {
      "text/plain": [
       "<matplotlib.axes._subplots.AxesSubplot at 0x20235b7a20>"
      ]
     },
     "execution_count": 26,
     "metadata": {},
     "output_type": "execute_result"
    },
    {
     "data": {
      "image/png": "[encoded data removed]",
      "text/plain": [
       "<matplotlib.figure.Figure at 0x1e281a9908>"
      ]
     },
     "metadata": {},
     "output_type": "display_data"
    }
   ],
   "source": [
    "a.time.hist(bins=100)"
   ]
  },
  {
   "cell_type": "markdown",
   "metadata": {},
   "source": [
    "This is also expected. It's showing a more or less uniform distribution in teh time periods that we queried for.\n",
    "\n",
    "## Pickle\n",
    "\n",
    "We pickle to dump a binary representation of the dataframe so that other notebooks can pick it up easily."
   ]
  },
  {
   "cell_type": "code",
   "execution_count": 23,
   "metadata": {
    "collapsed": true
   },
   "outputs": [],
   "source": [
    "a.to_pickle(\"candidate_data.p\")"
   ]
  },
  {
   "cell_type": "markdown",
   "metadata": {},
   "source": [
    "![](http://i0.kym-cdn.com/photos/images/newsfeed/001/282/726/110.png)"
   ]
  }
 ],
 "metadata": {
  "kernelspec": {
   "display_name": "Python 3",
   "language": "python",
   "name": "python3"
  },
  "language_info": {
   "codemirror_mode": {
    "name": "ipython",
    "version": 3
   },
   "file_extension": ".py",
   "mimetype": "text/x-python",
   "name": "python",
   "nbconvert_exporter": "python",
   "pygments_lexer": "ipython3",
   "version": "3.6.2"
  }
 },
 "nbformat": 4,
 "nbformat_minor": 2
}
