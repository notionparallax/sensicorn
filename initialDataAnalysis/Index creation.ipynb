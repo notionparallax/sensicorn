{
 "cells": [
  {
   "cell_type": "code",
   "execution_count": 24,
   "metadata": {
    "collapsed": true
   },
   "outputs": [],
   "source": [
    "from pymongo import MongoClient, IndexModel, ASCENDING\n",
    "from tqdm import tqdm\n",
    "import json\n",
    "import datetime\n",
    "import pytz\n",
    "import pandas as pd\n",
    "import matplotlib.pyplot as plt\n",
    "%matplotlib inline\n"
   ]
  },
  {
   "cell_type": "code",
   "execution_count": 3,
   "metadata": {
    "collapsed": true
   },
   "outputs": [],
   "source": [
    "client = MongoClient()"
   ]
  },
  {
   "cell_type": "code",
   "execution_count": 3,
   "metadata": {
    "collapsed": true
   },
   "outputs": [],
   "source": [
    "db = client['test']"
   ]
  },
  {
   "cell_type": "code",
   "execution_count": 4,
   "metadata": {
    "collapsed": true
   },
   "outputs": [],
   "source": [
    "# collections = ['beacondetections']"
   ]
  },
  {
   "cell_type": "code",
   "execution_count": 5,
   "metadata": {
    "collapsed": true
   },
   "outputs": [],
   "source": [
    "collections = [x for x in db.collection_names() if x.startswith('beacon') and x != 'beacondetectionsweek5to7']"
   ]
  },
  {
   "cell_type": "markdown",
   "metadata": {},
   "source": [
    "for c  in collections:\n",
    "    print('===   {}  ==='.format(c))\n",
    "    print('min timestamp {}'.format(db[c].find_one(sort=[('time', 1)])['time']))\n",
    "    print('max timestamp {}\\n'.format(db[c].find_one(sort=[('time', -1)])['time']))\n",
    "    "
   ]
  },
  {
   "cell_type": "code",
   "execution_count": 11,
   "metadata": {
    "collapsed": true
   },
   "outputs": [],
   "source": [
    "import dateutil.parser\n",
    "x = db['beacondetections'].find({\"$or\": [\n",
    "    { \"time\": {\n",
    "       \"$gte\": dateutil.parser.parse(\"2016-11-24T10:06:34+00:00\"), \n",
    "       \"$lt\": dateutil.parser.parse(\"2016-11-24T12:07:04.596158+00:00\")\n",
    "    }},\n",
    "    { \"time\": {\n",
    "       \"$gte\": dateutil.parser.parse(\"2016-11-24T18:08:36.384616+00:00\"), \n",
    "       \"$lt\": dateutil.parser.parse(\"2016-11-24T20:09:06.980772+00:00\")\n",
    "    }},\n",
    "    { \"time\": {\n",
    "       \"$gte\": dateutil.parser.parse(\"2016-11-25T08:12:10.557688+00:00\"), \n",
    "       \"$lt\": dateutil.parser.parse(\"2016-11-25T19:14:58.836541+00:00\")\n",
    "    }},\n",
    "    { \"time\": {\n",
    "       \"$gte\": dateutil.parser.parse(\"2016-11-27T08:24:24.865383+00:00\"), \n",
    "       \"$lt\": dateutil.parser.parse(\"2016-11-27T16:26:27.249997+00:00\")\n",
    "    }},\n",
    "    { \"time\": {\n",
    "       \"$gte\": dateutil.parser.parse(\"2016-11-28T09:30:47.317308+00:00\"), \n",
    "       \"$lt\": dateutil.parser.parse(\"2016-11-28T18:33:05+00:00\")\n",
    "    }\n",
    "    }\n",
    "    ]\n",
    "    }).limit(100)\n",
    "\n",
    "\n"
   ]
  },
  {
   "cell_type": "code",
   "execution_count": 44,
   "metadata": {
    "collapsed": true
   },
   "outputs": [],
   "source": [
    "d = [\n",
    "    { \"time\": {\n",
    "       \"$gte\": dateutil.parser.parse(\"2016-11-24T10:06:34+11:00\"), \n",
    "       \"$lt\": dateutil.parser.parse(\"2016-11-24T12:07:04.596158+11:00\")\n",
    "    }},\n",
    "    { \"time\": {\n",
    "       \"$gte\": dateutil.parser.parse(\"2016-11-24T18:08:36.384616+11:00\"), \n",
    "       \"$lt\": dateutil.parser.parse(\"2016-11-24T20:09:06.980772+11:00\")\n",
    "    }},\n",
    "    { \"time\": {\n",
    "       \"$gte\": dateutil.parser.parse(\"2016-11-25T08:12:10.557688+11:00\"), \n",
    "       \"$lt\": dateutil.parser.parse(\"2016-11-25T19:14:58.836541+11:00\")\n",
    "    }},\n",
    "    { \"time\": {\n",
    "       \"$gte\": dateutil.parser.parse(\"2016-11-27T08:24:24.865383+11:00\"), \n",
    "       \"$lt\": dateutil.parser.parse(\"2016-11-27T16:26:27.249997+11:00\")\n",
    "    }},\n",
    "    { \"time\": {\n",
    "       \"$gte\": dateutil.parser.parse(\"2016-11-28T09:30:47.317308+11:00\"), \n",
    "       \"$lt\": dateutil.parser.parse(\"2016-11-28T18:33:05+11:00\")\n",
    "    }\n",
    "    }\n",
    "    ]"
   ]
  },
  {
   "cell_type": "code",
   "execution_count": 45,
   "metadata": {},
   "outputs": [
    {
     "name": "stdout",
     "output_type": "stream",
     "text": [
      "[{'time': {'$gte': {'$date': 1479942394000}, '$lt': {'$date': 1479949624596}}}, {'time': {'$gte': {'$date': 1479942394000}, '$lt': {'$date': 1479949624596}}}, {'time': {'$gte': {'$date': 1479971316385}, '$lt': {'$date': 1479978546981}}}, {'time': {'$gte': {'$date': 1479971316385}, '$lt': {'$date': 1479978546981}}}, {'time': {'$gte': {'$date': 1480021930558}, '$lt': {'$date': 1480061698837}}}, {'time': {'$gte': {'$date': 1480021930558}, '$lt': {'$date': 1480061698837}}}, {'time': {'$gte': {'$date': 1480195464865}, '$lt': {'$date': 1480224387250}}}, {'time': {'$gte': {'$date': 1480195464865}, '$lt': {'$date': 1480224387250}}}, {'time': {'$gte': {'$date': 1480285847317}, '$lt': {'$date': 1480318385000}}}, {'time': {'$gte': {'$date': 1480285847317}, '$lt': {'$date': 1480318385000}}}]\n"
     ]
    }
   ],
   "source": [
    "query = []\n",
    "for i in d:\n",
    "    for v in i.values():\n",
    "        q = {}\n",
    "        t = {}\n",
    "        q[\"time\"] = t\n",
    "        for key, value in v.items():\n",
    "            t[key] = {'$date': round(unix_time_millis(value))}\n",
    "            query.append(q)\n",
    "print(query)\n",
    "#             print(f\"{key}, {round(unix_time_millis(value))}\\n\")"
   ]
  },
  {
   "cell_type": "code",
   "execution_count": 34,
   "metadata": {
    "collapsed": true
   },
   "outputs": [],
   "source": [
    "epoch = datetime.datetime.utcfromtimestamp(0)\n",
    "epoch = pytz.utc.localize(epoch)\n",
    "def unix_time_millis(dt):\n",
    "    return (dt - epoch).total_seconds() * 1000"
   ]
  },
  {
   "cell_type": "code",
   "execution_count": 31,
   "metadata": {},
   "outputs": [
    {
     "data": {
      "text/plain": [
       "datetime.datetime(2016, 11, 28, 9, 30, 47, 317308, tzinfo=tzutc())"
      ]
     },
     "execution_count": 31,
     "metadata": {},
     "output_type": "execute_result"
    }
   ],
   "source": [
    "dateutil.parser.parse(\"2016-11-28T09:30:47.317308+00:00\")"
   ]
  },
  {
   "cell_type": "code",
   "execution_count": 35,
   "metadata": {},
   "outputs": [
    {
     "data": {
      "text/plain": [
       "datetime.datetime(1970, 1, 1, 0, 0, tzinfo=<UTC>)"
      ]
     },
     "execution_count": 35,
     "metadata": {},
     "output_type": "execute_result"
    }
   ],
   "source": [
    "epoch"
   ]
  },
  {
   "cell_type": "code",
   "execution_count": 12,
   "metadata": {
    "collapsed": true
   },
   "outputs": [],
   "source": [
    "def stream_json(query):\n",
    "    ''' call to turn a query in into a json stream.\n",
    "    '''\n",
    "    query_iter = query.__iter__()\n",
    "    try:\n",
    "        prev_result = next(query_iter)\n",
    "    except StopIteration as e:\n",
    "        yield '[]'\n",
    "        raise e\n",
    "\n",
    "    yield '[\\n'\n",
    "\n",
    "    for result in query_iter:\n",
    "        yield json.dumps(prev_result) + ','\n",
    "        prev_result = result\n",
    "\n",
    "    yield json.dumps(prev_result) + ']\\n'\n"
   ]
  },
  {
   "cell_type": "code",
   "execution_count": 13,
   "metadata": {
    "collapsed": true
   },
   "outputs": [],
   "source": [
    "import pandas as pd"
   ]
  },
  {
   "cell_type": "code",
   "execution_count": 14,
   "metadata": {
    "collapsed": true
   },
   "outputs": [],
   "source": [
    "# b = [i for i in tqdm(x)]"
   ]
  },
  {
   "cell_type": "code",
   "execution_count": 16,
   "metadata": {},
   "outputs": [
    {
     "name": "stderr",
     "output_type": "stream",
     "text": [
      "0it [00:00, ?it/s]\n"
     ]
    },
    {
     "ename": "TypeError",
     "evalue": "Object of type 'datetime' is not JSON serializable",
     "output_type": "error",
     "traceback": [
      "\u001b[1;31m---------------------------------------------------------------------------\u001b[0m",
      "\u001b[1;31mTypeError\u001b[0m                                 Traceback (most recent call last)",
      "\u001b[1;32m<ipython-input-16-cec7975702cc>\u001b[0m in \u001b[0;36m<module>\u001b[1;34m()\u001b[0m\n\u001b[0;32m      2\u001b[0m     \u001b[0mjson\u001b[0m\u001b[1;33m.\u001b[0m\u001b[0mdump\u001b[0m\u001b[1;33m(\u001b[0m\u001b[1;34m'[\\n'\u001b[0m\u001b[1;33m,\u001b[0m \u001b[0mf\u001b[0m\u001b[1;33m)\u001b[0m\u001b[1;33m\u001b[0m\u001b[0m\n\u001b[0;32m      3\u001b[0m     \u001b[1;32mfor\u001b[0m \u001b[0mi\u001b[0m \u001b[1;32min\u001b[0m \u001b[0mtqdm\u001b[0m\u001b[1;33m(\u001b[0m\u001b[0mx\u001b[0m\u001b[1;33m)\u001b[0m\u001b[1;33m:\u001b[0m\u001b[1;33m\u001b[0m\u001b[0m\n\u001b[1;32m----> 4\u001b[1;33m         \u001b[0mjson\u001b[0m\u001b[1;33m.\u001b[0m\u001b[0mdump\u001b[0m\u001b[1;33m(\u001b[0m\u001b[0mi\u001b[0m\u001b[1;33m,\u001b[0m \u001b[0mf\u001b[0m\u001b[1;33m)\u001b[0m\u001b[1;33m\u001b[0m\u001b[0m\n\u001b[0m\u001b[0;32m      5\u001b[0m         \u001b[0mf\u001b[0m\u001b[1;33m.\u001b[0m\u001b[0mwrite\u001b[0m\u001b[1;33m(\u001b[0m\u001b[1;34m','\u001b[0m\u001b[1;33m)\u001b[0m\u001b[1;33m\u001b[0m\u001b[0m\n\u001b[0;32m      6\u001b[0m     \u001b[0mjson\u001b[0m\u001b[1;33m.\u001b[0m\u001b[0mdump\u001b[0m\u001b[1;33m(\u001b[0m\u001b[1;34m'\\n]'\u001b[0m\u001b[1;33m,\u001b[0m \u001b[0mf\u001b[0m\u001b[1;33m)\u001b[0m\u001b[1;33m\u001b[0m\u001b[0m\n",
      "\u001b[1;32m~\\AppData\\Local\\Continuum\\anaconda3\\lib\\json\\__init__.py\u001b[0m in \u001b[0;36mdump\u001b[1;34m(obj, fp, skipkeys, ensure_ascii, check_circular, allow_nan, cls, indent, separators, default, sort_keys, **kw)\u001b[0m\n\u001b[0;32m    177\u001b[0m     \u001b[1;31m# could accelerate with writelines in some versions of Python, at\u001b[0m\u001b[1;33m\u001b[0m\u001b[1;33m\u001b[0m\u001b[0m\n\u001b[0;32m    178\u001b[0m     \u001b[1;31m# a debuggability cost\u001b[0m\u001b[1;33m\u001b[0m\u001b[1;33m\u001b[0m\u001b[0m\n\u001b[1;32m--> 179\u001b[1;33m     \u001b[1;32mfor\u001b[0m \u001b[0mchunk\u001b[0m \u001b[1;32min\u001b[0m \u001b[0miterable\u001b[0m\u001b[1;33m:\u001b[0m\u001b[1;33m\u001b[0m\u001b[0m\n\u001b[0m\u001b[0;32m    180\u001b[0m         \u001b[0mfp\u001b[0m\u001b[1;33m.\u001b[0m\u001b[0mwrite\u001b[0m\u001b[1;33m(\u001b[0m\u001b[0mchunk\u001b[0m\u001b[1;33m)\u001b[0m\u001b[1;33m\u001b[0m\u001b[0m\n\u001b[0;32m    181\u001b[0m \u001b[1;33m\u001b[0m\u001b[0m\n",
      "\u001b[1;32m~\\AppData\\Local\\Continuum\\anaconda3\\lib\\json\\encoder.py\u001b[0m in \u001b[0;36m_iterencode\u001b[1;34m(o, _current_indent_level)\u001b[0m\n\u001b[0;32m    428\u001b[0m             \u001b[1;32myield\u001b[0m \u001b[1;32mfrom\u001b[0m \u001b[0m_iterencode_list\u001b[0m\u001b[1;33m(\u001b[0m\u001b[0mo\u001b[0m\u001b[1;33m,\u001b[0m \u001b[0m_current_indent_level\u001b[0m\u001b[1;33m)\u001b[0m\u001b[1;33m\u001b[0m\u001b[0m\n\u001b[0;32m    429\u001b[0m         \u001b[1;32melif\u001b[0m \u001b[0misinstance\u001b[0m\u001b[1;33m(\u001b[0m\u001b[0mo\u001b[0m\u001b[1;33m,\u001b[0m \u001b[0mdict\u001b[0m\u001b[1;33m)\u001b[0m\u001b[1;33m:\u001b[0m\u001b[1;33m\u001b[0m\u001b[0m\n\u001b[1;32m--> 430\u001b[1;33m             \u001b[1;32myield\u001b[0m \u001b[1;32mfrom\u001b[0m \u001b[0m_iterencode_dict\u001b[0m\u001b[1;33m(\u001b[0m\u001b[0mo\u001b[0m\u001b[1;33m,\u001b[0m \u001b[0m_current_indent_level\u001b[0m\u001b[1;33m)\u001b[0m\u001b[1;33m\u001b[0m\u001b[0m\n\u001b[0m\u001b[0;32m    431\u001b[0m         \u001b[1;32melse\u001b[0m\u001b[1;33m:\u001b[0m\u001b[1;33m\u001b[0m\u001b[0m\n\u001b[0;32m    432\u001b[0m             \u001b[1;32mif\u001b[0m \u001b[0mmarkers\u001b[0m \u001b[1;32mis\u001b[0m \u001b[1;32mnot\u001b[0m \u001b[1;32mNone\u001b[0m\u001b[1;33m:\u001b[0m\u001b[1;33m\u001b[0m\u001b[0m\n",
      "\u001b[1;32m~\\AppData\\Local\\Continuum\\anaconda3\\lib\\json\\encoder.py\u001b[0m in \u001b[0;36m_iterencode_dict\u001b[1;34m(dct, _current_indent_level)\u001b[0m\n\u001b[0;32m    402\u001b[0m                 \u001b[1;32melse\u001b[0m\u001b[1;33m:\u001b[0m\u001b[1;33m\u001b[0m\u001b[0m\n\u001b[0;32m    403\u001b[0m                     \u001b[0mchunks\u001b[0m \u001b[1;33m=\u001b[0m \u001b[0m_iterencode\u001b[0m\u001b[1;33m(\u001b[0m\u001b[0mvalue\u001b[0m\u001b[1;33m,\u001b[0m \u001b[0m_current_indent_level\u001b[0m\u001b[1;33m)\u001b[0m\u001b[1;33m\u001b[0m\u001b[0m\n\u001b[1;32m--> 404\u001b[1;33m                 \u001b[1;32myield\u001b[0m \u001b[1;32mfrom\u001b[0m \u001b[0mchunks\u001b[0m\u001b[1;33m\u001b[0m\u001b[0m\n\u001b[0m\u001b[0;32m    405\u001b[0m         \u001b[1;32mif\u001b[0m \u001b[0mnewline_indent\u001b[0m \u001b[1;32mis\u001b[0m \u001b[1;32mnot\u001b[0m \u001b[1;32mNone\u001b[0m\u001b[1;33m:\u001b[0m\u001b[1;33m\u001b[0m\u001b[0m\n\u001b[0;32m    406\u001b[0m             \u001b[0m_current_indent_level\u001b[0m \u001b[1;33m-=\u001b[0m \u001b[1;36m1\u001b[0m\u001b[1;33m\u001b[0m\u001b[0m\n",
      "\u001b[1;32m~\\AppData\\Local\\Continuum\\anaconda3\\lib\\json\\encoder.py\u001b[0m in \u001b[0;36m_iterencode\u001b[1;34m(o, _current_indent_level)\u001b[0m\n\u001b[0;32m    435\u001b[0m                     \u001b[1;32mraise\u001b[0m \u001b[0mValueError\u001b[0m\u001b[1;33m(\u001b[0m\u001b[1;34m\"Circular reference detected\"\u001b[0m\u001b[1;33m)\u001b[0m\u001b[1;33m\u001b[0m\u001b[0m\n\u001b[0;32m    436\u001b[0m                 \u001b[0mmarkers\u001b[0m\u001b[1;33m[\u001b[0m\u001b[0mmarkerid\u001b[0m\u001b[1;33m]\u001b[0m \u001b[1;33m=\u001b[0m \u001b[0mo\u001b[0m\u001b[1;33m\u001b[0m\u001b[0m\n\u001b[1;32m--> 437\u001b[1;33m             \u001b[0mo\u001b[0m \u001b[1;33m=\u001b[0m \u001b[0m_default\u001b[0m\u001b[1;33m(\u001b[0m\u001b[0mo\u001b[0m\u001b[1;33m)\u001b[0m\u001b[1;33m\u001b[0m\u001b[0m\n\u001b[0m\u001b[0;32m    438\u001b[0m             \u001b[1;32myield\u001b[0m \u001b[1;32mfrom\u001b[0m \u001b[0m_iterencode\u001b[0m\u001b[1;33m(\u001b[0m\u001b[0mo\u001b[0m\u001b[1;33m,\u001b[0m \u001b[0m_current_indent_level\u001b[0m\u001b[1;33m)\u001b[0m\u001b[1;33m\u001b[0m\u001b[0m\n\u001b[0;32m    439\u001b[0m             \u001b[1;32mif\u001b[0m \u001b[0mmarkers\u001b[0m \u001b[1;32mis\u001b[0m \u001b[1;32mnot\u001b[0m \u001b[1;32mNone\u001b[0m\u001b[1;33m:\u001b[0m\u001b[1;33m\u001b[0m\u001b[0m\n",
      "\u001b[1;32m~\\AppData\\Local\\Continuum\\anaconda3\\lib\\json\\encoder.py\u001b[0m in \u001b[0;36mdefault\u001b[1;34m(self, o)\u001b[0m\n\u001b[0;32m    178\u001b[0m         \"\"\"\n\u001b[0;32m    179\u001b[0m         raise TypeError(\"Object of type '%s' is not JSON serializable\" %\n\u001b[1;32m--> 180\u001b[1;33m                         o.__class__.__name__)\n\u001b[0m\u001b[0;32m    181\u001b[0m \u001b[1;33m\u001b[0m\u001b[0m\n\u001b[0;32m    182\u001b[0m     \u001b[1;32mdef\u001b[0m \u001b[0mencode\u001b[0m\u001b[1;33m(\u001b[0m\u001b[0mself\u001b[0m\u001b[1;33m,\u001b[0m \u001b[0mo\u001b[0m\u001b[1;33m)\u001b[0m\u001b[1;33m:\u001b[0m\u001b[1;33m\u001b[0m\u001b[0m\n",
      "\u001b[1;31mTypeError\u001b[0m: Object of type 'datetime' is not JSON serializable"
     ]
    }
   ],
   "source": [
    "with open('file.json', 'w') as f:\n",
    "    json.dump('[\\n', f)\n",
    "    for i in tqdm(x):\n",
    "        json.dump(i, f)\n",
    "        f.write(',')\n",
    "    json.dump('\\n]', f)"
   ]
  },
  {
   "cell_type": "code",
   "execution_count": 6,
   "metadata": {
    "collapsed": true
   },
   "outputs": [],
   "source": [
    "a = pd.read_csv('training.csv')"
   ]
  },
  {
   "cell_type": "code",
   "execution_count": 7,
   "metadata": {},
   "outputs": [
    {
     "data": {
      "text/html": [
       "<div>\n",
       "<style>\n",
       "    .dataframe thead tr:only-child th {\n",
       "        text-align: right;\n",
       "    }\n",
       "\n",
       "    .dataframe thead th {\n",
       "        text-align: left;\n",
       "    }\n",
       "\n",
       "    .dataframe tbody tr th {\n",
       "        vertical-align: top;\n",
       "    }\n",
       "</style>\n",
       "<table border=\"1\" class=\"dataframe\">\n",
       "  <thead>\n",
       "    <tr style=\"text-align: right;\">\n",
       "      <th></th>\n",
       "      <th>minor</th>\n",
       "      <th>uuid</th>\n",
       "      <th>time</th>\n",
       "      <th>rssi</th>\n",
       "      <th>agentId</th>\n",
       "    </tr>\n",
       "  </thead>\n",
       "  <tbody>\n",
       "    <tr>\n",
       "      <th>0</th>\n",
       "      <td>288</td>\n",
       "      <td>17520757a1412b175c03687a7102a104</td>\n",
       "      <td>2016-11-23T23:06:34.012Z</td>\n",
       "      <td>-72</td>\n",
       "      <td>000000007d418b7a</td>\n",
       "    </tr>\n",
       "    <tr>\n",
       "      <th>1</th>\n",
       "      <td>288</td>\n",
       "      <td>17520757a1412b175c03687a7102a104</td>\n",
       "      <td>2016-11-23T23:06:34.019Z</td>\n",
       "      <td>-82</td>\n",
       "      <td>00000000029d74c5</td>\n",
       "    </tr>\n",
       "    <tr>\n",
       "      <th>2</th>\n",
       "      <td>360</td>\n",
       "      <td>17520757a1412b175c03687a7102a104</td>\n",
       "      <td>2016-11-23T23:06:34.059Z</td>\n",
       "      <td>-96</td>\n",
       "      <td>00000000c7ce4c76</td>\n",
       "    </tr>\n",
       "    <tr>\n",
       "      <th>3</th>\n",
       "      <td>360</td>\n",
       "      <td>17520757a1412b175c03687a7102a104</td>\n",
       "      <td>2016-11-23T23:06:34.061Z</td>\n",
       "      <td>-75</td>\n",
       "      <td>000000005e6ed248</td>\n",
       "    </tr>\n",
       "    <tr>\n",
       "      <th>4</th>\n",
       "      <td>360</td>\n",
       "      <td>17520757a1412b175c03687a7102a104</td>\n",
       "      <td>2016-11-23T23:06:34.061Z</td>\n",
       "      <td>-87</td>\n",
       "      <td>00000000fc7843f8</td>\n",
       "    </tr>\n",
       "  </tbody>\n",
       "</table>\n",
       "</div>"
      ],
      "text/plain": [
       "   minor                              uuid                      time  rssi  \\\n",
       "0    288  17520757a1412b175c03687a7102a104  2016-11-23T23:06:34.012Z   -72   \n",
       "1    288  17520757a1412b175c03687a7102a104  2016-11-23T23:06:34.019Z   -82   \n",
       "2    360  17520757a1412b175c03687a7102a104  2016-11-23T23:06:34.059Z   -96   \n",
       "3    360  17520757a1412b175c03687a7102a104  2016-11-23T23:06:34.061Z   -75   \n",
       "4    360  17520757a1412b175c03687a7102a104  2016-11-23T23:06:34.061Z   -87   \n",
       "\n",
       "            agentId  \n",
       "0  000000007d418b7a  \n",
       "1  00000000029d74c5  \n",
       "2  00000000c7ce4c76  \n",
       "3  000000005e6ed248  \n",
       "4  00000000fc7843f8  "
      ]
     },
     "execution_count": 7,
     "metadata": {},
     "output_type": "execute_result"
    }
   ],
   "source": [
    "a.head()"
   ]
  },
  {
   "cell_type": "code",
   "execution_count": 15,
   "metadata": {},
   "outputs": [
    {
     "data": {
      "text/plain": [
       "minor                                    86\n",
       "uuid       17520757a1412b175c03687a7102a104\n",
       "time               2016-11-23T23:09:14.270Z\n",
       "rssi                                    -83\n",
       "agentId                    0000000081d28129\n",
       "Name: 100000, dtype: object"
      ]
     },
     "execution_count": 15,
     "metadata": {},
     "output_type": "execute_result"
    }
   ],
   "source": [
    "a.iloc[100000]"
   ]
  },
  {
   "cell_type": "code",
   "execution_count": 18,
   "metadata": {},
   "outputs": [
    {
     "name": "stdout",
     "output_type": "stream",
     "text": [
      "<class 'pandas.core.frame.DataFrame'>\n",
      "RangeIndex: 70949512 entries, 0 to 70949511\n",
      "Data columns (total 5 columns):\n",
      "minor      int64\n",
      "uuid       object\n",
      "time       object\n",
      "rssi       int64\n",
      "agentId    object\n",
      "dtypes: int64(2), object(3)\n",
      "memory usage: 2.6+ GB\n"
     ]
    }
   ],
   "source": [
    "a.info()"
   ]
  },
  {
   "cell_type": "code",
   "execution_count": 16,
   "metadata": {},
   "outputs": [
    {
     "data": {
      "text/plain": [
       "Index(['minor', 'uuid', 'time', 'rssi', 'agentId'], dtype='object')"
      ]
     },
     "execution_count": 16,
     "metadata": {},
     "output_type": "execute_result"
    }
   ],
   "source": [
    "a.columns"
   ]
  },
  {
   "cell_type": "code",
   "execution_count": 17,
   "metadata": {},
   "outputs": [
    {
     "data": {
      "text/plain": [
       "array([  288,   360,    23,   404,   294,   377,    18,   371,   386,\n",
       "         388,   402,   296,   304,   370,   357,     5,     3,   100,\n",
       "         384,   406,   393,   407,   130,   369,     7,   372,   256,\n",
       "         385,   400,   375,   405,   116,    72,   401,   153,   358,\n",
       "          32,   131,   368,    39,    86,   390,   409,    84,   361,\n",
       "          82,   387,   354,   403,   374,   359,   355,   392,   353,\n",
       "         275,    50,   295,   152,   391,   120, 21504,   145, 34816,\n",
       "         114, 29184], dtype=int64)"
      ]
     },
     "execution_count": 17,
     "metadata": {},
     "output_type": "execute_result"
    }
   ],
   "source": [
    "a.minor.unique()"
   ]
  },
  {
   "cell_type": "code",
   "execution_count": 19,
   "metadata": {},
   "outputs": [
    {
     "data": {
      "text/plain": [
       "65"
      ]
     },
     "execution_count": 19,
     "metadata": {},
     "output_type": "execute_result"
    }
   ],
   "source": [
    "len(a.minor.unique())"
   ]
  },
  {
   "cell_type": "code",
   "execution_count": 20,
   "metadata": {},
   "outputs": [
    {
     "data": {
      "text/plain": [
       "array(['000000007d418b7a', '00000000029d74c5', '00000000c7ce4c76',\n",
       "       '000000005e6ed248', '00000000fc7843f8', '00000000b648975e',\n",
       "       '00000000035d7102', '000000001ec6ed41', '0000000031f984ad',\n",
       "       '00000000b9cf80e3', '00000000b571f8e3', '000000002c4ab387',\n",
       "       '0000000063a52908', '000000005de72066', '000000002f9f3fae',\n",
       "       '000000004ff7d75b', '0000000023e614ba', '0000000044bfba76',\n",
       "       '00000000e9753ecb', '0000000090560630', '0000000081d28129',\n",
       "       '000000000b41629a', '0000000084e99283', '0000000013bed9f7',\n",
       "       '00000000c6134299', '00000000449f65df', '0000000018550a76',\n",
       "       '00000000733c80c0', '000000003d6e520a', '000000001b1b0d2c',\n",
       "       '00000000fe8992e8', '000000001b31f3ec', '0000000097ad1922',\n",
       "       '000000001159bb8a', '000000006c1a3b5a', '00000000cdfeb599',\n",
       "       '00000000b6672df6', '000000004cb3ff60', '0000000020294bbd',\n",
       "       '000000004ae99a8b', '0000000000d80090', '00000000fe55db18'], dtype=object)"
      ]
     },
     "execution_count": 20,
     "metadata": {},
     "output_type": "execute_result"
    }
   ],
   "source": [
    "a.agentId.unique()"
   ]
  },
  {
   "cell_type": "code",
   "execution_count": 21,
   "metadata": {},
   "outputs": [
    {
     "data": {
      "text/plain": [
       "array(['17520757a1412b175c03687a7102a104'], dtype=object)"
      ]
     },
     "execution_count": 21,
     "metadata": {},
     "output_type": "execute_result"
    }
   ],
   "source": [
    "a.uuid.unique()"
   ]
  },
  {
   "cell_type": "code",
   "execution_count": 25,
   "metadata": {},
   "outputs": [
    {
     "data": {
      "text/plain": [
       "<matplotlib.axes._subplots.AxesSubplot at 0x17a00a09ba8>"
      ]
     },
     "execution_count": 25,
     "metadata": {},
     "output_type": "execute_result"
    },
    {
     "data": {
      "image/png": "[encoded data removed]",
      "text/plain": [
       "<matplotlib.figure.Figure at 0xbd80c3b2e8>"
      ]
     },
     "metadata": {},
     "output_type": "display_data"
    }
   ],
   "source": [
    "a.rssi.hist(bins=30)"
   ]
  },
  {
   "cell_type": "code",
   "execution_count": null,
   "metadata": {
    "collapsed": true
   },
   "outputs": [],
   "source": []
  }
 ],
 "metadata": {
  "kernelspec": {
   "display_name": "Python 3",
   "language": "python",
   "name": "python3"
  },
  "language_info": {
   "codemirror_mode": {
    "name": "ipython",
    "version": 3
   },
   "file_extension": ".py",
   "mimetype": "text/x-python",
   "name": "python",
   "nbconvert_exporter": "python",
   "pygments_lexer": "ipython3",
   "version": "3.5.4"
  }
 },
 "nbformat": 4,
 "nbformat_minor": 2
}
