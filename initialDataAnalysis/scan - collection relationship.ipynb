{
 "cells": [
  {
   "cell_type": "code",
   "execution_count": 1,
   "metadata": {
    "collapsed": false
   },
   "outputs": [],
   "source": [
    "import pandas as pd\n",
    "\n",
    "import matplotlib\n",
    "import matplotlib.pyplot as plt\n",
    "from matplotlib.dates import DateFormatter, MinuteLocator, SecondLocator\n",
    "import numpy as np\n",
    "from StringIO import StringIO\n",
    "import datetime as dt"
   ]
  },
  {
   "cell_type": "code",
   "execution_count": 2,
   "metadata": {
    "collapsed": true
   },
   "outputs": [],
   "source": [
    "%matplotlib inline\n",
    "plt.rcParams['figure.figsize'] = (15, 8)"
   ]
  },
  {
   "cell_type": "markdown",
   "metadata": {},
   "source": [
    "Ishaan got the following dates from a query on the db:\n",
    "\n",
    "```\n",
    "===   beacondetectionsweek3  ===\n",
    "min timestamp 2016-09-30 18:20:54.076000\n",
    "max timestamp 2016-10-08 01:48:09.511000\n",
    "\n",
    "===   beacondetectionsweek4  ===\n",
    "min timestamp 2016-10-08 01:47:35.648000\n",
    "max timestamp 2016-10-15 04:54:24.886000\n",
    "\n",
    "===   beacondetections  ===\n",
    "min timestamp 2016-11-05 18:52:21.240000\n",
    "max timestamp 2016-12-02 01:34:45.775000\n",
    "\n",
    "===   beacondetectionsweek1weekend  ===\n",
    "min timestamp 2016-09-16 03:48:11.545000\n",
    "max timestamp 2016-09-18 23:23:09.554000\n",
    "\n",
    "===   beacondetectionsweek1to2  ===\n",
    "min timestamp 2016-09-18 18:00:58.329000\n",
    "max timestamp 2016-09-21 23:54:41.240000\n",
    "```\n",
    "\n",
    "I converted them into a dataframe and did some queries:"
   ]
  },
  {
   "cell_type": "code",
   "execution_count": 3,
   "metadata": {
    "code_folding": [],
    "collapsed": false
   },
   "outputs": [
    {
     "data": {
      "text/html": [
       "<div>\n",
       "<table border=\"1\" class=\"dataframe\">\n",
       "  <thead>\n",
       "    <tr style=\"text-align: right;\">\n",
       "      <th></th>\n",
       "      <th>collection name</th>\n",
       "      <th>start</th>\n",
       "      <th>end</th>\n",
       "    </tr>\n",
       "  </thead>\n",
       "  <tbody>\n",
       "    <tr>\n",
       "      <th>0</th>\n",
       "      <td>beacondetectionsweek3</td>\n",
       "      <td>30/09/2016</td>\n",
       "      <td>8/10/2016</td>\n",
       "    </tr>\n",
       "    <tr>\n",
       "      <th>1</th>\n",
       "      <td>beacondetectionsweek4</td>\n",
       "      <td>8/10/2016</td>\n",
       "      <td>15/10/2016</td>\n",
       "    </tr>\n",
       "    <tr>\n",
       "      <th>2</th>\n",
       "      <td>beacondetections</td>\n",
       "      <td>5/11/2016</td>\n",
       "      <td>2/12/2016</td>\n",
       "    </tr>\n",
       "    <tr>\n",
       "      <th>3</th>\n",
       "      <td>beacondetectionsweek1weekend</td>\n",
       "      <td>16/09/2016</td>\n",
       "      <td>18/09/2016</td>\n",
       "    </tr>\n",
       "    <tr>\n",
       "      <th>4</th>\n",
       "      <td>beacondetectionsweek1to2</td>\n",
       "      <td>18/09/2016</td>\n",
       "      <td>21/09/2016</td>\n",
       "    </tr>\n",
       "  </tbody>\n",
       "</table>\n",
       "</div>"
      ],
      "text/plain": [
       "                collection name       start         end\n",
       "0         beacondetectionsweek3  30/09/2016   8/10/2016\n",
       "1         beacondetectionsweek4   8/10/2016  15/10/2016\n",
       "2              beacondetections   5/11/2016   2/12/2016\n",
       "3  beacondetectionsweek1weekend  16/09/2016  18/09/2016\n",
       "4      beacondetectionsweek1to2  18/09/2016  21/09/2016"
      ]
     },
     "execution_count": 3,
     "metadata": {},
     "output_type": "execute_result"
    }
   ],
   "source": [
    "some_dates = [\n",
    "[\"collection name\", \"start\", \"end\"],\n",
    "[\"beacondetectionsweek3\", \"30/09/2016\", \"8/10/2016\"],\n",
    "[\"beacondetectionsweek4\", \"8/10/2016\", \"15/10/2016\"],\n",
    "[\"beacondetections\", \"5/11/2016\", \"2/12/2016\"],\n",
    "[\"beacondetectionsweek1weekend\", \"16/09/2016\", \"18/09/2016\"],\n",
    "[\"beacondetectionsweek1to2\", \"18/09/2016\", \"21/09/2016\"]\n",
    "]\n",
    "\n",
    "headers = some_dates.pop(0)\n",
    "\n",
    "df = pd.DataFrame(some_dates, columns=headers)\n",
    "df"
   ]
  },
  {
   "cell_type": "markdown",
   "metadata": {},
   "source": [
    "It's hard to work directly with dates, so this converts them to epoch integers"
   ]
  },
  {
   "cell_type": "code",
   "execution_count": 4,
   "metadata": {
    "collapsed": false
   },
   "outputs": [
    {
     "data": {
      "text/html": [
       "<div>\n",
       "<table border=\"1\" class=\"dataframe\">\n",
       "  <thead>\n",
       "    <tr style=\"text-align: right;\">\n",
       "      <th></th>\n",
       "      <th>collection name</th>\n",
       "      <th>start</th>\n",
       "      <th>end</th>\n",
       "      <th>s</th>\n",
       "      <th>e</th>\n",
       "    </tr>\n",
       "  </thead>\n",
       "  <tbody>\n",
       "    <tr>\n",
       "      <th>0</th>\n",
       "      <td>beacondetectionsweek1weekend</td>\n",
       "      <td>16/09/2016</td>\n",
       "      <td>18/09/2016</td>\n",
       "      <td>736223</td>\n",
       "      <td>736225</td>\n",
       "    </tr>\n",
       "    <tr>\n",
       "      <th>1</th>\n",
       "      <td>beacondetectionsweek1to2</td>\n",
       "      <td>18/09/2016</td>\n",
       "      <td>21/09/2016</td>\n",
       "      <td>736225</td>\n",
       "      <td>736228</td>\n",
       "    </tr>\n",
       "    <tr>\n",
       "      <th>2</th>\n",
       "      <td>beacondetectionsweek3</td>\n",
       "      <td>30/09/2016</td>\n",
       "      <td>8/10/2016</td>\n",
       "      <td>736237</td>\n",
       "      <td>736245</td>\n",
       "    </tr>\n",
       "    <tr>\n",
       "      <th>3</th>\n",
       "      <td>beacondetectionsweek4</td>\n",
       "      <td>8/10/2016</td>\n",
       "      <td>15/10/2016</td>\n",
       "      <td>736245</td>\n",
       "      <td>736252</td>\n",
       "    </tr>\n",
       "    <tr>\n",
       "      <th>4</th>\n",
       "      <td>beacondetections</td>\n",
       "      <td>5/11/2016</td>\n",
       "      <td>2/12/2016</td>\n",
       "      <td>736273</td>\n",
       "      <td>736300</td>\n",
       "    </tr>\n",
       "  </tbody>\n",
       "</table>\n",
       "</div>"
      ],
      "text/plain": [
       "                collection name       start         end       s       e\n",
       "0  beacondetectionsweek1weekend  16/09/2016  18/09/2016  736223  736225\n",
       "1      beacondetectionsweek1to2  18/09/2016  21/09/2016  736225  736228\n",
       "2         beacondetectionsweek3  30/09/2016   8/10/2016  736237  736245\n",
       "3         beacondetectionsweek4   8/10/2016  15/10/2016  736245  736252\n",
       "4              beacondetections   5/11/2016   2/12/2016  736273  736300"
      ]
     },
     "execution_count": 4,
     "metadata": {},
     "output_type": "execute_result"
    }
   ],
   "source": [
    "tf = '%d/%m/%Y'\n",
    "\n",
    "df[\"s\"] = df.start.apply(lambda x: int(matplotlib.dates.date2num(dt.datetime.strptime(x, tf))))\n",
    "df[\"e\"] = df.end.apply(lambda x: int(matplotlib.dates.date2num(dt.datetime.strptime(x, tf))))\n",
    "df.sort_values(\"s\", inplace=True)\n",
    "df.reset_index(drop=True, inplace=True)\n",
    "df"
   ]
  },
  {
   "cell_type": "markdown",
   "metadata": {
    "collapsed": false
   },
   "source": [
    "If we plot the periods we can see which each collection contains and how much they overlap."
   ]
  },
  {
   "cell_type": "code",
   "execution_count": 5,
   "metadata": {
    "collapsed": false,
    "scrolled": true
   },
   "outputs": [
    {
     "data": {
      "image/png": "[encoded data removed]",
      "text/plain": [
       "<matplotlib.figure.Figure at 0x7f3de003f310>"
      ]
     },
     "metadata": {},
     "output_type": "display_data"
    }
   ],
   "source": [
    "colours = ['b', 'g', 'r', 'c', 'm', 'y']\n",
    "for index, row in df.iterrows():\n",
    "    plt.plot([df.s[index], df.e[index]], \n",
    "             [index, index], \n",
    "             colours[index], lw=35)\n",
    "    label = \"{}: {} days\".format(df[\"collection name\"][index], df.e[index]- df.s[index])\n",
    "    plt.text(df.s[index], index, label, fontsize=10)\n",
    "\n",
    "plt.ylim(-1,5)\n",
    "plt.axis('off')\n",
    "plt.show()"
   ]
  },
  {
   "cell_type": "markdown",
   "metadata": {},
   "source": [
    "The coloured bars show the _extent_ of the collections. They come from a min-max on the date field, so they don't show _how_ they intersect. Presumably they overlap because the base stations cached data until they got a good connection, perhaps some base stations were caching for 3-4 days until they'd fully caught up!\n",
    "\n",
    "We'd like to see which collection is responsible for the training data. To see that, let's plot the training scans onto the same diagram.\n",
    "\n",
    "Let's load up the scan data file:"
   ]
  },
  {
   "cell_type": "code",
   "execution_count": 6,
   "metadata": {
    "collapsed": false
   },
   "outputs": [
    {
     "name": "stdout",
     "output_type": "stream",
     "text": [
      "['yudi2' 'Tiara' 'daniel' 'Yudie' 'Julia' 'julia2' 'alicia' 'Zoheb' 'rick'\n",
      " 'betsabe' 'blocker' 'aliasgher' 'michael' 'simon' 'taha' 'Hugh' 'aron'\n",
      " 'mufaddal' 'arjun']\n"
     ]
    },
    {
     "data": {
      "text/html": [
       "<div>\n",
       "<table border=\"1\" class=\"dataframe\">\n",
       "  <thead>\n",
       "    <tr style=\"text-align: right;\">\n",
       "      <th></th>\n",
       "      <th>Unnamed: 0</th>\n",
       "      <th>stickerID</th>\n",
       "      <th>timeStamp</th>\n",
       "      <th>person</th>\n",
       "      <th>badge</th>\n",
       "      <th>minor</th>\n",
       "    </tr>\n",
       "  </thead>\n",
       "  <tbody>\n",
       "    <tr>\n",
       "      <th>0</th>\n",
       "      <td>0</td>\n",
       "      <td>68</td>\n",
       "      <td>2016-11-28 17:36:39</td>\n",
       "      <td>yudi2</td>\n",
       "      <td>NT</td>\n",
       "      <td>0</td>\n",
       "    </tr>\n",
       "    <tr>\n",
       "      <th>1</th>\n",
       "      <td>1</td>\n",
       "      <td>67</td>\n",
       "      <td>2016-11-28 17:36:30</td>\n",
       "      <td>yudi2</td>\n",
       "      <td>NT</td>\n",
       "      <td>0</td>\n",
       "    </tr>\n",
       "    <tr>\n",
       "      <th>2</th>\n",
       "      <td>2</td>\n",
       "      <td>77</td>\n",
       "      <td>2016-11-28 17:36:24</td>\n",
       "      <td>yudi2</td>\n",
       "      <td>NT</td>\n",
       "      <td>0</td>\n",
       "    </tr>\n",
       "    <tr>\n",
       "      <th>3</th>\n",
       "      <td>3</td>\n",
       "      <td>81</td>\n",
       "      <td>2016-11-28 17:36:20</td>\n",
       "      <td>yudi2</td>\n",
       "      <td>NT</td>\n",
       "      <td>0</td>\n",
       "    </tr>\n",
       "    <tr>\n",
       "      <th>4</th>\n",
       "      <td>4</td>\n",
       "      <td>77</td>\n",
       "      <td>2016-11-28 17:36:14</td>\n",
       "      <td>yudi2</td>\n",
       "      <td>NT</td>\n",
       "      <td>0</td>\n",
       "    </tr>\n",
       "  </tbody>\n",
       "</table>\n",
       "</div>"
      ],
      "text/plain": [
       "   Unnamed: 0  stickerID           timeStamp person badge  minor\n",
       "0           0         68 2016-11-28 17:36:39  yudi2    NT      0\n",
       "1           1         67 2016-11-28 17:36:30  yudi2    NT      0\n",
       "2           2         77 2016-11-28 17:36:24  yudi2    NT      0\n",
       "3           3         81 2016-11-28 17:36:20  yudi2    NT      0\n",
       "4           4         77 2016-11-28 17:36:14  yudi2    NT      0"
      ]
     },
     "execution_count": 6,
     "metadata": {},
     "output_type": "execute_result"
    }
   ],
   "source": [
    "dtypes = {\"Unnamed: 0\": int, \"stickerID\": int, \"timeStamp\": str, \"person\": str, \"badge\": str, \"minor\": int}\n",
    "parse_dates = [\"timeStamp\"]\n",
    "scans = pd.read_csv(\"allScanDetections.csv\", \n",
    "                    dtype=dtypes,\n",
    "                    parse_dates=parse_dates, \n",
    "                    date_parser=pd.datetools.to_datetime)\n",
    "print scans.person.unique()\n",
    "scans.head()"
   ]
  },
  {
   "cell_type": "code",
   "execution_count": 7,
   "metadata": {
    "collapsed": false
   },
   "outputs": [],
   "source": [
    "scans[\"d_num\"] = scans.timeStamp.apply(lambda x: matplotlib.dates.date2num(x))"
   ]
  },
  {
   "cell_type": "code",
   "execution_count": 8,
   "metadata": {
    "collapsed": false
   },
   "outputs": [],
   "source": [
    "people = list(scans.person.unique())"
   ]
  },
  {
   "cell_type": "code",
   "execution_count": 9,
   "metadata": {
    "collapsed": false
   },
   "outputs": [
    {
     "data": {
      "text/html": [
       "<div>\n",
       "<table border=\"1\" class=\"dataframe\">\n",
       "  <thead>\n",
       "    <tr style=\"text-align: right;\">\n",
       "      <th></th>\n",
       "      <th>Unnamed: 0</th>\n",
       "      <th>stickerID</th>\n",
       "      <th>timeStamp</th>\n",
       "      <th>person</th>\n",
       "      <th>badge</th>\n",
       "      <th>minor</th>\n",
       "      <th>d_num</th>\n",
       "      <th>scanner_index</th>\n",
       "    </tr>\n",
       "  </thead>\n",
       "  <tbody>\n",
       "    <tr>\n",
       "      <th>0</th>\n",
       "      <td>0</td>\n",
       "      <td>68</td>\n",
       "      <td>2016-11-28 17:36:39</td>\n",
       "      <td>yudi2</td>\n",
       "      <td>NT</td>\n",
       "      <td>0</td>\n",
       "      <td>736296.733785</td>\n",
       "      <td>0</td>\n",
       "    </tr>\n",
       "    <tr>\n",
       "      <th>1</th>\n",
       "      <td>1</td>\n",
       "      <td>67</td>\n",
       "      <td>2016-11-28 17:36:30</td>\n",
       "      <td>yudi2</td>\n",
       "      <td>NT</td>\n",
       "      <td>0</td>\n",
       "      <td>736296.733681</td>\n",
       "      <td>0</td>\n",
       "    </tr>\n",
       "    <tr>\n",
       "      <th>2</th>\n",
       "      <td>2</td>\n",
       "      <td>77</td>\n",
       "      <td>2016-11-28 17:36:24</td>\n",
       "      <td>yudi2</td>\n",
       "      <td>NT</td>\n",
       "      <td>0</td>\n",
       "      <td>736296.733611</td>\n",
       "      <td>0</td>\n",
       "    </tr>\n",
       "    <tr>\n",
       "      <th>3</th>\n",
       "      <td>3</td>\n",
       "      <td>81</td>\n",
       "      <td>2016-11-28 17:36:20</td>\n",
       "      <td>yudi2</td>\n",
       "      <td>NT</td>\n",
       "      <td>0</td>\n",
       "      <td>736296.733565</td>\n",
       "      <td>0</td>\n",
       "    </tr>\n",
       "    <tr>\n",
       "      <th>4</th>\n",
       "      <td>4</td>\n",
       "      <td>77</td>\n",
       "      <td>2016-11-28 17:36:14</td>\n",
       "      <td>yudi2</td>\n",
       "      <td>NT</td>\n",
       "      <td>0</td>\n",
       "      <td>736296.733495</td>\n",
       "      <td>0</td>\n",
       "    </tr>\n",
       "  </tbody>\n",
       "</table>\n",
       "</div>"
      ],
      "text/plain": [
       "   Unnamed: 0  stickerID           timeStamp person badge  minor  \\\n",
       "0           0         68 2016-11-28 17:36:39  yudi2    NT      0   \n",
       "1           1         67 2016-11-28 17:36:30  yudi2    NT      0   \n",
       "2           2         77 2016-11-28 17:36:24  yudi2    NT      0   \n",
       "3           3         81 2016-11-28 17:36:20  yudi2    NT      0   \n",
       "4           4         77 2016-11-28 17:36:14  yudi2    NT      0   \n",
       "\n",
       "           d_num  scanner_index  \n",
       "0  736296.733785              0  \n",
       "1  736296.733681              0  \n",
       "2  736296.733611              0  \n",
       "3  736296.733565              0  \n",
       "4  736296.733495              0  "
      ]
     },
     "execution_count": 9,
     "metadata": {},
     "output_type": "execute_result"
    }
   ],
   "source": [
    "scans[\"scanner_index\"] = scans.person.apply(lambda x: people.index(x))\n",
    "scans.head()"
   ]
  },
  {
   "cell_type": "markdown",
   "metadata": {},
   "source": [
    "The blue dots on the right show the training scans.  To my great relief, they are completely contained by `beacondetections` so we know we have intersecting data. "
   ]
  },
  {
   "cell_type": "code",
   "execution_count": 10,
   "metadata": {
    "collapsed": false
   },
   "outputs": [
    {
     "data": {
      "image/png": "[encoded data removed]",
      "text/plain": [
       "<matplotlib.figure.Figure at 0x7f3ddffd5490>"
      ]
     },
     "metadata": {},
     "output_type": "display_data"
    }
   ],
   "source": [
    "#plot the scans\n",
    "plt.scatter(scans.d_num, scans.scanner_index/4, marker=\"|\", alpha=0.1)\n",
    "\n",
    "#plot the periods covered by each collection\n",
    "for index, row in df.iterrows():\n",
    "    plt.plot([df.s[index], df.e[index]], \n",
    "             [index, index], \n",
    "             colours[index], lw=35)\n",
    "    label = \"{}: {} days\".format(df[\"collection name\"][index], df.e[index]- df.s[index])\n",
    "    plt.text(df.s[index], index, label, fontsize=10)\n",
    "\n",
    "plt.ylim(-1,5)\n",
    "plt.axis('off')\n",
    "\n",
    "plt.show()"
   ]
  },
  {
   "cell_type": "markdown",
   "metadata": {},
   "source": [
    "A violin plot would be the ideal thing to see when the ranges we're interested in are, but actually, there is so much white space it doesn't make much sense to look at."
   ]
  },
  {
   "cell_type": "code",
   "execution_count": 11,
   "metadata": {
    "collapsed": false
   },
   "outputs": [
    {
     "data": {
      "text/plain": [
       "<matplotlib.axes._subplots.AxesSubplot at 0x7f3dc43fd8d0>"
      ]
     },
     "execution_count": 11,
     "metadata": {},
     "output_type": "execute_result"
    },
    {
     "data": {
      "image/png": "[encoded data removed]",
      "text/plain": [
       "<matplotlib.figure.Figure at 0x7f3dc48a5b90>"
      ]
     },
     "metadata": {},
     "output_type": "display_data"
    }
   ],
   "source": [
    "import seaborn as sns\n",
    "sns.violinplot(x=\"person\", y=\"d_num\", data=scans)"
   ]
  },
  {
   "cell_type": "markdown",
   "metadata": {},
   "source": [
    "A histogram makes a bit more sense, in an aggregate way. \n",
    "\n",
    "There's a bit of work here to make sure that I can read the axes to verify future results."
   ]
  },
  {
   "cell_type": "code",
   "execution_count": 12,
   "metadata": {
    "collapsed": false
   },
   "outputs": [
    {
     "data": {
      "image/png": "[encoded data removed]",
      "text/plain": [
       "<matplotlib.figure.Figure at 0x7f3de000ecd0>"
      ]
     },
     "metadata": {},
     "output_type": "display_data"
    }
   ],
   "source": [
    "# plt.scatter(scans.d_num, scans.scanner_index)\n",
    "fig, ax = plt.subplots(1,1)\n",
    "(n, bins, patches) = ax.hist(scans.d_num, bins=104, color='lightblue')\n",
    "# 104 bins gives close to an hour per bin (about 1h25s)\n",
    "ax.xaxis.set_major_locator(matplotlib.dates.DayLocator())\n",
    "ax.xaxis.set_major_formatter(matplotlib.dates.DateFormatter('%d'))\n",
    "ax.xaxis.set_minor_locator(matplotlib.dates.HourLocator())\n",
    "ax.xaxis.set_minor_formatter(matplotlib.dates.DateFormatter('%H'))\n",
    "ax.get_xaxis().set_tick_params(which='major', pad=15)\n",
    "ax.tick_params(axis='x', which='minor', labelsize=5)\n",
    "ax.tick_params(axis='x', which='major', labelsize=12)\n",
    "a = matplotlib.dates.num2date(bins[1]) - matplotlib.dates.num2date(bins[0]) \n",
    "# print a.total_seconds()/60/60\n",
    "# print \"n\", len(n), n, \"\\n\\nbins\", len(bins), bins\n",
    "plt.show()"
   ]
  },
  {
   "cell_type": "markdown",
   "metadata": {},
   "source": [
    "We can get the histogram bins out of here. If we only keep the bins with scans in them then we can query only those time periods.\n",
    "\n",
    "Once we have those periods, we can merge the contiguous ones."
   ]
  },
  {
   "cell_type": "code",
   "execution_count": 13,
   "metadata": {
    "collapsed": false
   },
   "outputs": [
    {
     "data": {
      "text/plain": [
       "[{'count': 136.0,\n",
       "  'end': datetime.datetime(2016, 11, 24, 11, 6, 49, 298074, tzinfo=<matplotlib.dates._UTC object at 0x7f3de3979d90>),\n",
       "  'start': datetime.datetime(2016, 11, 24, 10, 6, 34, tzinfo=<matplotlib.dates._UTC object at 0x7f3de3979d90>)},\n",
       " {'count': 26.0,\n",
       "  'end': datetime.datetime(2016, 11, 24, 12, 7, 4, 596158, tzinfo=<matplotlib.dates._UTC object at 0x7f3de3979d90>),\n",
       "  'start': datetime.datetime(2016, 11, 24, 11, 6, 49, 298074, tzinfo=<matplotlib.dates._UTC object at 0x7f3de3979d90>)},\n",
       " {'count': 217.0,\n",
       "  'end': datetime.datetime(2016, 11, 24, 19, 8, 51, 682689, tzinfo=<matplotlib.dates._UTC object at 0x7f3de3979d90>),\n",
       "  'start': datetime.datetime(2016, 11, 24, 18, 8, 36, 384616, tzinfo=<matplotlib.dates._UTC object at 0x7f3de3979d90>)},\n",
       " {'count': 239.0,\n",
       "  'end': datetime.datetime(2016, 11, 24, 20, 9, 6, 980772, tzinfo=<matplotlib.dates._UTC object at 0x7f3de3979d90>),\n",
       "  'start': datetime.datetime(2016, 11, 24, 19, 8, 51, 682689, tzinfo=<matplotlib.dates._UTC object at 0x7f3de3979d90>)},\n",
       " {'count': 186.0,\n",
       "  'end': datetime.datetime(2016, 11, 25, 9, 12, 25, 855771, tzinfo=<matplotlib.dates._UTC object at 0x7f3de3979d90>),\n",
       "  'start': datetime.datetime(2016, 11, 25, 8, 12, 10, 557688, tzinfo=<matplotlib.dates._UTC object at 0x7f3de3979d90>)},\n",
       " {'count': 392.0,\n",
       "  'end': datetime.datetime(2016, 11, 25, 10, 12, 41, 153844, tzinfo=<matplotlib.dates._UTC object at 0x7f3de3979d90>),\n",
       "  'start': datetime.datetime(2016, 11, 25, 9, 12, 25, 855771, tzinfo=<matplotlib.dates._UTC object at 0x7f3de3979d90>)},\n",
       " {'count': 768.0,\n",
       "  'end': datetime.datetime(2016, 11, 25, 11, 12, 56, 451927, tzinfo=<matplotlib.dates._UTC object at 0x7f3de3979d90>),\n",
       "  'start': datetime.datetime(2016, 11, 25, 10, 12, 41, 153844, tzinfo=<matplotlib.dates._UTC object at 0x7f3de3979d90>)},\n",
       " {'count': 1168.0,\n",
       "  'end': datetime.datetime(2016, 11, 25, 12, 13, 11, 750000, tzinfo=<matplotlib.dates._UTC object at 0x7f3de3979d90>),\n",
       "  'start': datetime.datetime(2016, 11, 25, 11, 12, 56, 451927, tzinfo=<matplotlib.dates._UTC object at 0x7f3de3979d90>)},\n",
       " {'count': 81.0,\n",
       "  'end': datetime.datetime(2016, 11, 25, 13, 13, 27, 48073, tzinfo=<matplotlib.dates._UTC object at 0x7f3de3979d90>),\n",
       "  'start': datetime.datetime(2016, 11, 25, 12, 13, 11, 750000, tzinfo=<matplotlib.dates._UTC object at 0x7f3de3979d90>)},\n",
       " {'count': 827.0,\n",
       "  'end': datetime.datetime(2016, 11, 25, 14, 13, 42, 346156, tzinfo=<matplotlib.dates._UTC object at 0x7f3de3979d90>),\n",
       "  'start': datetime.datetime(2016, 11, 25, 13, 13, 27, 48073, tzinfo=<matplotlib.dates._UTC object at 0x7f3de3979d90>)},\n",
       " {'count': 808.0,\n",
       "  'end': datetime.datetime(2016, 11, 25, 15, 13, 57, 644229, tzinfo=<matplotlib.dates._UTC object at 0x7f3de3979d90>),\n",
       "  'start': datetime.datetime(2016, 11, 25, 14, 13, 42, 346156, tzinfo=<matplotlib.dates._UTC object at 0x7f3de3979d90>)},\n",
       " {'count': 940.0,\n",
       "  'end': datetime.datetime(2016, 11, 25, 16, 14, 12, 942312, tzinfo=<matplotlib.dates._UTC object at 0x7f3de3979d90>),\n",
       "  'start': datetime.datetime(2016, 11, 25, 15, 13, 57, 644229, tzinfo=<matplotlib.dates._UTC object at 0x7f3de3979d90>)},\n",
       " {'count': 1426.0,\n",
       "  'end': datetime.datetime(2016, 11, 25, 17, 14, 28, 240385, tzinfo=<matplotlib.dates._UTC object at 0x7f3de3979d90>),\n",
       "  'start': datetime.datetime(2016, 11, 25, 16, 14, 12, 942312, tzinfo=<matplotlib.dates._UTC object at 0x7f3de3979d90>)},\n",
       " {'count': 1002.0,\n",
       "  'end': datetime.datetime(2016, 11, 25, 18, 14, 43, 538458, tzinfo=<matplotlib.dates._UTC object at 0x7f3de3979d90>),\n",
       "  'start': datetime.datetime(2016, 11, 25, 17, 14, 28, 240385, tzinfo=<matplotlib.dates._UTC object at 0x7f3de3979d90>)},\n",
       " {'count': 456.0,\n",
       "  'end': datetime.datetime(2016, 11, 25, 19, 14, 58, 836541, tzinfo=<matplotlib.dates._UTC object at 0x7f3de3979d90>),\n",
       "  'start': datetime.datetime(2016, 11, 25, 18, 14, 43, 538458, tzinfo=<matplotlib.dates._UTC object at 0x7f3de3979d90>)},\n",
       " {'count': 292.0,\n",
       "  'end': datetime.datetime(2016, 11, 27, 9, 24, 40, 163456, tzinfo=<matplotlib.dates._UTC object at 0x7f3de3979d90>),\n",
       "  'start': datetime.datetime(2016, 11, 27, 8, 24, 24, 865383, tzinfo=<matplotlib.dates._UTC object at 0x7f3de3979d90>)},\n",
       " {'count': 1531.0,\n",
       "  'end': datetime.datetime(2016, 11, 27, 10, 24, 55, 461539, tzinfo=<matplotlib.dates._UTC object at 0x7f3de3979d90>),\n",
       "  'start': datetime.datetime(2016, 11, 27, 9, 24, 40, 163456, tzinfo=<matplotlib.dates._UTC object at 0x7f3de3979d90>)},\n",
       " {'count': 1653.0,\n",
       "  'end': datetime.datetime(2016, 11, 27, 11, 25, 10, 759612, tzinfo=<matplotlib.dates._UTC object at 0x7f3de3979d90>),\n",
       "  'start': datetime.datetime(2016, 11, 27, 10, 24, 55, 461539, tzinfo=<matplotlib.dates._UTC object at 0x7f3de3979d90>)},\n",
       " {'count': 1373.0,\n",
       "  'end': datetime.datetime(2016, 11, 27, 12, 25, 26, 57685, tzinfo=<matplotlib.dates._UTC object at 0x7f3de3979d90>),\n",
       "  'start': datetime.datetime(2016, 11, 27, 11, 25, 10, 759612, tzinfo=<matplotlib.dates._UTC object at 0x7f3de3979d90>)},\n",
       " {'count': 1997.0,\n",
       "  'end': datetime.datetime(2016, 11, 27, 13, 25, 41, 355768, tzinfo=<matplotlib.dates._UTC object at 0x7f3de3979d90>),\n",
       "  'start': datetime.datetime(2016, 11, 27, 12, 25, 26, 57685, tzinfo=<matplotlib.dates._UTC object at 0x7f3de3979d90>)},\n",
       " {'count': 1821.0,\n",
       "  'end': datetime.datetime(2016, 11, 27, 14, 25, 56, 653841, tzinfo=<matplotlib.dates._UTC object at 0x7f3de3979d90>),\n",
       "  'start': datetime.datetime(2016, 11, 27, 13, 25, 41, 355768, tzinfo=<matplotlib.dates._UTC object at 0x7f3de3979d90>)},\n",
       " {'count': 1756.0,\n",
       "  'end': datetime.datetime(2016, 11, 27, 15, 26, 11, 951924, tzinfo=<matplotlib.dates._UTC object at 0x7f3de3979d90>),\n",
       "  'start': datetime.datetime(2016, 11, 27, 14, 25, 56, 653841, tzinfo=<matplotlib.dates._UTC object at 0x7f3de3979d90>)},\n",
       " {'count': 418.0,\n",
       "  'end': datetime.datetime(2016, 11, 27, 16, 26, 27, 249997, tzinfo=<matplotlib.dates._UTC object at 0x7f3de3979d90>),\n",
       "  'start': datetime.datetime(2016, 11, 27, 15, 26, 11, 951924, tzinfo=<matplotlib.dates._UTC object at 0x7f3de3979d90>)},\n",
       " {'count': 909.0,\n",
       "  'end': datetime.datetime(2016, 11, 28, 10, 31, 2, 615381, tzinfo=<matplotlib.dates._UTC object at 0x7f3de3979d90>),\n",
       "  'start': datetime.datetime(2016, 11, 28, 9, 30, 47, 317308, tzinfo=<matplotlib.dates._UTC object at 0x7f3de3979d90>)},\n",
       " {'count': 1517.0,\n",
       "  'end': datetime.datetime(2016, 11, 28, 11, 31, 17, 913454, tzinfo=<matplotlib.dates._UTC object at 0x7f3de3979d90>),\n",
       "  'start': datetime.datetime(2016, 11, 28, 10, 31, 2, 615381, tzinfo=<matplotlib.dates._UTC object at 0x7f3de3979d90>)},\n",
       " {'count': 1000.0,\n",
       "  'end': datetime.datetime(2016, 11, 28, 12, 31, 33, 211537, tzinfo=<matplotlib.dates._UTC object at 0x7f3de3979d90>),\n",
       "  'start': datetime.datetime(2016, 11, 28, 11, 31, 17, 913454, tzinfo=<matplotlib.dates._UTC object at 0x7f3de3979d90>)},\n",
       " {'count': 797.0,\n",
       "  'end': datetime.datetime(2016, 11, 28, 13, 31, 48, 509610, tzinfo=<matplotlib.dates._UTC object at 0x7f3de3979d90>),\n",
       "  'start': datetime.datetime(2016, 11, 28, 12, 31, 33, 211537, tzinfo=<matplotlib.dates._UTC object at 0x7f3de3979d90>)},\n",
       " {'count': 1573.0,\n",
       "  'end': datetime.datetime(2016, 11, 28, 14, 32, 3, 807683, tzinfo=<matplotlib.dates._UTC object at 0x7f3de3979d90>),\n",
       "  'start': datetime.datetime(2016, 11, 28, 13, 31, 48, 509610, tzinfo=<matplotlib.dates._UTC object at 0x7f3de3979d90>)},\n",
       " {'count': 1377.0,\n",
       "  'end': datetime.datetime(2016, 11, 28, 15, 32, 19, 105766, tzinfo=<matplotlib.dates._UTC object at 0x7f3de3979d90>),\n",
       "  'start': datetime.datetime(2016, 11, 28, 14, 32, 3, 807683, tzinfo=<matplotlib.dates._UTC object at 0x7f3de3979d90>)},\n",
       " {'count': 978.0,\n",
       "  'end': datetime.datetime(2016, 11, 28, 16, 32, 34, 403839, tzinfo=<matplotlib.dates._UTC object at 0x7f3de3979d90>),\n",
       "  'start': datetime.datetime(2016, 11, 28, 15, 32, 19, 105766, tzinfo=<matplotlib.dates._UTC object at 0x7f3de3979d90>)},\n",
       " {'count': 846.0,\n",
       "  'end': datetime.datetime(2016, 11, 28, 17, 32, 49, 701922, tzinfo=<matplotlib.dates._UTC object at 0x7f3de3979d90>),\n",
       "  'start': datetime.datetime(2016, 11, 28, 16, 32, 34, 403839, tzinfo=<matplotlib.dates._UTC object at 0x7f3de3979d90>)},\n",
       " {'count': 655.0,\n",
       "  'end': datetime.datetime(2016, 11, 28, 18, 33, 5, tzinfo=<matplotlib.dates._UTC object at 0x7f3de3979d90>),\n",
       "  'start': datetime.datetime(2016, 11, 28, 17, 32, 49, 701922, tzinfo=<matplotlib.dates._UTC object at 0x7f3de3979d90>)}]"
      ]
     },
     "execution_count": 13,
     "metadata": {},
     "output_type": "execute_result"
    }
   ],
   "source": [
    "periods = []\n",
    "prev_bin_empty = True\n",
    "for counter, bin_count in enumerate(n):\n",
    "    if bin_count > 0:\n",
    "        s = matplotlib.dates.num2date(bins[counter])\n",
    "        e = matplotlib.dates.num2date(bins[counter+1])\n",
    "        periods.append({\n",
    "                \"start\": s,\n",
    "                \"end\":   e,\n",
    "                \"count\": bin_count\n",
    "            }) \n",
    "\n",
    "periods"
   ]
  },
  {
   "cell_type": "code",
   "execution_count": 14,
   "metadata": {
    "collapsed": false
   },
   "outputs": [],
   "source": [
    "p=periods\n",
    "bigP = [p[0]]\n",
    "\n",
    "for i in range(len(p)):\n",
    "    if i>0:\n",
    "        if p[i][\"start\"]==bigP[len(bigP)-1][\"end\"]:\n",
    "#             print \"is\"\n",
    "            bigP[len(bigP)-1][\"end\"] = p[i][\"end\"]\n",
    "            bigP[len(bigP)-1][\"count\"] += p[i][\"count\"]\n",
    "        else:\n",
    "#             print \"isn't\"\n",
    "            bigP.append(p[i])\n",
    "            \n",
    "# bigP"
   ]
  },
  {
   "cell_type": "code",
   "execution_count": 15,
   "metadata": {
    "collapsed": false
   },
   "outputs": [
    {
     "name": "stdout",
     "output_type": "stream",
     "text": [
      "[2.008498932777778, 2.008498932222222, 11.046744125833333, 8.03399572611111, 9.038245192222222]\n",
      "1 day, 8:08:09.538473 rather than 4 days, 8:26:31\n"
     ]
    }
   ],
   "source": [
    "length_of_ranges = [(x[\"end\"]-x[\"start\"]).total_seconds()/60/60 for x in bigP]\n",
    "print length_of_ranges\n",
    "print dt.timedelta(hours=sum(length_of_ranges)), \"rather than\", (matplotlib.dates.num2date(max(bins))-matplotlib.dates.num2date(min(bins)))"
   ]
  },
  {
   "cell_type": "markdown",
   "metadata": {},
   "source": [
    "This means that we're only looking at pulling about 30 hours of data, not four and a bit days.\n",
    "\n",
    "This is what the mongoDB query might look like:"
   ]
  },
  {
   "cell_type": "code",
   "execution_count": 17,
   "metadata": {
    "collapsed": false
   },
   "outputs": [
    {
     "name": "stdout",
     "output_type": "stream",
     "text": [
      "\"$or\": [\n",
      "    { \"date\": {\n",
      "       \"$gte\": new Date(\"2016-11-24T10:06:34+00:00\"), \n",
      "       \"$lt\": new Date(\"2016-11-24T12:07:04.596158+00:00\")\n",
      "    }},\n",
      "    { \"date\": {\n",
      "       \"$gte\": new Date(\"2016-11-24T18:08:36.384616+00:00\"), \n",
      "       \"$lt\": new Date(\"2016-11-24T20:09:06.980772+00:00\")\n",
      "    }},\n",
      "    { \"date\": {\n",
      "       \"$gte\": new Date(\"2016-11-25T08:12:10.557688+00:00\"), \n",
      "       \"$lt\": new Date(\"2016-11-25T19:14:58.836541+00:00\")\n",
      "    }},\n",
      "    { \"date\": {\n",
      "       \"$gte\": new Date(\"2016-11-27T08:24:24.865383+00:00\"), \n",
      "       \"$lt\": new Date(\"2016-11-27T16:26:27.249997+00:00\")\n",
      "    }},\n",
      "    { \"date\": {\n",
      "       \"$gte\": new Date(\"2016-11-28T09:30:47.317308+00:00\"), \n",
      "       \"$lt\": new Date(\"2016-11-28T18:33:05+00:00\")\n",
      "    }},\n"
     ]
    }
   ],
   "source": [
    "print \"\\\"$or\\\": [\"\n",
    "dq = '''    {{ \"date\": {{\n",
    "       \"$gte\": new Date(\"{0}\"), \n",
    "       \"$lt\": new Date(\"{1}\")\n",
    "    }}}},'''\n",
    "for x in bigP:\n",
    "    print dq.format(x[\"start\"].isoformat(), \n",
    "                    x[\"end\"  ].isoformat())"
   ]
  },
  {
   "cell_type": "code",
   "execution_count": null,
   "metadata": {
    "collapsed": false
   },
   "outputs": [],
   "source": []
  },
  {
   "cell_type": "code",
   "execution_count": null,
   "metadata": {
    "collapsed": false
   },
   "outputs": [],
   "source": []
  }
 ],
 "metadata": {
  "kernelspec": {
   "display_name": "Python 2",
   "language": "python",
   "name": "python2"
  },
  "language_info": {
   "codemirror_mode": {
    "name": "ipython",
    "version": 2
   },
   "file_extension": ".py",
   "mimetype": "text/x-python",
   "name": "python",
   "nbconvert_exporter": "python",
   "pygments_lexer": "ipython2",
   "version": "2.7.12"
  },
  "toc": {
   "colors": {
    "hover_highlight": "#DAA520",
    "navigate_num": "#000000",
    "navigate_text": "#333333",
    "running_highlight": "#FF0000",
    "selected_highlight": "#FFD700",
    "sidebar_border": "#EEEEEE",
    "wrapper_background": "#FFFFFF"
   },
   "moveMenuLeft": true,
   "nav_menu": {
    "height": "12px",
    "width": "252px"
   },
   "navigate_menu": true,
   "number_sections": true,
   "sideBar": true,
   "threshold": 4,
   "toc_cell": false,
   "toc_section_display": "block",
   "toc_window_display": false,
   "widenNotebook": false
  }
 },
 "nbformat": 4,
 "nbformat_minor": 1
}
