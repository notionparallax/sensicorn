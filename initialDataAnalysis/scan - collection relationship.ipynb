{
 "cells": [
  {
   "cell_type": "code",
   "execution_count": 1,
   "metadata": {
    "collapsed": true
   },
   "outputs": [],
   "source": [
    "import pandas as pd\n",
    "\n",
    "import matplotlib\n",
    "import matplotlib.pyplot as plt\n",
    "from matplotlib.dates import DateFormatter, MinuteLocator, SecondLocator\n",
    "import numpy as np\n",
    "from StringIO import StringIO\n",
    "import datetime as dt"
   ]
  },
  {
   "cell_type": "code",
   "execution_count": 2,
   "metadata": {
    "collapsed": true
   },
   "outputs": [],
   "source": [
    "%matplotlib inline\n",
    "plt.rcParams['figure.figsize'] = (30, 10)"
   ]
  },
  {
   "cell_type": "markdown",
   "metadata": {},
   "source": [
    "Ishaan got the following dates from a query on the db:\n",
    "\n",
    "```\n",
    "===   beacondetectionsweek3  ===\n",
    "min timestamp 2016-09-30 18:20:54.076000\n",
    "max timestamp 2016-10-08 01:48:09.511000\n",
    "\n",
    "===   beacondetectionsweek4  ===\n",
    "min timestamp 2016-10-08 01:47:35.648000\n",
    "max timestamp 2016-10-15 04:54:24.886000\n",
    "\n",
    "===   beacondetections  ===\n",
    "min timestamp 2016-11-05 18:52:21.240000\n",
    "max timestamp 2016-12-02 01:34:45.775000\n",
    "\n",
    "===   beacondetectionsweek1weekend  ===\n",
    "min timestamp 2016-09-16 03:48:11.545000\n",
    "max timestamp 2016-09-18 23:23:09.554000\n",
    "\n",
    "===   beacondetectionsweek1to2  ===\n",
    "min timestamp 2016-09-18 18:00:58.329000\n",
    "max timestamp 2016-09-21 23:54:41.240000\n",
    "```\n",
    "\n",
    "I converted them into a dataframe and did some queries:"
   ]
  },
  {
   "cell_type": "code",
   "execution_count": 3,
   "metadata": {
    "code_folding": []
   },
   "outputs": [
    {
     "data": {
      "text/html": [
       "<div>\n",
       "<style>\n",
       "    .dataframe thead tr:only-child th {\n",
       "        text-align: right;\n",
       "    }\n",
       "\n",
       "    .dataframe thead th {\n",
       "        text-align: left;\n",
       "    }\n",
       "\n",
       "    .dataframe tbody tr th {\n",
       "        vertical-align: top;\n",
       "    }\n",
       "</style>\n",
       "<table border=\"1\" class=\"dataframe\">\n",
       "  <thead>\n",
       "    <tr style=\"text-align: right;\">\n",
       "      <th></th>\n",
       "      <th>collection name</th>\n",
       "      <th>start</th>\n",
       "      <th>end</th>\n",
       "    </tr>\n",
       "  </thead>\n",
       "  <tbody>\n",
       "    <tr>\n",
       "      <th>0</th>\n",
       "      <td>beacondetectionsweek3</td>\n",
       "      <td>30/09/2016</td>\n",
       "      <td>8/10/2016</td>\n",
       "    </tr>\n",
       "    <tr>\n",
       "      <th>1</th>\n",
       "      <td>beacondetectionsweek4</td>\n",
       "      <td>8/10/2016</td>\n",
       "      <td>15/10/2016</td>\n",
       "    </tr>\n",
       "    <tr>\n",
       "      <th>2</th>\n",
       "      <td>beacondetections</td>\n",
       "      <td>5/11/2016</td>\n",
       "      <td>2/12/2016</td>\n",
       "    </tr>\n",
       "    <tr>\n",
       "      <th>3</th>\n",
       "      <td>beacondetectionsweek1weekend</td>\n",
       "      <td>16/09/2016</td>\n",
       "      <td>18/09/2016</td>\n",
       "    </tr>\n",
       "    <tr>\n",
       "      <th>4</th>\n",
       "      <td>beacondetectionsweek1to2</td>\n",
       "      <td>18/09/2016</td>\n",
       "      <td>21/09/2016</td>\n",
       "    </tr>\n",
       "  </tbody>\n",
       "</table>\n",
       "</div>"
      ],
      "text/plain": [
       "                collection name       start         end\n",
       "0         beacondetectionsweek3  30/09/2016   8/10/2016\n",
       "1         beacondetectionsweek4   8/10/2016  15/10/2016\n",
       "2              beacondetections   5/11/2016   2/12/2016\n",
       "3  beacondetectionsweek1weekend  16/09/2016  18/09/2016\n",
       "4      beacondetectionsweek1to2  18/09/2016  21/09/2016"
      ]
     },
     "execution_count": 3,
     "metadata": {},
     "output_type": "execute_result"
    }
   ],
   "source": [
    "some_dates = [\n",
    "[\"collection name\", \"start\", \"end\"],\n",
    "[\"beacondetectionsweek3\", \"30/09/2016\", \"8/10/2016\"],\n",
    "[\"beacondetectionsweek4\", \"8/10/2016\", \"15/10/2016\"],\n",
    "[\"beacondetections\", \"5/11/2016\", \"2/12/2016\"],\n",
    "[\"beacondetectionsweek1weekend\", \"16/09/2016\", \"18/09/2016\"],\n",
    "[\"beacondetectionsweek1to2\", \"18/09/2016\", \"21/09/2016\"]\n",
    "]\n",
    "\n",
    "headers = some_dates.pop(0)\n",
    "\n",
    "df = pd.DataFrame(some_dates, columns=headers)\n",
    "df"
   ]
  },
  {
   "cell_type": "markdown",
   "metadata": {},
   "source": [
    "It's hard to work directly with dates, so this converts them to epoch integers"
   ]
  },
  {
   "cell_type": "code",
   "execution_count": 4,
   "metadata": {},
   "outputs": [
    {
     "data": {
      "text/html": [
       "<div>\n",
       "<style>\n",
       "    .dataframe thead tr:only-child th {\n",
       "        text-align: right;\n",
       "    }\n",
       "\n",
       "    .dataframe thead th {\n",
       "        text-align: left;\n",
       "    }\n",
       "\n",
       "    .dataframe tbody tr th {\n",
       "        vertical-align: top;\n",
       "    }\n",
       "</style>\n",
       "<table border=\"1\" class=\"dataframe\">\n",
       "  <thead>\n",
       "    <tr style=\"text-align: right;\">\n",
       "      <th></th>\n",
       "      <th>collection name</th>\n",
       "      <th>start</th>\n",
       "      <th>end</th>\n",
       "      <th>s</th>\n",
       "      <th>e</th>\n",
       "    </tr>\n",
       "  </thead>\n",
       "  <tbody>\n",
       "    <tr>\n",
       "      <th>0</th>\n",
       "      <td>beacondetectionsweek1weekend</td>\n",
       "      <td>16/09/2016</td>\n",
       "      <td>18/09/2016</td>\n",
       "      <td>736223</td>\n",
       "      <td>736225</td>\n",
       "    </tr>\n",
       "    <tr>\n",
       "      <th>1</th>\n",
       "      <td>beacondetectionsweek1to2</td>\n",
       "      <td>18/09/2016</td>\n",
       "      <td>21/09/2016</td>\n",
       "      <td>736225</td>\n",
       "      <td>736228</td>\n",
       "    </tr>\n",
       "    <tr>\n",
       "      <th>2</th>\n",
       "      <td>beacondetectionsweek3</td>\n",
       "      <td>30/09/2016</td>\n",
       "      <td>8/10/2016</td>\n",
       "      <td>736237</td>\n",
       "      <td>736245</td>\n",
       "    </tr>\n",
       "    <tr>\n",
       "      <th>3</th>\n",
       "      <td>beacondetectionsweek4</td>\n",
       "      <td>8/10/2016</td>\n",
       "      <td>15/10/2016</td>\n",
       "      <td>736245</td>\n",
       "      <td>736252</td>\n",
       "    </tr>\n",
       "    <tr>\n",
       "      <th>4</th>\n",
       "      <td>beacondetections</td>\n",
       "      <td>5/11/2016</td>\n",
       "      <td>2/12/2016</td>\n",
       "      <td>736273</td>\n",
       "      <td>736300</td>\n",
       "    </tr>\n",
       "  </tbody>\n",
       "</table>\n",
       "</div>"
      ],
      "text/plain": [
       "                collection name       start         end       s       e\n",
       "0  beacondetectionsweek1weekend  16/09/2016  18/09/2016  736223  736225\n",
       "1      beacondetectionsweek1to2  18/09/2016  21/09/2016  736225  736228\n",
       "2         beacondetectionsweek3  30/09/2016   8/10/2016  736237  736245\n",
       "3         beacondetectionsweek4   8/10/2016  15/10/2016  736245  736252\n",
       "4              beacondetections   5/11/2016   2/12/2016  736273  736300"
      ]
     },
     "execution_count": 4,
     "metadata": {},
     "output_type": "execute_result"
    }
   ],
   "source": [
    "tf = '%d/%m/%Y'\n",
    "\n",
    "df[\"s\"] = df.start.apply(lambda x: int(matplotlib.dates.date2num(dt.datetime.strptime(x, tf))))\n",
    "df[\"e\"] = df.end.apply(lambda x: int(matplotlib.dates.date2num(dt.datetime.strptime(x, tf))))\n",
    "df.sort_values(\"s\", inplace=True)\n",
    "df.reset_index(drop=True, inplace=True)\n",
    "df"
   ]
  },
  {
   "cell_type": "markdown",
   "metadata": {},
   "source": [
    "If we plot the periods we can see which each collection contains and how much they overlap."
   ]
  },
  {
   "cell_type": "code",
   "execution_count": 5,
   "metadata": {
    "scrolled": true
   },
   "outputs": [
    {
     "data": {
      "image/png": "[encoded data removed]",
      "text/plain": [
       "<matplotlib.figure.Figure at 0x63c4d30>"
      ]
     },
     "metadata": {},
     "output_type": "display_data"
    }
   ],
   "source": [
    "colours = ['b', 'g', 'r', 'c', 'm', 'y']\n",
    "for index, row in df.iterrows():\n",
    "    plt.plot([df.s[index], df.e[index]], \n",
    "             [index, index], \n",
    "             colours[index], lw=35)\n",
    "    label = \"{}: {} days\".format(df[\"collection name\"][index], df.e[index]- df.s[index])\n",
    "    plt.text(df.s[index], index, label, fontsize=10)\n",
    "\n",
    "plt.ylim(-1,5)\n",
    "plt.axis('off')\n",
    "plt.show()"
   ]
  },
  {
   "cell_type": "markdown",
   "metadata": {},
   "source": [
    "The coloured bars show the _extent_ of the collections. They come from a min-max on the date field, so they don't show _how_ they intersect. Presumably they overlap because the base stations cached data until they got a good connection, perhaps some base stations were caching for 3-4 days until they'd fully caught up!\n",
    "\n",
    "We'd like to see which collection is responsible for the training data. To see that, let's plot the training scans onto the same diagram.\n",
    "\n",
    "Let's load up the scan data file:"
   ]
  },
  {
   "cell_type": "code",
   "execution_count": 6,
   "metadata": {},
   "outputs": [
    {
     "name": "stdout",
     "output_type": "stream",
     "text": [
      "['aliasgher' 'alicia' 'arjun' 'aron' 'betsabe' 'blocker' 'daniel' 'Hugh'\n",
      " 'Julia' 'julia2' 'michael' 'mufaddal' 'rick' 'simon' 'taha' 'Tiara'\n",
      " 'yudi2' 'Yudie' 'Zoheb']\n"
     ]
    },
    {
     "name": "stderr",
     "output_type": "stream",
     "text": [
      "Q:\\Users\\bdoherty\\AppData\\Local\\Continuum\\Anaconda2\\lib\\site-packages\\ipykernel_launcher.py:6: FutureWarning: pandas.core.datetools.to_datetime is deprecated. Please use pandas.core.tools.datetimes.to_datetime instead.\n",
      "  \n"
     ]
    },
    {
     "data": {
      "text/html": [
       "<div>\n",
       "<style>\n",
       "    .dataframe thead tr:only-child th {\n",
       "        text-align: right;\n",
       "    }\n",
       "\n",
       "    .dataframe thead th {\n",
       "        text-align: left;\n",
       "    }\n",
       "\n",
       "    .dataframe tbody tr th {\n",
       "        vertical-align: top;\n",
       "    }\n",
       "</style>\n",
       "<table border=\"1\" class=\"dataframe\">\n",
       "  <thead>\n",
       "    <tr style=\"text-align: right;\">\n",
       "      <th></th>\n",
       "      <th>Unnamed: 0</th>\n",
       "      <th>stickerID</th>\n",
       "      <th>timeStamp</th>\n",
       "      <th>person</th>\n",
       "      <th>badge</th>\n",
       "      <th>minor</th>\n",
       "    </tr>\n",
       "  </thead>\n",
       "  <tbody>\n",
       "    <tr>\n",
       "      <th>0</th>\n",
       "      <td>0</td>\n",
       "      <td>164</td>\n",
       "      <td>2016-11-28 10:07:36</td>\n",
       "      <td>aliasgher</td>\n",
       "      <td>connor</td>\n",
       "      <td>165</td>\n",
       "    </tr>\n",
       "    <tr>\n",
       "      <th>1</th>\n",
       "      <td>1</td>\n",
       "      <td>57</td>\n",
       "      <td>2016-11-28 10:07:33</td>\n",
       "      <td>aliasgher</td>\n",
       "      <td>connor</td>\n",
       "      <td>165</td>\n",
       "    </tr>\n",
       "    <tr>\n",
       "      <th>2</th>\n",
       "      <td>2</td>\n",
       "      <td>56</td>\n",
       "      <td>2016-11-28 10:07:30</td>\n",
       "      <td>aliasgher</td>\n",
       "      <td>connor</td>\n",
       "      <td>165</td>\n",
       "    </tr>\n",
       "    <tr>\n",
       "      <th>3</th>\n",
       "      <td>3</td>\n",
       "      <td>55</td>\n",
       "      <td>2016-11-28 10:07:27</td>\n",
       "      <td>aliasgher</td>\n",
       "      <td>connor</td>\n",
       "      <td>165</td>\n",
       "    </tr>\n",
       "    <tr>\n",
       "      <th>4</th>\n",
       "      <td>4</td>\n",
       "      <td>54</td>\n",
       "      <td>2016-11-28 10:07:24</td>\n",
       "      <td>aliasgher</td>\n",
       "      <td>connor</td>\n",
       "      <td>165</td>\n",
       "    </tr>\n",
       "  </tbody>\n",
       "</table>\n",
       "</div>"
      ],
      "text/plain": [
       "   Unnamed: 0  stickerID           timeStamp     person   badge  minor\n",
       "0           0        164 2016-11-28 10:07:36  aliasgher  connor    165\n",
       "1           1         57 2016-11-28 10:07:33  aliasgher  connor    165\n",
       "2           2         56 2016-11-28 10:07:30  aliasgher  connor    165\n",
       "3           3         55 2016-11-28 10:07:27  aliasgher  connor    165\n",
       "4           4         54 2016-11-28 10:07:24  aliasgher  connor    165"
      ]
     },
     "execution_count": 6,
     "metadata": {},
     "output_type": "execute_result"
    }
   ],
   "source": [
    "dtypes = {\"Unnamed: 0\": int, \"stickerID\": int, \"timeStamp\": str, \"person\": str, \"badge\": str, \"minor\": int}\n",
    "parse_dates = [\"timeStamp\"]\n",
    "scans = pd.read_csv(\"allScanDetections.csv\", \n",
    "                    dtype=dtypes,\n",
    "                    parse_dates=parse_dates, \n",
    "                    date_parser=pd.datetools.to_datetime)\n",
    "print scans.person.unique()\n",
    "scans.head()"
   ]
  },
  {
   "cell_type": "code",
   "execution_count": 7,
   "metadata": {
    "collapsed": true
   },
   "outputs": [],
   "source": [
    "scans[\"d_num\"] = scans.timeStamp.apply(lambda x: matplotlib.dates.date2num(x))"
   ]
  },
  {
   "cell_type": "code",
   "execution_count": 8,
   "metadata": {
    "collapsed": true
   },
   "outputs": [],
   "source": [
    "people = list(scans.person.unique())"
   ]
  },
  {
   "cell_type": "code",
   "execution_count": null,
   "metadata": {},
   "outputs": [
    {
     "data": {
      "text/html": [
       "<div>\n",
       "<style>\n",
       "    .dataframe thead tr:only-child th {\n",
       "        text-align: right;\n",
       "    }\n",
       "\n",
       "    .dataframe thead th {\n",
       "        text-align: left;\n",
       "    }\n",
       "\n",
       "    .dataframe tbody tr th {\n",
       "        vertical-align: top;\n",
       "    }\n",
       "</style>\n",
       "<table border=\"1\" class=\"dataframe\">\n",
       "  <thead>\n",
       "    <tr style=\"text-align: right;\">\n",
       "      <th></th>\n",
       "      <th>Unnamed: 0</th>\n",
       "      <th>stickerID</th>\n",
       "      <th>timeStamp</th>\n",
       "      <th>person</th>\n",
       "      <th>badge</th>\n",
       "      <th>minor</th>\n",
       "      <th>d_num</th>\n",
       "      <th>scanner_index</th>\n",
       "    </tr>\n",
       "  </thead>\n",
       "  <tbody>\n",
       "    <tr>\n",
       "      <th>0</th>\n",
       "      <td>0</td>\n",
       "      <td>164</td>\n",
       "      <td>2016-11-28 10:07:36</td>\n",
       "      <td>aliasgher</td>\n",
       "      <td>connor</td>\n",
       "      <td>165</td>\n",
       "      <td>736296.421944</td>\n",
       "      <td>0</td>\n",
       "    </tr>\n",
       "    <tr>\n",
       "      <th>1</th>\n",
       "      <td>1</td>\n",
       "      <td>57</td>\n",
       "      <td>2016-11-28 10:07:33</td>\n",
       "      <td>aliasgher</td>\n",
       "      <td>connor</td>\n",
       "      <td>165</td>\n",
       "      <td>736296.421910</td>\n",
       "      <td>0</td>\n",
       "    </tr>\n",
       "    <tr>\n",
       "      <th>2</th>\n",
       "      <td>2</td>\n",
       "      <td>56</td>\n",
       "      <td>2016-11-28 10:07:30</td>\n",
       "      <td>aliasgher</td>\n",
       "      <td>connor</td>\n",
       "      <td>165</td>\n",
       "      <td>736296.421875</td>\n",
       "      <td>0</td>\n",
       "    </tr>\n",
       "    <tr>\n",
       "      <th>3</th>\n",
       "      <td>3</td>\n",
       "      <td>55</td>\n",
       "      <td>2016-11-28 10:07:27</td>\n",
       "      <td>aliasgher</td>\n",
       "      <td>connor</td>\n",
       "      <td>165</td>\n",
       "      <td>736296.421840</td>\n",
       "      <td>0</td>\n",
       "    </tr>\n",
       "    <tr>\n",
       "      <th>4</th>\n",
       "      <td>4</td>\n",
       "      <td>54</td>\n",
       "      <td>2016-11-28 10:07:24</td>\n",
       "      <td>aliasgher</td>\n",
       "      <td>connor</td>\n",
       "      <td>165</td>\n",
       "      <td>736296.421806</td>\n",
       "      <td>0</td>\n",
       "    </tr>\n",
       "  </tbody>\n",
       "</table>\n",
       "</div>"
      ],
      "text/plain": [
       "   Unnamed: 0  stickerID           timeStamp     person   badge  minor  \\\n",
       "0           0        164 2016-11-28 10:07:36  aliasgher  connor    165   \n",
       "1           1         57 2016-11-28 10:07:33  aliasgher  connor    165   \n",
       "2           2         56 2016-11-28 10:07:30  aliasgher  connor    165   \n",
       "3           3         55 2016-11-28 10:07:27  aliasgher  connor    165   \n",
       "4           4         54 2016-11-28 10:07:24  aliasgher  connor    165   \n",
       "\n",
       "           d_num  scanner_index  \n",
       "0  736296.421944              0  \n",
       "1  736296.421910              0  \n",
       "2  736296.421875              0  \n",
       "3  736296.421840              0  \n",
       "4  736296.421806              0  "
      ]
     },
     "execution_count": 9,
     "metadata": {},
     "output_type": "execute_result"
    }
   ],
   "source": [
    "scans[\"scanner_index\"] = scans.person.apply(lambda x: people.index(x))\n",
    "scans.head()"
   ]
  },
  {
   "cell_type": "markdown",
   "metadata": {},
   "source": [
    "The blue dots on the right show the training scans.  To my great relief, they are completely contained by `beacondetections` so we know we have intersecting data. "
   ]
  },
  {
   "cell_type": "code",
   "execution_count": null,
   "metadata": {
    "collapsed": true
   },
   "outputs": [],
   "source": [
    "#plot the scans\n",
    "plt.scatter(scans.d_num, scans.scanner_index/4, marker=\"|\", alpha=0.1)\n",
    "\n",
    "#plot the periods covered by each collection\n",
    "for index, row in df.iterrows():\n",
    "    plt.plot([df.s[index], df.e[index]], \n",
    "             [index, index], \n",
    "             colours[index], lw=35)\n",
    "    label = \"{}: {} days\".format(df[\"collection name\"][index], df.e[index]- df.s[index])\n",
    "    plt.text(df.s[index], index, label, fontsize=10)\n",
    "\n",
    "plt.ylim(-1,5)\n",
    "plt.axis('off')\n",
    "\n",
    "plt.show()"
   ]
  },
  {
   "cell_type": "markdown",
   "metadata": {},
   "source": [
    "A violin plot would be the ideal thing to see when the ranges we're interested in are, but actually, there is so much white space it doesn't make much sense to look at."
   ]
  },
  {
   "cell_type": "code",
   "execution_count": null,
   "metadata": {
    "collapsed": true
   },
   "outputs": [],
   "source": [
    "import seaborn as sns\n",
    "sns.violinplot(x=\"person\", y=\"d_num\", data=scans)"
   ]
  },
  {
   "cell_type": "code",
   "execution_count": 25,
   "metadata": {},
   "outputs": [
    {
     "data": {
      "text/plain": [
       "<matplotlib.axes._subplots.AxesSubplot at 0x10faa438>"
      ]
     },
     "execution_count": 25,
     "metadata": {},
     "output_type": "execute_result"
    },
    {
     "data": {
      "image/png": "[encoded data removed]",
      "text/plain": [
       "<matplotlib.figure.Figure at 0x10fe1e10>"
      ]
     },
     "metadata": {},
     "output_type": "display_data"
    }
   ],
   "source": [
    "t = scans.timeStamp\n",
    "t = t.apply(lambda x: x.time())\n",
    "t.hist(bins=100, xrot=90, figsize=(15,15))"
   ]
  },
  {
   "cell_type": "markdown",
   "metadata": {},
   "source": [
    "A histogram makes a bit more sense, in an aggregate way. \n",
    "\n",
    "There's a bit of work here to make sure that I can read the axes to verify future results."
   ]
  },
  {
   "cell_type": "code",
   "execution_count": null,
   "metadata": {
    "collapsed": true
   },
   "outputs": [],
   "source": [
    "# plt.scatter(scans.d_num, scans.scanner_index)\n",
    "fig, ax = plt.subplots(1,1)\n",
    "(n, bins, patches) = ax.hist(scans.d_num, bins=104, color='lightblue')\n",
    "# 104 bins gives close to an hour per bin (about 1h25s)\n",
    "ax.xaxis.set_major_locator(matplotlib.dates.DayLocator())\n",
    "ax.xaxis.set_major_formatter(matplotlib.dates.DateFormatter('%d'))\n",
    "ax.xaxis.set_minor_locator(matplotlib.dates.HourLocator())\n",
    "ax.xaxis.set_minor_formatter(matplotlib.dates.DateFormatter('%H'))\n",
    "ax.get_xaxis().set_tick_params(which='major', pad=15)\n",
    "ax.tick_params(axis='x', which='minor', labelsize=5)\n",
    "ax.tick_params(axis='x', which='major', labelsize=12)\n",
    "a = matplotlib.dates.num2date(bins[1]) - matplotlib.dates.num2date(bins[0]) \n",
    "# print a.total_seconds()/60/60\n",
    "# print \"n\", len(n), n, \"\\n\\nbins\", len(bins), bins\n",
    "plt.show()"
   ]
  },
  {
   "cell_type": "markdown",
   "metadata": {},
   "source": [
    "We can get the histogram bins out of here. If we only keep the bins with scans in them then we can query only those time periods.\n",
    "\n",
    "Once we have those periods, we can merge the contiguous ones."
   ]
  },
  {
   "cell_type": "code",
   "execution_count": null,
   "metadata": {
    "collapsed": true
   },
   "outputs": [],
   "source": [
    "periods = []\n",
    "prev_bin_empty = True\n",
    "for counter, bin_count in enumerate(n):\n",
    "    if bin_count > 0:\n",
    "        s = matplotlib.dates.num2date(bins[counter])\n",
    "        e = matplotlib.dates.num2date(bins[counter+1])\n",
    "        periods.append({\n",
    "                \"start\": s,\n",
    "                \"end\":   e,\n",
    "                \"count\": bin_count\n",
    "            }) \n",
    "\n",
    "periods"
   ]
  },
  {
   "cell_type": "code",
   "execution_count": null,
   "metadata": {
    "collapsed": true
   },
   "outputs": [],
   "source": [
    "p=periods\n",
    "bigP = [p[0]]\n",
    "\n",
    "for i in range(len(p)):\n",
    "    if i>0:\n",
    "        if p[i][\"start\"]==bigP[len(bigP)-1][\"end\"]:\n",
    "#             print \"is\"\n",
    "            bigP[len(bigP)-1][\"end\"] = p[i][\"end\"]\n",
    "            bigP[len(bigP)-1][\"count\"] += p[i][\"count\"]\n",
    "        else:\n",
    "#             print \"isn't\"\n",
    "            bigP.append(p[i])\n",
    "            \n",
    "# bigP"
   ]
  },
  {
   "cell_type": "code",
   "execution_count": null,
   "metadata": {
    "collapsed": true
   },
   "outputs": [],
   "source": [
    "length_of_ranges = [(x[\"end\"]-x[\"start\"]).total_seconds()/60/60 for x in bigP]\n",
    "print length_of_ranges\n",
    "print dt.timedelta(hours=sum(length_of_ranges)), \"rather than\", (matplotlib.dates.num2date(max(bins))-matplotlib.dates.num2date(min(bins)))"
   ]
  },
  {
   "cell_type": "markdown",
   "metadata": {},
   "source": [
    "This means that we're only looking at pulling about 30 hours of data, not four and a bit days.\n",
    "\n",
    "This is what the mongoDB query might look like:"
   ]
  },
  {
   "cell_type": "code",
   "execution_count": null,
   "metadata": {
    "collapsed": true
   },
   "outputs": [],
   "source": [
    "print \"\\\"$or\\\": [\"\n",
    "dq = '''    {{ \"date\": {{\n",
    "       \"$gte\": new Date(\"{0}\"), \n",
    "       \"$lt\": new Date(\"{1}\")\n",
    "    }}}},'''\n",
    "for x in bigP:\n",
    "    print dq.format(x[\"start\"].isoformat(), \n",
    "                    x[\"end\"  ].isoformat())"
   ]
  },
  {
   "cell_type": "code",
   "execution_count": null,
   "metadata": {
    "collapsed": true
   },
   "outputs": [],
   "source": []
  },
  {
   "cell_type": "code",
   "execution_count": null,
   "metadata": {
    "collapsed": true
   },
   "outputs": [],
   "source": []
  }
 ],
 "metadata": {
  "kernelspec": {
   "display_name": "Python 2",
   "language": "python",
   "name": "python2"
  },
  "language_info": {
   "codemirror_mode": {
    "name": "ipython",
    "version": 2
   },
   "file_extension": ".py",
   "mimetype": "text/x-python",
   "name": "python",
   "nbconvert_exporter": "python",
   "pygments_lexer": "ipython2",
   "version": "2.7.13"
  },
  "toc": {
   "colors": {
    "hover_highlight": "#DAA520",
    "navigate_num": "#000000",
    "navigate_text": "#333333",
    "running_highlight": "#FF0000",
    "selected_highlight": "#FFD700",
    "sidebar_border": "#EEEEEE",
    "wrapper_background": "#FFFFFF"
   },
   "moveMenuLeft": true,
   "nav_menu": {
    "height": "12px",
    "width": "252px"
   },
   "navigate_menu": true,
   "number_sections": true,
   "sideBar": true,
   "threshold": 4,
   "toc_cell": false,
   "toc_section_display": "block",
   "toc_window_display": false,
   "widenNotebook": false
  }
 },
 "nbformat": 4,
 "nbformat_minor": 1
}
