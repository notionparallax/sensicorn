{
 "cells": [
  {
   "cell_type": "code",
   "execution_count": 1,
   "metadata": {
    "collapsed": false
   },
   "outputs": [],
   "source": [
    "import pymongo\n",
    "from pymongo import MongoClient\n",
    "import datetime\n",
    "import dateutil.parser\n",
    "import json\n",
    "import matplotlib\n",
    "import matplotlib.pyplot as plt\n",
    "import numpy as np\n",
    "import os\n",
    "import pandas as pd\n",
    "import requests\n",
    "from scipy.misc import imread\n",
    "from StringIO import StringIO\n",
    "import math\n",
    "import pytz\n",
    "import helpers as h\n",
    "# Since I moved most of the functions into their own file I haven't cleaned up the imports section. \n",
    "# There is probably unused imports here, but I'd imagine that it's not too much of a problem."
   ]
  },
  {
   "cell_type": "code",
   "execution_count": 2,
   "metadata": {
    "collapsed": false
   },
   "outputs": [],
   "source": [
    "%matplotlib inline\n",
    "plt.rcParams['figure.figsize'] = (20, 10)"
   ]
  },
  {
   "cell_type": "markdown",
   "metadata": {},
   "source": [
    "# Get the data we need\n",
    "\n",
    "To do this analysis, we need to know about the stickers, base stations and detections.\n",
    "\n",
    "Stickers and base stations are static data, they live in google spreadsheets.\n",
    "\n",
    "Detections is from the MongoDB database.\n",
    "\n",
    "---\n",
    "\n",
    "# Fixed locations\n",
    "\n",
    "## Stickers\n",
    "The stickers are the locating items in the space. They are stuck to the ceiling at roughly 2m intervals.\n",
    "\n",
    "TODO: put in the gif of me putting up a sticker and an image of one.\n",
    "\n",
    "They have a QR code on them, so they can be scaned with a phone. That gives us a time stamp and a location.\n",
    "\n",
    "In future we should be able to get orientation and position in field of view because QR codes have a top."
   ]
  },
  {
   "cell_type": "code",
   "execution_count": 3,
   "metadata": {
    "collapsed": false
   },
   "outputs": [
    {
     "data": {
      "text/html": [
       "<div>\n",
       "<table border=\"1\" class=\"dataframe\">\n",
       "  <thead>\n",
       "    <tr style=\"text-align: right;\">\n",
       "      <th></th>\n",
       "      <th>stickerID</th>\n",
       "      <th>x</th>\n",
       "      <th>y</th>\n",
       "    </tr>\n",
       "  </thead>\n",
       "  <tbody>\n",
       "    <tr>\n",
       "      <th>0</th>\n",
       "      <td>1</td>\n",
       "      <td>63852.09440</td>\n",
       "      <td>-13561.617780</td>\n",
       "    </tr>\n",
       "    <tr>\n",
       "      <th>1</th>\n",
       "      <td>2</td>\n",
       "      <td>62985.85359</td>\n",
       "      <td>-11830.460440</td>\n",
       "    </tr>\n",
       "    <tr>\n",
       "      <th>2</th>\n",
       "      <td>3</td>\n",
       "      <td>62985.85359</td>\n",
       "      <td>-9830.460444</td>\n",
       "    </tr>\n",
       "  </tbody>\n",
       "</table>\n",
       "</div>"
      ],
      "text/plain": [
       "   stickerID            x             y\n",
       "0          1  63852.09440 -13561.617780\n",
       "1          2  62985.85359 -11830.460440\n",
       "2          3  62985.85359  -9830.460444"
      ]
     },
     "execution_count": 3,
     "metadata": {},
     "output_type": "execute_result"
    }
   ],
   "source": [
    "stickerLocations = h.getDFfromCSVURL(\"https://docs.google.com/spreadsheets/d/1sijQZR2iFLo2FS_3r5gbsuAkaglRz557LWjdLxnPkpE/pub?gid=0&single=true&output=csv\")\n",
    "stickerLocations = stickerLocations.drop([\"raw\",\"z\"], 1) # this is just because we aren't on multiple floors\n",
    "stickerLocations.head(3)"
   ]
  },
  {
   "cell_type": "markdown",
   "metadata": {},
   "source": [
    "## Base Station (Agent) Locations\n",
    "\n",
    "We use the term agent and base station interchangably at the moment. In the future we will probably use agent to mean a simulated occupant, so expect to see base station used more.\n",
    "\n",
    "TODO: put in a base image\n",
    "\n",
    "These are the Raspberry Pi computers that recieve the beacon packets."
   ]
  },
  {
   "cell_type": "code",
   "execution_count": 4,
   "metadata": {
    "collapsed": false
   },
   "outputs": [
    {
     "data": {
      "text/html": [
       "<div>\n",
       "<table border=\"1\" class=\"dataframe\">\n",
       "  <thead>\n",
       "    <tr style=\"text-align: right;\">\n",
       "      <th></th>\n",
       "      <th>agentId</th>\n",
       "      <th>agentName</th>\n",
       "      <th>x</th>\n",
       "      <th>y</th>\n",
       "    </tr>\n",
       "  </thead>\n",
       "  <tbody>\n",
       "    <tr>\n",
       "      <th>0</th>\n",
       "      <td>00000000e5bd0ae9</td>\n",
       "      <td>Ace</td>\n",
       "      <td>2953.206017</td>\n",
       "      <td>14427.458860</td>\n",
       "    </tr>\n",
       "    <tr>\n",
       "      <th>1</th>\n",
       "      <td>000000006c1a3b5a</td>\n",
       "      <td>Alfa</td>\n",
       "      <td>3323.405966</td>\n",
       "      <td>9086.502512</td>\n",
       "    </tr>\n",
       "    <tr>\n",
       "      <th>2</th>\n",
       "      <td>0000000020294bbd</td>\n",
       "      <td>Beer</td>\n",
       "      <td>3313.076869</td>\n",
       "      <td>2665.631392</td>\n",
       "    </tr>\n",
       "  </tbody>\n",
       "</table>\n",
       "</div>"
      ],
      "text/plain": [
       "            agentId agentName            x             y\n",
       "0  00000000e5bd0ae9       Ace  2953.206017  14427.458860\n",
       "1  000000006c1a3b5a      Alfa  3323.405966   9086.502512\n",
       "2  0000000020294bbd      Beer  3313.076869   2665.631392"
      ]
     },
     "execution_count": 4,
     "metadata": {},
     "output_type": "execute_result"
    }
   ],
   "source": [
    "baseStationData = h.getDFfromCSVURL(\"https://docs.google.com/spreadsheets/d/167pxh_NRq5e9sQV9Zb8Z-Q-kdN7Zy9FCzCp47eVXTuE/pub?gid=1446311565&single=true&output=csv\")\n",
    "\n",
    "#only keep the columns we care about\n",
    "baseStationData = baseStationData.ix[:,0:5]\n",
    "baseStationData = baseStationData.drop([\"location\"], 1)\n",
    "baseStationData = baseStationData[baseStationData.agentId > 0] #not really sure how this works, maybe failure is falsy?\n",
    "baseStationData.head(3)"
   ]
  },
  {
   "cell_type": "markdown",
   "metadata": {},
   "source": [
    "# variable data\n",
    "\n",
    "## Known Locations\n",
    "\n",
    "These are generated by me walking around wearing my badge. I scan each sticker as I pass under it. Because the stickers are so close, it's hard for me to take an ambiguous route between them.\n",
    "\n",
    "The data sets here are test sets. \n",
    "\n",
    "TODO: replace these test sets with a series of 5 minute journeys in an array of URLs."
   ]
  },
  {
   "cell_type": "code",
   "execution_count": 5,
   "metadata": {
    "collapsed": false
   },
   "outputs": [],
   "source": [
    "def getSampleWalkData(url):\n",
    "    firstRefTry = h.getDFfromCSVURL(url, columnNames=[\"stickerID\",\"xstickerID\",\"detectionType\",\"xID\",\"timeStamp\"])\n",
    "    return firstRefTry.drop([\"xstickerID\",\"detectionType\",\"xID\"], 1)"
   ]
  },
  {
   "cell_type": "code",
   "execution_count": 6,
   "metadata": {
    "collapsed": false
   },
   "outputs": [],
   "source": [
    "trainingWalkURLs = [\n",
    " \"https://docs.google.com/spreadsheets/d/1uE_tUItRANypaWxCmZeXWsgFZq_JDG626v4Gg2UQfKg/pub?gid=952022876&single=true&output=csv\",\n",
    " \"https://docs.google.com/spreadsheets/d/1v20slmW6nz8GnA3u8cbWBYpTuT1UwaLHFSm8AYNNr8E/pub?gid=649191784&single=true&output=csv\",\n",
    " \"https://docs.google.com/spreadsheets/d/10QiLgS-oBha4mwwJlzrZb-8BZHb3MPJ7Q3FIrPuTpUA/pub?gid=1669457584&single=true&output=csv\",\n",
    " \"https://docs.google.com/spreadsheets/d/1bU-juDRDXl0mVWGCsPvTppaOf7td51R2cP1P6kxjAk4/pub?gid=1291732418&single=true&output=csv\",\n",
    " \"https://docs.google.com/spreadsheets/d/12YyeEIds7RSKfF1NVLqy3x8F_hidV3lhNwfsJ8UuBRE/pub?gid=2131252797&single=true&output=csv\"\n",
    "]"
   ]
  },
  {
   "cell_type": "markdown",
   "metadata": {},
   "source": [
    "## Get the data and format it ready for use\n",
    "\n",
    "Get all the data from the spreadsheets.\n",
    "\n",
    "Give known positions time and coordinates\n",
    "\n",
    "To make things easier to process later I've joined the coords to the sticker detections\n",
    "\n",
    "`sydTime` is needed because my phone records the sticker detection times in Sydney local time, but everything else is in UTC. It's not used again unless it's needed for debugging. If datlight saving changes, uncomment and check if it works properly. (I hate timezones!)"
   ]
  },
  {
   "cell_type": "code",
   "execution_count": 7,
   "metadata": {
    "collapsed": false
   },
   "outputs": [
    {
     "name": "stdout",
     "output_type": "stream",
     "text": [
      "0: 2016-10-17 00:21:32+00:00 TO 2016-10-17 00:23:50+00:00 (0 days 00:02:18) 23 rows\n",
      "1: 2016-11-02 00:28:58+00:00 TO 2016-11-02 00:46:47+00:00 (0 days 00:17:49) 221 rows\n",
      "2: 2016-11-06 02:20:09+00:00 TO 2016-11-06 02:22:17+00:00 (0 days 00:02:08) 28 rows\n",
      "3: 2016-11-12 04:31:04+00:00 TO 2016-11-12 04:51:12+00:00 (0 days 00:20:08) 231 rows\n",
      "4: 2016-11-09 05:13:43+00:00 TO 2016-11-09 05:20:47+00:00 (0 days 00:07:04) 76 rows\n"
     ]
    }
   ],
   "source": [
    "trainingWalks = []\n",
    "for i, twURL in enumerate(trainingWalkURLs):\n",
    "    thisData = getSampleWalkData(twURL)\n",
    "    richStickerData = thisData.merge(stickerLocations,on=\"stickerID\")\n",
    "    richStickerData['time'] = richStickerData.apply(lambda x: h.sydTimeToUTC(dateutil.parser.parse(x.timeStamp, dayfirst=True)) , axis=1)\n",
    "#     richStickerData['sydtime'] = richStickerData.apply(lambda x: dateutil.parser.parse(x.timeStamp, dayfirst=True) , axis=1)\n",
    "    richStickerData = richStickerData.drop([\"timeStamp\"], 1)\n",
    "    richStickerData = richStickerData.sort_values(\"time\", ascending=1)\n",
    "\n",
    "    print \"{}: {} TO {} ({}) {} rows\".format(i,richStickerData.time.min(), \n",
    "                                 richStickerData.time.max(), \n",
    "                                 richStickerData.time.max() - richStickerData.time.min(),\n",
    "                                 richStickerData.shape[0])\n",
    "    \n",
    "    trainingWalks.append(richStickerData)\n",
    "    \n"
   ]
  },
  {
   "cell_type": "code",
   "execution_count": 8,
   "metadata": {
    "collapsed": false
   },
   "outputs": [
    {
     "data": {
      "text/html": [
       "<div>\n",
       "<table border=\"1\" class=\"dataframe\">\n",
       "  <thead>\n",
       "    <tr style=\"text-align: right;\">\n",
       "      <th></th>\n",
       "      <th>stickerID</th>\n",
       "      <th>x</th>\n",
       "      <th>y</th>\n",
       "      <th>time</th>\n",
       "    </tr>\n",
       "  </thead>\n",
       "  <tbody>\n",
       "    <tr>\n",
       "      <th>27</th>\n",
       "      <td>72</td>\n",
       "      <td>42623.86053</td>\n",
       "      <td>29848.85705</td>\n",
       "      <td>2016-11-06 02:20:09+00:00</td>\n",
       "    </tr>\n",
       "    <tr>\n",
       "      <th>26</th>\n",
       "      <td>73</td>\n",
       "      <td>40623.86053</td>\n",
       "      <td>29848.85705</td>\n",
       "      <td>2016-11-06 02:20:15+00:00</td>\n",
       "    </tr>\n",
       "    <tr>\n",
       "      <th>25</th>\n",
       "      <td>52</td>\n",
       "      <td>38034.91657</td>\n",
       "      <td>28100.28274</td>\n",
       "      <td>2016-11-06 02:20:21+00:00</td>\n",
       "    </tr>\n",
       "    <tr>\n",
       "      <th>24</th>\n",
       "      <td>53</td>\n",
       "      <td>38034.91657</td>\n",
       "      <td>26100.28274</td>\n",
       "      <td>2016-11-06 02:20:26+00:00</td>\n",
       "    </tr>\n",
       "    <tr>\n",
       "      <th>23</th>\n",
       "      <td>54</td>\n",
       "      <td>38034.91657</td>\n",
       "      <td>24100.28274</td>\n",
       "      <td>2016-11-06 02:20:31+00:00</td>\n",
       "    </tr>\n",
       "  </tbody>\n",
       "</table>\n",
       "</div>"
      ],
      "text/plain": [
       "    stickerID            x            y                      time\n",
       "27         72  42623.86053  29848.85705 2016-11-06 02:20:09+00:00\n",
       "26         73  40623.86053  29848.85705 2016-11-06 02:20:15+00:00\n",
       "25         52  38034.91657  28100.28274 2016-11-06 02:20:21+00:00\n",
       "24         53  38034.91657  26100.28274 2016-11-06 02:20:26+00:00\n",
       "23         54  38034.91657  24100.28274 2016-11-06 02:20:31+00:00"
      ]
     },
     "execution_count": 8,
     "metadata": {},
     "output_type": "execute_result"
    }
   ],
   "source": [
    "liveSet = trainingWalks[2]\n",
    "liveSet.head()"
   ]
  },
  {
   "cell_type": "markdown",
   "metadata": {},
   "source": [
    "## Detections\n",
    "\n",
    "This is to get the detection data associated with each journey. This was a _huge_ struggle to get. There is so much data that most attempts failed. It was solved by shaving five second slices off the data. Any more than that and the server choked. I'm not sure why, the data returns from queries on the server, but 5s worth returns almost immediatly, but more times out."
   ]
  },
  {
   "cell_type": "code",
   "execution_count": 9,
   "metadata": {
    "collapsed": false
   },
   "outputs": [],
   "source": [
    "import signal\n",
    "import sys\n",
    "\n",
    "class timeout:\n",
    "    def __init__(self, seconds=1, error_message='Timeout'):\n",
    "        self.seconds = seconds\n",
    "        self.error_message = error_message\n",
    "    def handle_timeout(self, signum, frame):\n",
    "        raise TimeoutError(self.error_message)\n",
    "    def __enter__(self):\n",
    "        signal.signal(signal.SIGALRM, self.handle_timeout)\n",
    "        signal.alarm(self.seconds)\n",
    "    def __exit__(self, type, value, traceback):\n",
    "        signal.alarm(0)       "
   ]
  },
  {
   "cell_type": "code",
   "execution_count": 10,
   "metadata": {
    "collapsed": true
   },
   "outputs": [],
   "source": [
    "def robustRequest(request, headers, tries=10, timeoutSeconds=20):    \n",
    "        response = False\n",
    "        with timeout(seconds=timeoutSeconds):\n",
    "            for i in range(tries):\n",
    "                if not response:\n",
    "                    try:\n",
    "                        response = requests.request(\"GET\", request, headers=headers)\n",
    "                        return response\n",
    "                    except:\n",
    "                        if i == tries-1:\n",
    "                            print \"{}\\nfailed {} times\".format(request, i+1), sys.exc_info()[1]\n",
    "                            return False"
   ]
  },
  {
   "cell_type": "code",
   "execution_count": 11,
   "metadata": {
    "collapsed": true
   },
   "outputs": [],
   "source": [
    "def nSecondWindows(stickerRecordingsRow, personID=304, chunkLength=5.0, chatty=True):\n",
    "    try:\n",
    "        startTime = datetime.datetime.now()\n",
    "\n",
    "        row = stickerRecordingsRow\n",
    "        halfWindow = datetime.timedelta(seconds=chunkLength/2.0)\n",
    "        ws = row.time - halfWindow\n",
    "        we = row.time + halfWindow\n",
    "        url = \"http://ec2-52-65-111-92.ap-southeast-2.compute.amazonaws.com:3000\"\n",
    "        headers = {'authorization': \"Basic \",# + key,\n",
    "                   'content-type':  \"application/json\",\n",
    "                   'cache-control': \"no-cache\"}\n",
    "\n",
    "        request = \"{}/find?minor[]={}&windowstart={}&windowend={}\".format(\n",
    "            url, personID, ws.isoformat(), we.isoformat())\n",
    "\n",
    "        windowDetectionsResponse = robustRequest(request, headers)\n",
    "\n",
    "        if windowDetectionsResponse:\n",
    "\n",
    "            responses = json.loads(windowDetectionsResponse.text)[u'results'][0]\n",
    "            responses = pd.DataFrame.from_dict(responses)\n",
    "            responses['temptime'] = responses.apply(lambda x: dateutil.parser.parse(x.time, dayfirst=True) , axis=1)\n",
    "            responses = responses.drop(['time'], 1)\n",
    "            responses = responses.rename(columns = {'temptime':'time'})\n",
    "            responses = responses.sort_values(\"time\", ascending=1)\n",
    "            \n",
    "            responses = pd.merge(responses,baseStationData,on=[\"agentId\"])\n",
    "            responses = responses.drop([\"agentId\"], 1)\n",
    "            # rescale rssi between 0 and max in positive numbers. Bigger number means more powerful signal\n",
    "            minPower = -100 #min(responses.rssi)\n",
    "            responses['rssiAdj'] = responses.rssi - minPower\n",
    "\n",
    "            if chatty:\n",
    "                print \"index: {}\\n{}\\nstart: {}\\ndetection: {}\\nend: {}\\ntook: {}\\nresult rows: {}\\n\".format(\n",
    "                    row.name,row, ws, row.time, we, datetime.datetime.now() - startTime, responses.shape[0])\n",
    "            \n",
    "            return responses\n",
    "\n",
    "        else:\n",
    "            #the request returned false, so so will we\n",
    "            return False\n",
    "    except:\n",
    "        print \"OH FUCK\"\n",
    "        print sys.exc_info()\n",
    "        print row"
   ]
  },
  {
   "cell_type": "code",
   "execution_count": 12,
   "metadata": {
    "collapsed": false
   },
   "outputs": [],
   "source": [
    "# t=liveSet[:2].apply(nSecondWindows, axis=1) ## can't for the life of me make this work. Maybe post SO question eventually?\n",
    "detections = []\n",
    "for index, row in liveSet.iterrows():\n",
    "    detections.append( nSecondWindows(row, chatty=False) )\n",
    "\n",
    "liveSet[\"detections\"] = detections"
   ]
  },
  {
   "cell_type": "code",
   "execution_count": 13,
   "metadata": {
    "collapsed": false
   },
   "outputs": [
    {
     "data": {
      "text/html": [
       "<div>\n",
       "<table border=\"1\" class=\"dataframe\">\n",
       "  <thead>\n",
       "    <tr style=\"text-align: right;\">\n",
       "      <th></th>\n",
       "      <th>stickerID</th>\n",
       "      <th>x</th>\n",
       "      <th>y</th>\n",
       "      <th>time</th>\n",
       "      <th>detections</th>\n",
       "    </tr>\n",
       "  </thead>\n",
       "  <tbody>\n",
       "    <tr>\n",
       "      <th>27</th>\n",
       "      <td>72</td>\n",
       "      <td>42623.86053</td>\n",
       "      <td>29848.85705</td>\n",
       "      <td>2016-11-06 02:20:09+00:00</td>\n",
       "      <td>minor  rssi                             ti...</td>\n",
       "    </tr>\n",
       "    <tr>\n",
       "      <th>26</th>\n",
       "      <td>73</td>\n",
       "      <td>40623.86053</td>\n",
       "      <td>29848.85705</td>\n",
       "      <td>2016-11-06 02:20:15+00:00</td>\n",
       "      <td>minor  rssi                             ti...</td>\n",
       "    </tr>\n",
       "    <tr>\n",
       "      <th>25</th>\n",
       "      <td>52</td>\n",
       "      <td>38034.91657</td>\n",
       "      <td>28100.28274</td>\n",
       "      <td>2016-11-06 02:20:21+00:00</td>\n",
       "      <td>minor  rssi                             ti...</td>\n",
       "    </tr>\n",
       "    <tr>\n",
       "      <th>24</th>\n",
       "      <td>53</td>\n",
       "      <td>38034.91657</td>\n",
       "      <td>26100.28274</td>\n",
       "      <td>2016-11-06 02:20:26+00:00</td>\n",
       "      <td>minor  rssi                             ti...</td>\n",
       "    </tr>\n",
       "    <tr>\n",
       "      <th>23</th>\n",
       "      <td>54</td>\n",
       "      <td>38034.91657</td>\n",
       "      <td>24100.28274</td>\n",
       "      <td>2016-11-06 02:20:31+00:00</td>\n",
       "      <td>minor  rssi                             ti...</td>\n",
       "    </tr>\n",
       "  </tbody>\n",
       "</table>\n",
       "</div>"
      ],
      "text/plain": [
       "    stickerID            x            y                      time  \\\n",
       "27         72  42623.86053  29848.85705 2016-11-06 02:20:09+00:00   \n",
       "26         73  40623.86053  29848.85705 2016-11-06 02:20:15+00:00   \n",
       "25         52  38034.91657  28100.28274 2016-11-06 02:20:21+00:00   \n",
       "24         53  38034.91657  26100.28274 2016-11-06 02:20:26+00:00   \n",
       "23         54  38034.91657  24100.28274 2016-11-06 02:20:31+00:00   \n",
       "\n",
       "                                           detections  \n",
       "27      minor  rssi                             ti...  \n",
       "26      minor  rssi                             ti...  \n",
       "25      minor  rssi                             ti...  \n",
       "24      minor  rssi                             ti...  \n",
       "23      minor  rssi                             ti...  "
      ]
     },
     "execution_count": 13,
     "metadata": {},
     "output_type": "execute_result"
    }
   ],
   "source": [
    "liveSet.head()"
   ]
  },
  {
   "cell_type": "code",
   "execution_count": 14,
   "metadata": {
    "collapsed": false
   },
   "outputs": [
    {
     "data": {
      "text/html": [
       "<div>\n",
       "<table border=\"1\" class=\"dataframe\">\n",
       "  <thead>\n",
       "    <tr style=\"text-align: right;\">\n",
       "      <th></th>\n",
       "      <th>minor</th>\n",
       "      <th>rssi</th>\n",
       "      <th>time</th>\n",
       "      <th>agentName</th>\n",
       "      <th>x</th>\n",
       "      <th>y</th>\n",
       "      <th>rssiAdj</th>\n",
       "    </tr>\n",
       "  </thead>\n",
       "  <tbody>\n",
       "    <tr>\n",
       "      <th>0</th>\n",
       "      <td>304</td>\n",
       "      <td>-64</td>\n",
       "      <td>2016-11-06 02:22:14.935000+00:00</td>\n",
       "      <td>Bravo</td>\n",
       "      <td>12030.636380</td>\n",
       "      <td>12272.735060</td>\n",
       "      <td>36</td>\n",
       "    </tr>\n",
       "    <tr>\n",
       "      <th>1</th>\n",
       "      <td>304</td>\n",
       "      <td>-76</td>\n",
       "      <td>2016-11-06 02:22:15.890000+00:00</td>\n",
       "      <td>Bravo</td>\n",
       "      <td>12030.636380</td>\n",
       "      <td>12272.735060</td>\n",
       "      <td>24</td>\n",
       "    </tr>\n",
       "    <tr>\n",
       "      <th>2</th>\n",
       "      <td>304</td>\n",
       "      <td>-68</td>\n",
       "      <td>2016-11-06 02:22:17.797000+00:00</td>\n",
       "      <td>Bravo</td>\n",
       "      <td>12030.636380</td>\n",
       "      <td>12272.735060</td>\n",
       "      <td>32</td>\n",
       "    </tr>\n",
       "    <tr>\n",
       "      <th>3</th>\n",
       "      <td>304</td>\n",
       "      <td>-65</td>\n",
       "      <td>2016-11-06 02:22:18.757000+00:00</td>\n",
       "      <td>Bravo</td>\n",
       "      <td>12030.636380</td>\n",
       "      <td>12272.735060</td>\n",
       "      <td>35</td>\n",
       "    </tr>\n",
       "    <tr>\n",
       "      <th>4</th>\n",
       "      <td>304</td>\n",
       "      <td>-64</td>\n",
       "      <td>2016-11-06 02:22:14.938000+00:00</td>\n",
       "      <td>Alfa</td>\n",
       "      <td>3323.405966</td>\n",
       "      <td>9086.502512</td>\n",
       "      <td>36</td>\n",
       "    </tr>\n",
       "  </tbody>\n",
       "</table>\n",
       "</div>"
      ],
      "text/plain": [
       "   minor  rssi                             time agentName             x  \\\n",
       "0    304   -64 2016-11-06 02:22:14.935000+00:00     Bravo  12030.636380   \n",
       "1    304   -76 2016-11-06 02:22:15.890000+00:00     Bravo  12030.636380   \n",
       "2    304   -68 2016-11-06 02:22:17.797000+00:00     Bravo  12030.636380   \n",
       "3    304   -65 2016-11-06 02:22:18.757000+00:00     Bravo  12030.636380   \n",
       "4    304   -64 2016-11-06 02:22:14.938000+00:00      Alfa   3323.405966   \n",
       "\n",
       "              y  rssiAdj  \n",
       "0  12272.735060       36  \n",
       "1  12272.735060       24  \n",
       "2  12272.735060       32  \n",
       "3  12272.735060       35  \n",
       "4   9086.502512       36  "
      ]
     },
     "execution_count": 14,
     "metadata": {},
     "output_type": "execute_result"
    }
   ],
   "source": [
    "liveSet.detections[0].head()"
   ]
  },
  {
   "cell_type": "markdown",
   "metadata": {},
   "source": [
    "## Preview Walk"
   ]
  },
  {
   "cell_type": "code",
   "execution_count": null,
   "metadata": {
    "collapsed": true
   },
   "outputs": [],
   "source": [
    "def timeSliced(fullRow, savePlace, contextDF, personID=304):\n",
    "    df = fullRow.detections\n",
    "\n",
    "    fig, ax = plt.subplots()\n",
    "    \n",
    "    timeFormatString = \"%H:%M:%S\"\n",
    "    title = \"Detections for person {} around {}\".format(personID, fullRow.time.strftime(timeFormatString))\n",
    "    plt.title(title)\n",
    "    \n",
    "    #--- general vvv\n",
    "    \n",
    "    #put the image on the graph as an underlay\n",
    "    img = imread(\"map.png\")\n",
    "    ax.imshow(img, zorder=0, extent=[-1300, 72000, -24000, 41000])\n",
    "    #                                [left,  right, bottom, top  ]\n",
    "    \n",
    "    #put the baseStations on the map \n",
    "    for index, row in baseStationData.iterrows():\n",
    "        ax.text(row.x, row.y, row.agentName, fontsize=8)\n",
    "    ax.scatter(baseStationData.x,baseStationData.y, marker='+')\n",
    "    \n",
    "    #Hide the axis numbers because they don't tell us much\n",
    "    ax.xaxis.set_major_formatter(plt.NullFormatter())\n",
    "    ax.yaxis.set_major_formatter(plt.NullFormatter())\n",
    "    \n",
    "    #--- specific to this animation vvv\n",
    "    \n",
    "    #the sticker labels\n",
    "    for index, row in contextDF.iterrows():\n",
    "        ax.text(row.x, row.y, \"{0:03d}\".format(row.stickerID), fontsize=8)\n",
    "    \n",
    "    #sticker dots\n",
    "    ax.scatter(contextDF.x, contextDF.y, zorder=20)\n",
    "    ax.scatter(stickerLocations.x,stickerLocations.y,s=1,c=\"y\")\n",
    "    \n",
    "    #the path\n",
    "    ax.plot(contextDF.x, contextDF.y, alpha=0.7, linewidth=1, c=\"g\", solid_capstyle='round')\n",
    "    \n",
    "    #--- specific to this frame vvv\n",
    "    \n",
    "    # Plot all the detections onto the map as pale circles\n",
    "    ax.scatter(df.x, df.y, zorder=1, s=abs(df.rssiAdj)*100, alpha=0.2)\n",
    "    \n",
    "    #plot the current window's dot bigger\n",
    "    ax.scatter(fullRow.x, fullRow.y, zorder=30, s=150, c=\"r\")\n",
    "\n",
    "    #--- clean up vvv\n",
    "    \n",
    "    fig.savefig(savePlace+title+\".png\", bbox_inches='tight')\n",
    "    fig.clf()\n",
    "    plt.close()"
   ]
  },
  {
   "cell_type": "code",
   "execution_count": 17,
   "metadata": {
    "collapsed": false
   },
   "outputs": [
    {
     "name": "stdout",
     "output_type": "stream",
     "text": [
      "2016-11-14 18:32:01.795693\n",
      "20 0:00:04.623798\n",
      "10 0:00:11.151391\n",
      "0 0:00:17.623760\n",
      "That took 0:00:18.316100\n"
     ]
    }
   ],
   "source": [
    "savePlace = 'frames/test1/'\n",
    "h.clearFolder(\"/\"+savePlace)\n",
    "#this takes quite a long time if you have a lot of frames\n",
    "startStopwatch = datetime.datetime.now()\n",
    "print startStopwatch\n",
    "\n",
    "for index, row in liveSet.iterrows():\n",
    "    if index%10==0:\n",
    "        print index, datetime.datetime.now() - startStopwatch\n",
    "    timeSliced(row, savePlace, liveSet)\n",
    "\n",
    "print \"That took\", datetime.datetime.now() - startStopwatch"
   ]
  },
  {
   "cell_type": "code",
   "execution_count": 19,
   "metadata": {
    "collapsed": false
   },
   "outputs": [
    {
     "name": "stdout",
     "output_type": "stream",
     "text": [
      "convert -delay 20 -loop 0 frames/test1/*.png SampleWalk4.gif\n"
     ]
    }
   ],
   "source": [
    "h.makeGif(savePlace + \"*.png\", \"SampleWalk4\")"
   ]
  },
  {
   "cell_type": "markdown",
   "metadata": {},
   "source": [
    "![](SampleWalk4.gif)"
   ]
  },
  {
   "cell_type": "markdown",
   "metadata": {},
   "source": [
    "![](SampleWalk3.gif)"
   ]
  },
  {
   "cell_type": "markdown",
   "metadata": {},
   "source": [
    "##straight path\n",
    "\n",
    "![](SampleWalk1.gif)"
   ]
  },
  {
   "cell_type": "markdown",
   "metadata": {},
   "source": [
    "##not straight path\n",
    "![](SampleWalk2.gif)"
   ]
  },
  {
   "cell_type": "code",
   "execution_count": null,
   "metadata": {
    "collapsed": false
   },
   "outputs": [],
   "source": []
  }
 ],
 "metadata": {
  "kernelspec": {
   "display_name": "Python 2",
   "language": "python",
   "name": "python2"
  },
  "language_info": {
   "codemirror_mode": {
    "name": "ipython",
    "version": 2
   },
   "file_extension": ".py",
   "mimetype": "text/x-python",
   "name": "python",
   "nbconvert_exporter": "python",
   "pygments_lexer": "ipython2",
   "version": "2.7.12"
  }
 },
 "nbformat": 4,
 "nbformat_minor": 0
}
