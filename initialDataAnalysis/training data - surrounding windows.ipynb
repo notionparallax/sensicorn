{
 "cells": [
  {
   "cell_type": "code",
   "execution_count": 1,
   "metadata": {
    "collapsed": false
   },
   "outputs": [],
   "source": [
    "import pymongo\n",
    "from pymongo import MongoClient\n",
    "import datetime\n",
    "import dateutil.parser\n",
    "import json\n",
    "import matplotlib\n",
    "import matplotlib.pyplot as plt\n",
    "import numpy as np\n",
    "import os\n",
    "import pandas as pd\n",
    "import requests\n",
    "from scipy.misc import imread\n",
    "from StringIO import StringIO\n",
    "import math\n",
    "import pytz\n",
    "import helpers\n",
    "import sys\n",
    "# Since I moved most of the functions into their own file I haven't cleaned up the imports section. \n",
    "# There is probably unused imports here, but I'd imagine that it's not too much of a problem."
   ]
  },
  {
   "cell_type": "code",
   "execution_count": 2,
   "metadata": {
    "collapsed": false
   },
   "outputs": [],
   "source": [
    "%matplotlib inline\n",
    "plt.rcParams['figure.figsize'] = (20, 10)"
   ]
  },
  {
   "cell_type": "markdown",
   "metadata": {},
   "source": [
    "# Get the data we need\n",
    "\n",
    "To do this analysis, we need to know about the stickers, base stations and detections.\n",
    "\n",
    "Stickers and base stations are static data, they live in google spreadsheets.\n",
    "\n",
    "Detections is from the MongoDB database.\n",
    "\n",
    "---\n",
    "\n",
    "# Fixed locations\n",
    "\n",
    "## Stickers\n",
    "The stickers are the locating items in the space. They are stuck to the ceiling at roughly 2m intervals.\n",
    "\n",
    "TODO: put in the gif of me putting up a sticker and an image of one.\n",
    "\n",
    "They have a QR code on them, so they can be scaned with a phone. That gives us a time stamp and a location.\n",
    "\n",
    "In future we should be able to get orientation and position in field of view because QR codes have a top."
   ]
  },
  {
   "cell_type": "code",
   "execution_count": 3,
   "metadata": {
    "collapsed": false
   },
   "outputs": [
    {
     "data": {
      "text/html": [
       "<div>\n",
       "<table border=\"1\" class=\"dataframe\">\n",
       "  <thead>\n",
       "    <tr style=\"text-align: right;\">\n",
       "      <th></th>\n",
       "      <th>stickerID</th>\n",
       "      <th>x</th>\n",
       "      <th>y</th>\n",
       "    </tr>\n",
       "  </thead>\n",
       "  <tbody>\n",
       "    <tr>\n",
       "      <th>0</th>\n",
       "      <td>1</td>\n",
       "      <td>63852.09440</td>\n",
       "      <td>-13561.617780</td>\n",
       "    </tr>\n",
       "    <tr>\n",
       "      <th>1</th>\n",
       "      <td>2</td>\n",
       "      <td>62985.85359</td>\n",
       "      <td>-11830.460440</td>\n",
       "    </tr>\n",
       "    <tr>\n",
       "      <th>2</th>\n",
       "      <td>3</td>\n",
       "      <td>62985.85359</td>\n",
       "      <td>-9830.460444</td>\n",
       "    </tr>\n",
       "  </tbody>\n",
       "</table>\n",
       "</div>"
      ],
      "text/plain": [
       "   stickerID            x             y\n",
       "0          1  63852.09440 -13561.617780\n",
       "1          2  62985.85359 -11830.460440\n",
       "2          3  62985.85359  -9830.460444"
      ]
     },
     "execution_count": 3,
     "metadata": {},
     "output_type": "execute_result"
    }
   ],
   "source": [
    "stickerLocations = helpers.getDFfromCSVURL(\"https://docs.google.com/spreadsheets/d/1sijQZR2iFLo2FS_3r5gbsuAkaglRz557LWjdLxnPkpE/pub?gid=0&single=true&output=csv\")\n",
    "stickerLocations = stickerLocations.drop([\"raw\",\"z\"], 1) # this is just because we aren't on multiple floors\n",
    "stickerLocations.head(3)"
   ]
  },
  {
   "cell_type": "markdown",
   "metadata": {},
   "source": [
    "## Base Station (Agent) Locations\n",
    "\n",
    "We use the term agent and base station interchangably at the moment. In the future we will probably use agent to mean a simulated occupant, so expect to see base station used more.\n",
    "\n",
    "TODO: put in a base image\n",
    "\n",
    "These are the Raspberry Pi computers that recieve the beacon packets."
   ]
  },
  {
   "cell_type": "code",
   "execution_count": 4,
   "metadata": {
    "collapsed": false
   },
   "outputs": [
    {
     "data": {
      "text/html": [
       "<div>\n",
       "<table border=\"1\" class=\"dataframe\">\n",
       "  <thead>\n",
       "    <tr style=\"text-align: right;\">\n",
       "      <th></th>\n",
       "      <th>agentId</th>\n",
       "      <th>agentName</th>\n",
       "      <th>x</th>\n",
       "      <th>y</th>\n",
       "    </tr>\n",
       "  </thead>\n",
       "  <tbody>\n",
       "    <tr>\n",
       "      <th>0</th>\n",
       "      <td>00000000e5bd0ae9</td>\n",
       "      <td>Ace</td>\n",
       "      <td>2953.206017</td>\n",
       "      <td>14427.458860</td>\n",
       "    </tr>\n",
       "    <tr>\n",
       "      <th>1</th>\n",
       "      <td>000000006c1a3b5a</td>\n",
       "      <td>Alfa</td>\n",
       "      <td>3323.405966</td>\n",
       "      <td>9086.502512</td>\n",
       "    </tr>\n",
       "    <tr>\n",
       "      <th>2</th>\n",
       "      <td>0000000020294bbd</td>\n",
       "      <td>Beer</td>\n",
       "      <td>3313.076869</td>\n",
       "      <td>2665.631392</td>\n",
       "    </tr>\n",
       "  </tbody>\n",
       "</table>\n",
       "</div>"
      ],
      "text/plain": [
       "            agentId agentName            x             y\n",
       "0  00000000e5bd0ae9       Ace  2953.206017  14427.458860\n",
       "1  000000006c1a3b5a      Alfa  3323.405966   9086.502512\n",
       "2  0000000020294bbd      Beer  3313.076869   2665.631392"
      ]
     },
     "execution_count": 4,
     "metadata": {},
     "output_type": "execute_result"
    }
   ],
   "source": [
    "baseStationData = helpers.getDFfromCSVURL(\"https://docs.google.com/spreadsheets/d/167pxh_NRq5e9sQV9Zb8Z-Q-kdN7Zy9FCzCp47eVXTuE/pub?gid=1446311565&single=true&output=csv\")\n",
    "\n",
    "#only keep the columns we care about\n",
    "baseStationData = baseStationData.ix[:,0:5]\n",
    "baseStationData = baseStationData.drop([\"location\"], 1)\n",
    "baseStationData = baseStationData[baseStationData.agentId > 0] #not really sure how this works, maybe failure is falsy?\n",
    "baseStationData.head(3)"
   ]
  },
  {
   "cell_type": "markdown",
   "metadata": {},
   "source": [
    "# variable data\n",
    "\n",
    "## Known Locations\n",
    "\n",
    "These are generated by me walking around wearing my badge. I scan each sticker as I pass under it. Because the stickers are so close, it's hard for me to take an ambiguous route between them.\n",
    "\n",
    "The data sets here are test sets. \n",
    "\n",
    "TODO: replace these test sets with a series of 5 minute journeys in an array of URLs."
   ]
  },
  {
   "cell_type": "code",
   "execution_count": 5,
   "metadata": {
    "collapsed": false
   },
   "outputs": [],
   "source": [
    "trainingWalkURLs = [\n",
    " \"https://docs.google.com/spreadsheets/d/1v20slmW6nz8GnA3u8cbWBYpTuT1UwaLHFSm8AYNNr8E/pub?gid=649191784&single=true&output=csv\",\n",
    " \"https://docs.google.com/spreadsheets/d/10QiLgS-oBha4mwwJlzrZb-8BZHb3MPJ7Q3FIrPuTpUA/pub?gid=1669457584&single=true&output=csv\",\n",
    " \"https://docs.google.com/spreadsheets/d/1bU-juDRDXl0mVWGCsPvTppaOf7td51R2cP1P6kxjAk4/pub?gid=1291732418&single=true&output=csv\",\n",
    " \"https://docs.google.com/spreadsheets/d/12YyeEIds7RSKfF1NVLqy3x8F_hidV3lhNwfsJ8UuBRE/pub?gid=2131252797&single=true&output=csv\"\n",
    "]"
   ]
  },
  {
   "cell_type": "markdown",
   "metadata": {},
   "source": [
    "## Get the data and format it ready for use\n",
    "\n",
    "Get all the data from the spreadsheets.\n",
    "\n",
    "Give known positions time and coordinates\n",
    "\n",
    "To make things easier to process later I've joined the coords to the sticker detections\n",
    "\n",
    "`sydTime` is needed because my phone records the sticker detection times in Sydney local time, but everything else is in UTC. It's not used again unless it's needed for debugging. If datlight saving changes, uncomment and check if it works properly. (I hate timezones!)"
   ]
  },
  {
   "cell_type": "code",
   "execution_count": 6,
   "metadata": {
    "collapsed": false
   },
   "outputs": [
    {
     "name": "stdout",
     "output_type": "stream",
     "text": [
      "0: 2016-11-02 00:28:58+00:00 TO 2016-11-02 00:46:47+00:00 (0 days 00:17:49) 221 rows\n",
      "1: 2016-11-06 02:20:09+00:00 TO 2016-11-06 02:22:17+00:00 (0 days 00:02:08) 28 rows\n",
      "2: 2016-11-12 04:31:04+00:00 TO 2016-11-12 04:51:12+00:00 (0 days 00:20:08) 231 rows\n",
      "3: 2016-11-09 05:13:43+00:00 TO 2016-11-09 05:20:47+00:00 (0 days 00:07:04) 76 rows\n"
     ]
    }
   ],
   "source": [
    "trainingWalks = helpers.getTrainingWalkData(trainingWalkURLs, stickerLocations)"
   ]
  },
  {
   "cell_type": "code",
   "execution_count": 7,
   "metadata": {
    "collapsed": false
   },
   "outputs": [
    {
     "data": {
      "text/html": [
       "<div>\n",
       "<table border=\"1\" class=\"dataframe\">\n",
       "  <thead>\n",
       "    <tr style=\"text-align: right;\">\n",
       "      <th></th>\n",
       "      <th>stickerID</th>\n",
       "      <th>x</th>\n",
       "      <th>y</th>\n",
       "      <th>time</th>\n",
       "    </tr>\n",
       "  </thead>\n",
       "  <tbody>\n",
       "    <tr>\n",
       "      <th>230</th>\n",
       "      <td>163</td>\n",
       "      <td>37113.33215</td>\n",
       "      <td>14324.312730</td>\n",
       "      <td>2016-11-12 04:31:04+00:00</td>\n",
       "    </tr>\n",
       "    <tr>\n",
       "      <th>229</th>\n",
       "      <td>162</td>\n",
       "      <td>37113.33215</td>\n",
       "      <td>12324.312730</td>\n",
       "      <td>2016-11-12 04:31:09+00:00</td>\n",
       "    </tr>\n",
       "    <tr>\n",
       "      <th>228</th>\n",
       "      <td>161</td>\n",
       "      <td>37113.33215</td>\n",
       "      <td>10324.312730</td>\n",
       "      <td>2016-11-12 04:31:14+00:00</td>\n",
       "    </tr>\n",
       "    <tr>\n",
       "      <th>227</th>\n",
       "      <td>160</td>\n",
       "      <td>37113.33215</td>\n",
       "      <td>8324.312731</td>\n",
       "      <td>2016-11-12 04:31:18+00:00</td>\n",
       "    </tr>\n",
       "    <tr>\n",
       "      <th>226</th>\n",
       "      <td>159</td>\n",
       "      <td>36875.44152</td>\n",
       "      <td>6455.449251</td>\n",
       "      <td>2016-11-12 04:31:26+00:00</td>\n",
       "    </tr>\n",
       "  </tbody>\n",
       "</table>\n",
       "</div>"
      ],
      "text/plain": [
       "     stickerID            x             y                      time\n",
       "230        163  37113.33215  14324.312730 2016-11-12 04:31:04+00:00\n",
       "229        162  37113.33215  12324.312730 2016-11-12 04:31:09+00:00\n",
       "228        161  37113.33215  10324.312730 2016-11-12 04:31:14+00:00\n",
       "227        160  37113.33215   8324.312731 2016-11-12 04:31:18+00:00\n",
       "226        159  36875.44152   6455.449251 2016-11-12 04:31:26+00:00"
      ]
     },
     "execution_count": 7,
     "metadata": {},
     "output_type": "execute_result"
    }
   ],
   "source": [
    "liveSet = trainingWalks[2]\n",
    "liveSet.head()"
   ]
  },
  {
   "cell_type": "code",
   "execution_count": 9,
   "metadata": {
    "collapsed": false
   },
   "outputs": [],
   "source": [
    "# t=liveSet[:2].apply(nSecondWindows, axis=1) ## can't for the life of me make this work. Maybe post SO question eventually?\n",
    "\n",
    "detections = []\n",
    "for index, row in liveSet.iterrows():\n",
    "    detections.append( helpers.nSecondWindows(row, baseStationData, personID=304, chunkLength=5.0, chatty=False) )\n",
    "\n",
    "liveSet[\"detections\"] = detections\n"
   ]
  },
  {
   "cell_type": "code",
   "execution_count": 10,
   "metadata": {
    "collapsed": false
   },
   "outputs": [
    {
     "data": {
      "text/html": [
       "<div>\n",
       "<table border=\"1\" class=\"dataframe\">\n",
       "  <thead>\n",
       "    <tr style=\"text-align: right;\">\n",
       "      <th></th>\n",
       "      <th>stickerID</th>\n",
       "      <th>x</th>\n",
       "      <th>y</th>\n",
       "      <th>time</th>\n",
       "      <th>detections</th>\n",
       "    </tr>\n",
       "  </thead>\n",
       "  <tbody>\n",
       "    <tr>\n",
       "      <th>230</th>\n",
       "      <td>163</td>\n",
       "      <td>37113.33215</td>\n",
       "      <td>14324.312730</td>\n",
       "      <td>2016-11-12 04:31:04+00:00</td>\n",
       "      <td>minor  rssi                             tim...</td>\n",
       "    </tr>\n",
       "    <tr>\n",
       "      <th>229</th>\n",
       "      <td>162</td>\n",
       "      <td>37113.33215</td>\n",
       "      <td>12324.312730</td>\n",
       "      <td>2016-11-12 04:31:09+00:00</td>\n",
       "      <td>minor  rssi                             tim...</td>\n",
       "    </tr>\n",
       "    <tr>\n",
       "      <th>228</th>\n",
       "      <td>161</td>\n",
       "      <td>37113.33215</td>\n",
       "      <td>10324.312730</td>\n",
       "      <td>2016-11-12 04:31:14+00:00</td>\n",
       "      <td>minor  rssi                             tim...</td>\n",
       "    </tr>\n",
       "    <tr>\n",
       "      <th>227</th>\n",
       "      <td>160</td>\n",
       "      <td>37113.33215</td>\n",
       "      <td>8324.312731</td>\n",
       "      <td>2016-11-12 04:31:18+00:00</td>\n",
       "      <td>no detections found, deal with this later</td>\n",
       "    </tr>\n",
       "    <tr>\n",
       "      <th>226</th>\n",
       "      <td>159</td>\n",
       "      <td>36875.44152</td>\n",
       "      <td>6455.449251</td>\n",
       "      <td>2016-11-12 04:31:26+00:00</td>\n",
       "      <td>minor  rssi                             ti...</td>\n",
       "    </tr>\n",
       "  </tbody>\n",
       "</table>\n",
       "</div>"
      ],
      "text/plain": [
       "     stickerID            x             y                      time  \\\n",
       "230        163  37113.33215  14324.312730 2016-11-12 04:31:04+00:00   \n",
       "229        162  37113.33215  12324.312730 2016-11-12 04:31:09+00:00   \n",
       "228        161  37113.33215  10324.312730 2016-11-12 04:31:14+00:00   \n",
       "227        160  37113.33215   8324.312731 2016-11-12 04:31:18+00:00   \n",
       "226        159  36875.44152   6455.449251 2016-11-12 04:31:26+00:00   \n",
       "\n",
       "                                            detections  \n",
       "230     minor  rssi                             tim...  \n",
       "229     minor  rssi                             tim...  \n",
       "228     minor  rssi                             tim...  \n",
       "227          no detections found, deal with this later  \n",
       "226      minor  rssi                             ti...  "
      ]
     },
     "execution_count": 10,
     "metadata": {},
     "output_type": "execute_result"
    }
   ],
   "source": [
    "liveSet.head()"
   ]
  },
  {
   "cell_type": "markdown",
   "metadata": {},
   "source": [
    "## Detections\n",
    "\n",
    "This is to get the detection data associated with each journey. This was a _huge_ struggle to get. There is so much data that most attempts failed. It was solved by shaving five second slices off the data. Any more than that and the server choked. I'm not sure why, the data returns from queries on the server, but 5s worth returns almost immediatly, but more times out."
   ]
  },
  {
   "cell_type": "code",
   "execution_count": 23,
   "metadata": {
    "collapsed": false
   },
   "outputs": [
    {
     "ename": "NameError",
     "evalue": "global name 'robustRequest' is not defined",
     "output_type": "error",
     "traceback": [
      "\u001b[0;31m---------------------------------------------------------------------------\u001b[0m",
      "\u001b[0;31mNameError\u001b[0m                                 Traceback (most recent call last)",
      "\u001b[0;32m<ipython-input-23-c98874d3f979>\u001b[0m in \u001b[0;36m<module>\u001b[0;34m()\u001b[0m\n\u001b[1;32m      4\u001b[0m \u001b[0mdetections\u001b[0m \u001b[0;34m=\u001b[0m \u001b[0;34m[\u001b[0m\u001b[0;34m]\u001b[0m\u001b[0;34m\u001b[0m\u001b[0m\n\u001b[1;32m      5\u001b[0m \u001b[0;32mfor\u001b[0m \u001b[0mindex\u001b[0m\u001b[0;34m,\u001b[0m \u001b[0mrow\u001b[0m \u001b[0;32min\u001b[0m \u001b[0mliveSet\u001b[0m\u001b[0;34m.\u001b[0m\u001b[0miterrows\u001b[0m\u001b[0;34m(\u001b[0m\u001b[0;34m)\u001b[0m\u001b[0;34m:\u001b[0m\u001b[0;34m\u001b[0m\u001b[0m\n\u001b[0;32m----> 6\u001b[0;31m     \u001b[0mdetections\u001b[0m\u001b[0;34m.\u001b[0m\u001b[0mappend\u001b[0m\u001b[0;34m(\u001b[0m \u001b[0mnSecondWindows\u001b[0m\u001b[0;34m(\u001b[0m\u001b[0mrow\u001b[0m\u001b[0;34m,\u001b[0m \u001b[0mbaseStationData\u001b[0m\u001b[0;34m,\u001b[0m \u001b[0mchatty\u001b[0m\u001b[0;34m=\u001b[0m\u001b[0mFalse\u001b[0m\u001b[0;34m)\u001b[0m \u001b[0;34m)\u001b[0m\u001b[0;34m\u001b[0m\u001b[0m\n\u001b[0m\u001b[1;32m      7\u001b[0m \u001b[0;34m\u001b[0m\u001b[0m\n\u001b[1;32m      8\u001b[0m \u001b[0mliveSet\u001b[0m\u001b[0;34m[\u001b[0m\u001b[0;34m\"detections\"\u001b[0m\u001b[0;34m]\u001b[0m \u001b[0;34m=\u001b[0m \u001b[0mdetections\u001b[0m\u001b[0;34m\u001b[0m\u001b[0m\n",
      "\u001b[0;32m<ipython-input-22-e7b683177dce>\u001b[0m in \u001b[0;36mnSecondWindows\u001b[0;34m(stickerRecordingsRow, baseStationData, personID, chunkLength, chatty)\u001b[0m\n\u001b[1;32m     15\u001b[0m         url, personID, ws.isoformat(), we.isoformat())\n\u001b[1;32m     16\u001b[0m \u001b[0;34m\u001b[0m\u001b[0m\n\u001b[0;32m---> 17\u001b[0;31m     \u001b[0mwindowDetectionsResponse\u001b[0m \u001b[0;34m=\u001b[0m \u001b[0mrobustRequest\u001b[0m\u001b[0;34m(\u001b[0m\u001b[0mrequest\u001b[0m\u001b[0;34m,\u001b[0m \u001b[0mheaders\u001b[0m\u001b[0;34m)\u001b[0m\u001b[0;34m\u001b[0m\u001b[0m\n\u001b[0m\u001b[1;32m     18\u001b[0m \u001b[0;34m\u001b[0m\u001b[0m\n\u001b[1;32m     19\u001b[0m     \u001b[0;32mif\u001b[0m \u001b[0mwindowDetectionsResponse\u001b[0m\u001b[0;34m:\u001b[0m\u001b[0;34m\u001b[0m\u001b[0m\n",
      "\u001b[0;31mNameError\u001b[0m: global name 'robustRequest' is not defined"
     ]
    }
   ],
   "source": [
    "# t=liveSet[:2].apply(nSecondWindows, axis=1) ## can't for the life of me make this work. Maybe post SO question eventually?\n",
    "\n",
    "\n",
    "detections = []\n",
    "for index, row in liveSet.iterrows():\n",
    "    detections.append( nSecondWindows(row, baseStationData, chatty=False) )\n",
    "\n",
    "liveSet[\"detections\"] = detections"
   ]
  },
  {
   "cell_type": "code",
   "execution_count": 9,
   "metadata": {
    "collapsed": false
   },
   "outputs": [
    {
     "data": {
      "text/html": [
       "<div>\n",
       "<table border=\"1\" class=\"dataframe\">\n",
       "  <thead>\n",
       "    <tr style=\"text-align: right;\">\n",
       "      <th></th>\n",
       "      <th>stickerID</th>\n",
       "      <th>x</th>\n",
       "      <th>y</th>\n",
       "      <th>time</th>\n",
       "      <th>detections</th>\n",
       "    </tr>\n",
       "  </thead>\n",
       "  <tbody>\n",
       "    <tr>\n",
       "      <th>2</th>\n",
       "      <td>88</td>\n",
       "      <td>55964.18531</td>\n",
       "      <td>15890.67113</td>\n",
       "      <td>2016-11-02 00:28:58+00:00</td>\n",
       "      <td>None</td>\n",
       "    </tr>\n",
       "    <tr>\n",
       "      <th>1</th>\n",
       "      <td>88</td>\n",
       "      <td>55964.18531</td>\n",
       "      <td>15890.67113</td>\n",
       "      <td>2016-11-02 00:29:00+00:00</td>\n",
       "      <td>None</td>\n",
       "    </tr>\n",
       "    <tr>\n",
       "      <th>4</th>\n",
       "      <td>87</td>\n",
       "      <td>53964.18531</td>\n",
       "      <td>15890.67113</td>\n",
       "      <td>2016-11-02 00:29:03+00:00</td>\n",
       "      <td>None</td>\n",
       "    </tr>\n",
       "    <tr>\n",
       "      <th>220</th>\n",
       "      <td>86</td>\n",
       "      <td>53236.03541</td>\n",
       "      <td>17162.52123</td>\n",
       "      <td>2016-11-02 00:29:09+00:00</td>\n",
       "      <td>None</td>\n",
       "    </tr>\n",
       "    <tr>\n",
       "      <th>219</th>\n",
       "      <td>175</td>\n",
       "      <td>51770.01103</td>\n",
       "      <td>15890.67113</td>\n",
       "      <td>2016-11-02 00:29:12+00:00</td>\n",
       "      <td>None</td>\n",
       "    </tr>\n",
       "  </tbody>\n",
       "</table>\n",
       "</div>"
      ],
      "text/plain": [
       "     stickerID            x            y                      time detections\n",
       "2           88  55964.18531  15890.67113 2016-11-02 00:28:58+00:00       None\n",
       "1           88  55964.18531  15890.67113 2016-11-02 00:29:00+00:00       None\n",
       "4           87  53964.18531  15890.67113 2016-11-02 00:29:03+00:00       None\n",
       "220         86  53236.03541  17162.52123 2016-11-02 00:29:09+00:00       None\n",
       "219        175  51770.01103  15890.67113 2016-11-02 00:29:12+00:00       None"
      ]
     },
     "execution_count": 9,
     "metadata": {},
     "output_type": "execute_result"
    }
   ],
   "source": [
    "liveSet.head()"
   ]
  },
  {
   "cell_type": "code",
   "execution_count": 10,
   "metadata": {
    "collapsed": false
   },
   "outputs": [
    {
     "ename": "AttributeError",
     "evalue": "'NoneType' object has no attribute 'head'",
     "output_type": "error",
     "traceback": [
      "\u001b[0;31m---------------------------------------------------------------------------\u001b[0m",
      "\u001b[0;31mAttributeError\u001b[0m                            Traceback (most recent call last)",
      "\u001b[0;32m<ipython-input-10-0831acd8d0a4>\u001b[0m in \u001b[0;36m<module>\u001b[0;34m()\u001b[0m\n\u001b[0;32m----> 1\u001b[0;31m \u001b[0mliveSet\u001b[0m\u001b[0;34m.\u001b[0m\u001b[0mdetections\u001b[0m\u001b[0;34m[\u001b[0m\u001b[0;36m0\u001b[0m\u001b[0;34m]\u001b[0m\u001b[0;34m.\u001b[0m\u001b[0mhead\u001b[0m\u001b[0;34m(\u001b[0m\u001b[0;34m)\u001b[0m\u001b[0;34m\u001b[0m\u001b[0m\n\u001b[0m",
      "\u001b[0;31mAttributeError\u001b[0m: 'NoneType' object has no attribute 'head'"
     ]
    }
   ],
   "source": [
    "liveSet.detections[0].head()"
   ]
  },
  {
   "cell_type": "markdown",
   "metadata": {},
   "source": [
    "## Preview Walk"
   ]
  },
  {
   "cell_type": "code",
   "execution_count": null,
   "metadata": {
    "collapsed": false
   },
   "outputs": [],
   "source": [
    "savePlace = 'frames/test1/'\n",
    "helpers.clearFolder(\"/\"+savePlace)\n",
    "#this takes quite a long time if you have a lot of frames\n",
    "startStopwatch = datetime.datetime.now()\n",
    "print startStopwatch\n",
    "\n",
    "for index, row in liveSet.iterrows():\n",
    "    if index%10==0:\n",
    "        print index, datetime.datetime.now() - startStopwatch\n",
    "    helpers.timeSliced(row, savePlace, liveSet, baseStationData, stickerLocations)\n",
    "\n",
    "print \"That took\", datetime.datetime.now() - startStopwatch"
   ]
  },
  {
   "cell_type": "code",
   "execution_count": null,
   "metadata": {
    "collapsed": false
   },
   "outputs": [],
   "source": [
    "helpers.makeGif(savePlace + \"*.png\", \"SampleWalk4\")"
   ]
  },
  {
   "cell_type": "markdown",
   "metadata": {},
   "source": [
    "![](SampleWalk4.gif)"
   ]
  },
  {
   "cell_type": "markdown",
   "metadata": {},
   "source": [
    "![](SampleWalk3.gif)"
   ]
  },
  {
   "cell_type": "markdown",
   "metadata": {},
   "source": [
    "## straight path\n",
    "\n",
    "![](SampleWalk1.gif)"
   ]
  },
  {
   "cell_type": "markdown",
   "metadata": {},
   "source": [
    "## not straight path\n",
    "![](SampleWalk2.gif)"
   ]
  }
 ],
 "metadata": {
  "kernelspec": {
   "display_name": "Python 2",
   "language": "python",
   "name": "python2"
  },
  "language_info": {
   "codemirror_mode": {
    "name": "ipython",
    "version": 2
   },
   "file_extension": ".py",
   "mimetype": "text/x-python",
   "name": "python",
   "nbconvert_exporter": "python",
   "pygments_lexer": "ipython2",
   "version": "2.7.12"
  }
 },
 "nbformat": 4,
 "nbformat_minor": 0
}
